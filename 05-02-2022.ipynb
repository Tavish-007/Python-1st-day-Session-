{
 "cells": [
  {
   "cell_type": "markdown",
   "id": "4bcf787f",
   "metadata": {},
   "source": [
    "### Day-5 Session\n",
    "- 05-02-2022\n"
   ]
  },
  {
   "cell_type": "markdown",
   "id": "0f879177",
   "metadata": {},
   "source": [
    "### File Handling\n",
    "- File: File is a named location or memory used to store relative information.\n",
    "    - .CSV,.PY,.txt,.ipynb,mp4\n",
    "- File handiling: It allow user to handle files.\n",
    "- Compared to other programing languages file handiling is easy in python.\n",
    "- Read and write files.along withh the otherfiles handle options to work on the file.\n",
    "- Steps of the handiling\n",
    "    - Open file.\n",
    "    - Doing operations.\n",
    "    - Close a file.\n",
    "- Open function()\n",
    "    - We use open func() in python to open the file in read and write options.\n",
    "    - To return a object we use in open function() along 2 aurguments that accepts the filename and mode whether read or write.\n",
    "    - syntax::open(filename.mode)\n",
    "    \n",
    "- Modes are three types to open a file\n",
    "    - read()--'r'--->to read a file\n",
    "    - file_variable.read(size)\n",
    "    - write()--'w'--->to write a file\n",
    "    - file_variable.write(data)\n",
    "    - append()--'a'--->to add a information\n",
    "    - file_variable.append(data)\n",
    "\n",
    "- By default the file will open as 'r' mode\n",
    "- close()\n",
    "    - It is used to close a file.\n",
    "    - Every time you have to close a file at end of the operations. Otherwise the changes will not be applicable."
   ]
  },
  {
   "cell_type": "code",
   "execution_count": 2,
   "id": "90783329",
   "metadata": {},
   "outputs": [
    {
     "name": "stdout",
     "output_type": "stream",
     "text": [
      "Sucessfully opened\n"
     ]
    }
   ],
   "source": [
    "f=open(\"data.txt\",\"r\")\n",
    "if f:\n",
    "    print(\"Sucessfully opened\")\n",
    "else:\n",
    "    print(\"Failed\")"
   ]
  },
  {
   "cell_type": "code",
   "execution_count": 6,
   "id": "b17bc99c",
   "metadata": {},
   "outputs": [
    {
     "name": "stdout",
     "output_type": "stream",
     "text": [
      "Hello Good Morning to everyone.\n",
      "\n"
     ]
    }
   ],
   "source": [
    "# Read\n",
    "f=open(\"data.txt\")\n",
    "print(f.read())\n",
    "f.close()"
   ]
  },
  {
   "cell_type": "code",
   "execution_count": 10,
   "id": "e04fb030",
   "metadata": {},
   "outputs": [
    {
     "name": "stdout",
     "output_type": "stream",
     "text": [
      "Hello Good Morning to everyone.\n",
      "\n"
     ]
    }
   ],
   "source": [
    "# Using with keyword automatically fill will be\n",
    "with open(\"data.txt\")as n:\n",
    "    x=n.read()\n",
    "    print(x)"
   ]
  },
  {
   "cell_type": "code",
   "execution_count": 13,
   "id": "78859387",
   "metadata": {},
   "outputs": [
    {
     "name": "stdout",
     "output_type": "stream",
     "text": [
      "18\n"
     ]
    }
   ],
   "source": [
    "file1=open(\"data1.txt\",'w')\n",
    "new=file1.write(\"Python programming\")\n",
    "print(new)\n",
    "file1.close()"
   ]
  },
  {
   "cell_type": "markdown",
   "id": "68fd5d17",
   "metadata": {},
   "source": [
    "### File Handiling methods\n",
    "- Open()\n",
    "- read()\n",
    "- write()\n",
    "- close()\n",
    "- readline()\n",
    "- readlines()\n",
    "- seek()\n",
    "- tell()\n",
    "\n",
    "### Types of MOdes:\n",
    "    - read()--'r'\n",
    "    - write()--'w'\n",
    "    - append()--'a'"
   ]
  },
  {
   "cell_type": "code",
   "execution_count": 1,
   "id": "51b2b69f",
   "metadata": {},
   "outputs": [],
   "source": [
    "f=open('data.txt')"
   ]
  },
  {
   "cell_type": "code",
   "execution_count": 2,
   "id": "7664653d",
   "metadata": {},
   "outputs": [
    {
     "name": "stdout",
     "output_type": "stream",
     "text": [
      "Hello\n"
     ]
    }
   ],
   "source": [
    "info=f.read(5)\n",
    "print(info)"
   ]
  },
  {
   "cell_type": "code",
   "execution_count": 3,
   "id": "d8f6d6b4",
   "metadata": {},
   "outputs": [
    {
     "name": "stdout",
     "output_type": "stream",
     "text": [
      " Good Morning to everyone.\n"
     ]
    }
   ],
   "source": [
    "n=f.read()\n",
    "print(n)"
   ]
  },
  {
   "cell_type": "code",
   "execution_count": 5,
   "id": "98140090",
   "metadata": {},
   "outputs": [],
   "source": [
    "f.close()"
   ]
  },
  {
   "cell_type": "code",
   "execution_count": 6,
   "id": "b1b98b44",
   "metadata": {},
   "outputs": [],
   "source": [
    "# write mode()\n",
    "# it is used to write something in the file.\n",
    "# If file is not their directory.\n",
    "# The file will be created and data will be return in that file."
   ]
  },
  {
   "cell_type": "code",
   "execution_count": 2,
   "id": "2f6ed402",
   "metadata": {},
   "outputs": [
    {
     "name": "stdout",
     "output_type": "stream",
     "text": [
      "<_io.TextIOWrapper name='data.txt' mode='w' encoding='cp1252'>\n"
     ]
    }
   ],
   "source": [
    "fo=open('data.txt','w')\n",
    "fo.write('Goodbye')\n",
    "print(fo)"
   ]
  },
  {
   "cell_type": "code",
   "execution_count": 1,
   "id": "58d74252",
   "metadata": {},
   "outputs": [
    {
     "name": "stdout",
     "output_type": "stream",
     "text": [
      "<_io.TextIOWrapper name='data1.txt' mode='a' encoding='cp1252'>\n"
     ]
    }
   ],
   "source": [
    "f=open('data1.txt','a')\n",
    "fo=f.write(\"This is the class\")\n",
    "print(f)"
   ]
  },
  {
   "cell_type": "code",
   "execution_count": 4,
   "id": "16f14513",
   "metadata": {},
   "outputs": [
    {
     "name": "stdout",
     "output_type": "stream",
     "text": [
      "Goodbye \n",
      "\n",
      "This is the classThis is the class\n"
     ]
    }
   ],
   "source": [
    "f=open('data.txt','r')\n",
    "s=f.readline()\n",
    "print(s)\n",
    "t=f.readline()\n",
    "print(t)"
   ]
  },
  {
   "cell_type": "code",
   "execution_count": 7,
   "id": "5e20dad9",
   "metadata": {},
   "outputs": [
    {
     "name": "stdout",
     "output_type": "stream",
     "text": [
      "number of lines in the file: 2\n"
     ]
    }
   ],
   "source": [
    "with open(\"data.txt\",'r') as f:\n",
    "    no_of_lines=f.readlines()\n",
    "    print(\"number of lines in the file:\",len(no_of_lines))"
   ]
  },
  {
   "cell_type": "code",
   "execution_count": 2,
   "id": "9459d4eb",
   "metadata": {},
   "outputs": [
    {
     "name": "stdout",
     "output_type": "stream",
     "text": [
      "number of lines in the file: 9\n"
     ]
    }
   ],
   "source": [
    "with open(\"data.txt\",'r') as f:\n",
    "    no_of_lines=f.readline()\n",
    "    print(\"number of lines in the file:\",len(no_of_lines))"
   ]
  },
  {
   "cell_type": "code",
   "execution_count": 5,
   "id": "4f8a1dec",
   "metadata": {},
   "outputs": [
    {
     "name": "stdout",
     "output_type": "stream",
     "text": [
      "number of words are: 7\n"
     ]
    }
   ],
   "source": [
    "# no of words in the given file \n",
    "words=0\n",
    "for line in no_of_lines:\n",
    "    words_list=line.split()\n",
    "    words+=len(words_list)\n",
    "print(\"number of words are:\",words)"
   ]
  },
  {
   "cell_type": "code",
   "execution_count": null,
   "id": "bc67f542",
   "metadata": {},
   "outputs": [],
   "source": []
  }
 ],
 "metadata": {
  "kernelspec": {
   "display_name": "Python 3 (ipykernel)",
   "language": "python",
   "name": "python3"
  },
  "language_info": {
   "codemirror_mode": {
    "name": "ipython",
    "version": 3
   },
   "file_extension": ".py",
   "mimetype": "text/x-python",
   "name": "python",
   "nbconvert_exporter": "python",
   "pygments_lexer": "ipython3",
   "version": "3.9.7"
  }
 },
 "nbformat": 4,
 "nbformat_minor": 5
}
