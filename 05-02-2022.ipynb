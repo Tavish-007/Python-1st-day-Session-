{
 "cells": [
  {
   "cell_type": "markdown",
   "id": "5bae9b5d",
   "metadata": {},
   "source": [
    "### Day-5 Session\n",
    "- 05-02-2022"
   ]
  },
  {
   "cell_type": "markdown",
   "id": "9ad9e655",
   "metadata": {},
   "source": [
    "### File Handling\n",
    "- File: File is a named location or memory used to store relative information.\n",
    "    - .CSV,.PY,.txt,.ipynb,mp4\n",
    "- File handiling: It allow user to handle files.\n",
    "- Compared to other programing languages file handiling is easy in python.\n",
    "- Read and write files.along withh the otherfiles handle options to work on the file.\n",
    "- Steps of the handiling\n",
    "    - Open file.\n",
    "    - Doing operations.\n",
    "    - Close a file.\n",
    "- Open function()\n",
    "    - We use open func() in python to open the file in read and write options.\n",
    "    - To return a object we use in open function() along 2 aurguments that accepts the filename and mode whether read or write.\n",
    "    - syntax::open(filename.mode)\n",
    "    \n",
    "- Modes are three types to open a file\n",
    "    - read()--'r'--->to read a file\n",
    "    - file_variable.read(size)\n",
    "    - write()--'w'--->to write a file\n",
    "    - file_variable.write(data)\n",
    "    - append()--'a'--->to add a information\n",
    "    - file_variable.append(data)\n",
    "\n",
    "- By default the file will open as 'r' mode\n",
    "- close()\n",
    "    - It is used to close a file.\n",
    "    - Every time you have to close a file at end of the operations. Otherwise the changes will not be applicable."
   ]
  },
  {
   "cell_type": "code",
   "execution_count": 17,
   "id": "4db59a05",
   "metadata": {},
   "outputs": [
    {
     "name": "stdout",
     "output_type": "stream",
     "text": [
      "Sucessfully opened\n"
     ]
    }
   ],
   "source": [
    "f=open(\"data.txt\",\"r\")\n",
    "if f:\n",
    "    print(\"Sucessfully opened\")\n",
    "else:\n",
    "    print(\"Failed\")"
   ]
  },
  {
   "cell_type": "code",
   "execution_count": 18,
   "id": "137b7896",
   "metadata": {},
   "outputs": [
    {
     "name": "stdout",
     "output_type": "stream",
     "text": [
      "Goodbye\n"
     ]
    }
   ],
   "source": [
    "# Read\n",
    "f=open(\"data.txt\")\n",
    "print(f.read())\n",
    "f.close()"
   ]
  },
  {
   "cell_type": "code",
   "execution_count": 19,
   "id": "91e28eff",
   "metadata": {},
   "outputs": [
    {
     "name": "stdout",
     "output_type": "stream",
     "text": [
      "Goodbye\n"
     ]
    }
   ],
   "source": [
    "# Using with keyword automatically fill will be\n",
    "with open(\"data.txt\")as n:\n",
    "    x=n.read()\n",
    "    print(x)"
   ]
  },
  {
   "cell_type": "code",
   "execution_count": 20,
   "id": "3d8cc667",
   "metadata": {},
   "outputs": [
    {
     "name": "stdout",
     "output_type": "stream",
     "text": [
      "18\n"
     ]
    }
   ],
   "source": [
    "file1=open(\"data1.txt\",'w')\n",
    "new=file1.write(\"Python programming\")\n",
    "print(new)\n",
    "file1.close()"
   ]
  },
  {
   "cell_type": "markdown",
   "id": "349d1359",
   "metadata": {},
   "source": [
    "### File Handiling methods\n",
    "- Open()\n",
    "- read()\n",
    "- write()\n",
    "- close()\n",
    "- readline()\n",
    "- readlines()\n",
    "- seek()\n",
    "- tell()\n",
    "\n",
    "### Types of MOdes:\n",
    "    - read()--'r'\n",
    "    - write()--'w'\n",
    "    - append()--'a'"
   ]
  },
  {
   "cell_type": "code",
   "execution_count": 21,
   "id": "132e5532",
   "metadata": {},
   "outputs": [],
   "source": [
    "f=open('data.txt')"
   ]
  },
  {
   "cell_type": "code",
   "execution_count": 22,
   "id": "09b9fbbf",
   "metadata": {},
   "outputs": [
    {
     "name": "stdout",
     "output_type": "stream",
     "text": [
      "Goodb\n"
     ]
    }
   ],
   "source": [
    "info=f.read(5)\n",
    "print(info)"
   ]
  },
  {
   "cell_type": "code",
   "execution_count": 23,
   "id": "75617b17",
   "metadata": {},
   "outputs": [
    {
     "name": "stdout",
     "output_type": "stream",
     "text": [
      "ye\n"
     ]
    }
   ],
   "source": [
    "n=f.read()\n",
    "print(n)"
   ]
  },
  {
   "cell_type": "code",
   "execution_count": 24,
   "id": "9607325c",
   "metadata": {},
   "outputs": [],
   "source": [
    "f.close()"
   ]
  },
  {
   "cell_type": "code",
   "execution_count": 25,
   "id": "db014255",
   "metadata": {},
   "outputs": [],
   "source": [
    "# write mode()\n",
    "# it is used to write something in the file.\n",
    "# If file is not their directory.\n",
    "# The file will be created and data will be return in that file."
   ]
  },
  {
   "cell_type": "code",
   "execution_count": 26,
   "id": "d591b68b",
   "metadata": {},
   "outputs": [
    {
     "name": "stdout",
     "output_type": "stream",
     "text": [
      "<_io.TextIOWrapper name='data.txt' mode='w' encoding='cp1252'>\n"
     ]
    }
   ],
   "source": [
    "fo=open('data.txt','w')\n",
    "fo.write('Goodbye')\n",
    "print(fo)"
   ]
  },
  {
   "cell_type": "code",
   "execution_count": 27,
   "id": "880bd3bf",
   "metadata": {},
   "outputs": [
    {
     "name": "stdout",
     "output_type": "stream",
     "text": [
      "<_io.TextIOWrapper name='data1.txt' mode='a' encoding='cp1252'>\n"
     ]
    }
   ],
   "source": [
    "f=open('data1.txt','a')\n",
    "fo=f.write(\"This is the class\")\n",
    "print(f)"
   ]
  },
  {
   "cell_type": "code",
   "execution_count": 28,
   "id": "1e04b6d0",
   "metadata": {},
   "outputs": [
    {
     "name": "stdout",
     "output_type": "stream",
     "text": [
      "Goodbye\n",
      "\n"
     ]
    }
   ],
   "source": [
    "f=open('data.txt','r')\n",
    "s=f.readline()\n",
    "print(s)\n",
    "t=f.readline()\n",
    "print(t)"
   ]
  },
  {
   "cell_type": "code",
   "execution_count": 29,
   "id": "e733bc22",
   "metadata": {},
   "outputs": [
    {
     "name": "stdout",
     "output_type": "stream",
     "text": [
      "number of lines in the file: 1\n"
     ]
    }
   ],
   "source": [
    "with open(\"data.txt\",'r') as f:\n",
    "    no_of_lines=f.readlines()\n",
    "    print(\"number of lines in the file:\",len(no_of_lines))"
   ]
  },
  {
   "cell_type": "code",
   "execution_count": 30,
   "id": "eb4a7677",
   "metadata": {},
   "outputs": [
    {
     "name": "stdout",
     "output_type": "stream",
     "text": [
      "number of lines in the file: 7\n"
     ]
    }
   ],
   "source": [
    "with open(\"data.txt\",'r') as f:\n",
    "    no_of_lines=f.readline()\n",
    "    print(\"number of lines in the file:\",len(no_of_lines))"
   ]
  },
  {
   "cell_type": "code",
   "execution_count": 31,
   "id": "e23efb3d",
   "metadata": {},
   "outputs": [
    {
     "name": "stdout",
     "output_type": "stream",
     "text": [
      "number of words are: 7\n"
     ]
    }
   ],
   "source": [
    "# no of words in the given file \n",
    "words=0\n",
    "for line in no_of_lines:\n",
    "    words_list=line.split()\n",
    "    words+=len(words_list)\n",
    "print(\"number of words are:\",words)"
   ]
  },
  {
   "cell_type": "markdown",
   "id": "11ed75d4",
   "metadata": {},
   "source": [
    "### Functions\n",
    "#### Builtin Functions\n",
    "    - Already existed\n",
    "    - Ex: print(),input(),len(),int()\n",
    "#### User defined functions\n",
    "     - Which are defined by the user\n",
    "     - Ex: Any user can create the functions."
   ]
  },
  {
   "cell_type": "code",
   "execution_count": 32,
   "id": "e25bcc1f",
   "metadata": {},
   "outputs": [
    {
     "ename": "SyntaxError",
     "evalue": "invalid syntax (Temp/ipykernel_1736/1709304748.py, line 1)",
     "output_type": "error",
     "traceback": [
      "\u001b[1;36m  File \u001b[1;32m\"C:\\Users\\Lab\\AppData\\Local\\Temp/ipykernel_1736/1709304748.py\"\u001b[1;36m, line \u001b[1;32m1\u001b[0m\n\u001b[1;33m    syntax for functions::\u001b[0m\n\u001b[1;37m           ^\u001b[0m\n\u001b[1;31mSyntaxError\u001b[0m\u001b[1;31m:\u001b[0m invalid syntax\n"
     ]
    }
   ],
   "source": [
    "syntax for functions::\n",
    "def function_name(arguments): # Function definition\n",
    "    statements\n",
    "    statements\n",
    "function_name(parameters) # Function calling"
   ]
  },
  {
   "cell_type": "code",
   "execution_count": 34,
   "id": "3a3b13d4",
   "metadata": {},
   "outputs": [
    {
     "name": "stdout",
     "output_type": "stream",
     "text": [
      "2\n",
      "Even Number\n"
     ]
    }
   ],
   "source": [
    "# even or odd\n",
    "n=int(input())\n",
    "if n%2==0:\n",
    "    print(\"Even Number\")\n",
    "else:\n",
    "    print(\"Odd Number\")"
   ]
  },
  {
   "cell_type": "code",
   "execution_count": 35,
   "id": "6645df7a",
   "metadata": {},
   "outputs": [
    {
     "name": "stdout",
     "output_type": "stream",
     "text": [
      "even\n"
     ]
    }
   ],
   "source": [
    "def even_odd(x):\n",
    "    if x%2==0:\n",
    "        print(\"even\")\n",
    "    else:\n",
    "        print(\"odd\")\n",
    "even_odd(10)"
   ]
  },
  {
   "cell_type": "code",
   "execution_count": 36,
   "id": "cffb208a",
   "metadata": {},
   "outputs": [
    {
     "name": "stdout",
     "output_type": "stream",
     "text": [
      "5\n",
      "odd\n"
     ]
    }
   ],
   "source": [
    "def even_odd(x):\n",
    "    if x%2==0:\n",
    "        print(\"even\")\n",
    "    else:\n",
    "        print(\"odd\")\n",
    "even_odd(int(input()))"
   ]
  },
  {
   "cell_type": "code",
   "execution_count": 37,
   "id": "31fde6d2",
   "metadata": {},
   "outputs": [
    {
     "name": "stdout",
     "output_type": "stream",
     "text": [
      "5\n",
      "prime\n"
     ]
    }
   ],
   "source": [
    "def prime(n):\n",
    "    count=0\n",
    "    for i in range(1,n+1):\n",
    "        if n%i==0:\n",
    "            count+=1\n",
    "    if count==2:\n",
    "        print(\"prime\")\n",
    "    else:\n",
    "        print(\"not prime\")\n",
    "prime(int(input()))"
   ]
  },
  {
   "cell_type": "code",
   "execution_count": null,
   "id": "76dd4914",
   "metadata": {},
   "outputs": [],
   "source": [
    "# is prime\n",
    "def is_prime(x):\n",
    "    for i in range(2,x+1):\n",
    "        if x%2==0:\n",
    "            return False\n",
    "        return True\n",
    "is_prime(int(input()))"
   ]
  },
  {
   "cell_type": "code",
   "execution_count": null,
   "id": "ec305dd6",
   "metadata": {},
   "outputs": [],
   "source": [
    "# Perfect number:: given number is equal to the sum of the factors of that\n",
    "# 6---->1+2+3=6(PERFECT NUMBER)\n",
    "# 8---->1+2+4=7(NOT A PERFECT NUMBER)\n",
    "def perfect_num(a):\n",
    "    fact_sum=0\n",
    "    for i in range(1,a):\n",
    "        if(a%i==0):\n",
    "            fact_sum=fact_sum+i\n",
    "    print(\"Sum of the factors:\",fact_sum)\n",
    "    if a==fact_sum:\n",
    "        print(\"perfect number\")\n",
    "    else:\n",
    "        print(\"not perfect\")\n",
    "perfect_num(int(input()))"
   ]
  },
  {
   "cell_type": "markdown",
   "id": "6f79425d",
   "metadata": {},
   "source": [
    "- Comprehensions\n",
    "- Iterators and generators\n",
    "- Functional programming.\n",
    "\n",
    "### Comprehensions\n",
    "- It is a program of creating new sequence from existing sequence.\n",
    "- Advantages::Less code, easy to understand.\n",
    "#### Types:\n",
    "- List Comprehensions\n",
    "- Dictionary Comprehensions\n",
    "- set Comprehensions\n",
    "- Generator Comprehensions\n",
    "#### List Comprehensions \n",
    "- Easy way to create,more efficient, and also run faster.\n",
    "- Syntax::[expression for  the item in list if condition]"
   ]
  },
  {
   "cell_type": "code",
   "execution_count": null,
   "id": "593384be",
   "metadata": {},
   "outputs": [],
   "source": [
    "# Normal list syntax\n",
    "for item in list:\n",
    "    if condition:\n",
    "        print(\"\")\n",
    "    "
   ]
  },
  {
   "cell_type": "code",
   "execution_count": null,
   "id": "6d1254d7",
   "metadata": {},
   "outputs": [],
   "source": [
    "for i in range (1,11):\n",
    "        print(i,end=\" \")"
   ]
  },
  {
   "cell_type": "code",
   "execution_count": null,
   "id": "546a1f9a",
   "metadata": {},
   "outputs": [],
   "source": [
    "li=[]\n",
    "for i in range(1,11):\n",
    "    li.append(i)\n",
    "print(li)\n"
   ]
  },
  {
   "cell_type": "code",
   "execution_count": null,
   "id": "183be3e3",
   "metadata": {},
   "outputs": [],
   "source": [
    "li=[i for i in range(1,11)]# list comprehensions\n",
    "print(li)"
   ]
  },
  {
   "cell_type": "code",
   "execution_count": null,
   "id": "b42b17bd",
   "metadata": {},
   "outputs": [],
   "source": [
    "li=[i*5 for i in range(1,11)]# list comprehensions\n",
    "print(li)"
   ]
  },
  {
   "cell_type": "code",
   "execution_count": null,
   "id": "e25ba4ed",
   "metadata": {},
   "outputs": [],
   "source": [
    "li=[i for i in range(1,11) if(i%2==0)]# list comprehensions\n",
    "print(li)"
   ]
  },
  {
   "cell_type": "code",
   "execution_count": null,
   "id": "f39c8441",
   "metadata": {},
   "outputs": [],
   "source": [
    "li=[i if(i%2==0) else \"odd \" for i in range(1,11)]\n",
    "print(li)"
   ]
  },
  {
   "cell_type": "code",
   "execution_count": null,
   "id": "71f5e9b9",
   "metadata": {},
   "outputs": [],
   "source": [
    "print([(i,\"even\")if i%2==0 else (i,\"odd\")for i in range (1,11)])"
   ]
  },
  {
   "cell_type": "code",
   "execution_count": null,
   "id": "acf44a95",
   "metadata": {},
   "outputs": [],
   "source": [
    "a=['stay home','stay safe' ] # list\n",
    "li=[]\n",
    "for i in a :\n",
    "    for j in i.split():\n",
    "        li.append(j)\n",
    "print(li)"
   ]
  },
  {
   "cell_type": "code",
   "execution_count": null,
   "id": "fb3f3791",
   "metadata": {},
   "outputs": [],
   "source": [
    "x=[j for i in a for j in i.split()]\n",
    "print(x)"
   ]
  },
  {
   "cell_type": "code",
   "execution_count": null,
   "id": "2eec9378",
   "metadata": {},
   "outputs": [],
   "source": [
    "a=[[i*j for i in range(1,11)] for j in range(1,11)]\n",
    "a"
   ]
  },
  {
   "cell_type": "code",
   "execution_count": null,
   "id": "7aa2230e",
   "metadata": {},
   "outputs": [],
   "source": [
    "# Dictionary Comprehensions \n",
    "id_no=['n7347326','n879327823','i98498']\n",
    "names=['sai','kumar','mr.manikanta']\n",
    "c={}\n",
    "for (key,value)in zip(id_no,names):\n",
    "    c[key]=value\n",
    "print(c)"
   ]
  },
  {
   "cell_type": "code",
   "execution_count": null,
   "id": "e8bb8e90",
   "metadata": {},
   "outputs": [],
   "source": [
    "d={i:i*2 for i in range (1,11)}\n",
    "d"
   ]
  },
  {
   "cell_type": "code",
   "execution_count": null,
   "id": "dccadc13",
   "metadata": {},
   "outputs": [],
   "source": [
    "li=['o','o','o','p','p','p','p','i','i','i','i','i']\n",
    "{i:li.count(i) for i in li}"
   ]
  },
  {
   "cell_type": "code",
   "execution_count": null,
   "id": "7be8099f",
   "metadata": {},
   "outputs": [],
   "source": [
    "#{0:A 1:B 2:C 3:D}\n",
    "d={i:chr(65+i)for i in range(26)}\n",
    "print(d)"
   ]
  },
  {
   "cell_type": "code",
   "execution_count": null,
   "id": "a75340f3",
   "metadata": {},
   "outputs": [],
   "source": [
    "names=['siva','prasad','tavish']\n",
    "d={i:len(i) for i in names}\n",
    "d"
   ]
  },
  {
   "cell_type": "code",
   "execution_count": null,
   "id": "846a8f51",
   "metadata": {},
   "outputs": [],
   "source": [
    "# Set comprehensions\n",
    "s={i*3 for i in range(1,11)if(i%2==0)}\n",
    "s"
   ]
  },
  {
   "cell_type": "code",
   "execution_count": null,
   "id": "6d4f9ffc",
   "metadata": {},
   "outputs": [],
   "source": [
    "# Set comprehensions\n",
    "s={i*3 for i in [1,2,3,4,5,6,7,8]if(i%2==0)}\n",
    "s"
   ]
  },
  {
   "cell_type": "code",
   "execution_count": null,
   "id": "65e26fb0",
   "metadata": {},
   "outputs": [],
   "source": [
    "# get\n",
    "c=(i*3 for i in range(5))\n",
    "c"
   ]
  },
  {
   "cell_type": "markdown",
   "id": "2de4bb2b",
   "metadata": {},
   "source": [
    "#### iterators and Generators\n",
    "- Iterators:iter is an object in python it contains no elements\n",
    "- 2 methods\n",
    "- iter \n",
    "- next\n",
    "- list,set,tuple,dict these are all itterable objects"
   ]
  },
  {
   "cell_type": "code",
   "execution_count": null,
   "id": "e3906afb",
   "metadata": {},
   "outputs": [],
   "source": [
    "a=\"python\"\n",
    "for i in a:\n",
    "    print(i)"
   ]
  },
  {
   "cell_type": "code",
   "execution_count": null,
   "id": "fe395b33",
   "metadata": {},
   "outputs": [],
   "source": [
    "s=iter('python')\n",
    "print(s)\n",
    "print(next(s))\n",
    "print(next(s))\n",
    "print(next(s))"
   ]
  },
  {
   "cell_type": "markdown",
   "id": "f739f378",
   "metadata": {},
   "source": [
    "## Generators\n",
    "- Generators can be used to either functions or comprehensions\n",
    "- It returns a iterator or objects \n",
    "- In generators 'Yield' can be used in place of return.  "
   ]
  },
  {
   "cell_type": "code",
   "execution_count": null,
   "id": "53acebf9",
   "metadata": {},
   "outputs": [],
   "source": [
    "def python():\n",
    "    return 'e'\n",
    "    print('place')\n",
    "python()"
   ]
  },
  {
   "cell_type": "code",
   "execution_count": null,
   "id": "a2e20ed7",
   "metadata": {},
   "outputs": [],
   "source": [
    "def python():\n",
    "    yeild 'mango'\n",
    "    yeild 'mango'\n",
    "    "
   ]
  },
  {
   "cell_type": "markdown",
   "id": "e48f0995",
   "metadata": {},
   "source": [
    "### Functional Programming\n",
    "- lambda\n",
    "- map\n",
    "- filter\n",
    "- reduce"
   ]
  },
  {
   "cell_type": "markdown",
   "id": "763d41fe",
   "metadata": {},
   "source": [
    "### Lambda\n",
    "- Anonymous function or single line function \n",
    "- single expression, no of arguments\n",
    "- syntax::lambda aurguments:expression"
   ]
  },
  {
   "cell_type": "code",
   "execution_count": null,
   "id": "e1991dc9",
   "metadata": {},
   "outputs": [],
   "source": [
    "def add(a,b):\n",
    "    return a+b\n",
    "add(4,5)"
   ]
  },
  {
   "cell_type": "code",
   "execution_count": null,
   "id": "e8ee6dc3",
   "metadata": {},
   "outputs": [],
   "source": [
    "b=lambda a,b:a+b\n",
    "print(b(4,5))"
   ]
  },
  {
   "cell_type": "markdown",
   "id": "932cb593",
   "metadata": {},
   "source": [
    "### Map\n",
    "- syntax::map(function:iterable)"
   ]
  },
  {
   "cell_type": "code",
   "execution_count": null,
   "id": "a7b0025b",
   "metadata": {},
   "outputs": [],
   "source": [
    "s=set(map(lambda i:i*2,[1,2,3,4,5,6,7,8]))\n",
    "s"
   ]
  },
  {
   "cell_type": "code",
   "execution_count": null,
   "id": "72ea5bb3",
   "metadata": {},
   "outputs": [],
   "source": [
    "def mul(i):\n",
    "    return i*3"
   ]
  },
  {
   "cell_type": "code",
   "execution_count": null,
   "id": "97caff78",
   "metadata": {},
   "outputs": [],
   "source": [
    "li=list(map(mul,[1,2,3,4,5]))\n",
    "li"
   ]
  },
  {
   "cell_type": "markdown",
   "id": "ded8429f",
   "metadata": {},
   "source": [
    "### Filter\n",
    "- syntax:filter(function,iterable)\n",
    "- map takes all objects in a list and allows you to apply a funtion to it.\n",
    "- filter takes all objects in a list and it runs that throught a function to create a new with all objects"
   ]
  },
  {
   "cell_type": "code",
   "execution_count": null,
   "id": "ed6dbaff",
   "metadata": {},
   "outputs": [],
   "source": [
    "nums=[34,56,78,12,13,24,25]\n",
    "\n",
    "def lower_fun(a):\n",
    "    if a<=60:\n",
    "        return True\n",
    "    else:\n",
    "        return False"
   ]
  },
  {
   "cell_type": "code",
   "execution_count": null,
   "id": "03f7d7a0",
   "metadata": {},
   "outputs": [],
   "source": [
    "a=list(filter((lower_fun),nums))\n",
    "print(a)\n",
    "#for i in a:\n",
    "#    print(i,end=\" \")\n"
   ]
  },
  {
   "cell_type": "code",
   "execution_count": null,
   "id": "5664f61a",
   "metadata": {},
   "outputs": [],
   "source": [
    "#filter with lambda\n",
    "li=list(filter(lambda x:x>30,nums))\n",
    "print(li)"
   ]
  },
  {
   "cell_type": "markdown",
   "id": "26549fc5",
   "metadata": {},
   "source": [
    "### Reduce\n",
    "- it return single value\n",
    "- ruduce is the one of method of functiontool(it returns sum of all elements in reduce) -from functool we import reduce syntax:reduce(funtion,iterble)\n"
   ]
  },
  {
   "cell_type": "code",
   "execution_count": null,
   "id": "3c12c41f",
   "metadata": {},
   "outputs": [],
   "source": []
  }
 ],
 "metadata": {
  "kernelspec": {
   "display_name": "Python 3 (ipykernel)",
   "language": "python",
   "name": "python3"
  },
  "language_info": {
   "codemirror_mode": {
    "name": "ipython",
    "version": 3
   },
   "file_extension": ".py",
   "mimetype": "text/x-python",
   "name": "python",
   "nbconvert_exporter": "python",
   "pygments_lexer": "ipython3",
   "version": "3.9.7"
  }
 },
 "nbformat": 4,
 "nbformat_minor": 5
}
