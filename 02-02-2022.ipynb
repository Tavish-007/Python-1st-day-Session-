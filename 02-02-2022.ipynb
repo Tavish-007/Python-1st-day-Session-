{
 "cells": [
  {
   "cell_type": "markdown",
   "id": "d39aa516",
   "metadata": {},
   "source": [
    "## Day-2 Session\n",
    "### 02-02-2022\n"
   ]
  },
  {
   "cell_type": "markdown",
   "id": "2fa0dd93",
   "metadata": {},
   "source": [
    "### Input and Output Methods\n",
    "- Reading the data or information from the user----***input()***  \n",
    "    - Static input\n",
    "    - Dynamic input\n",
    "- Displaying the information or data to the user----***print()***\n"
   ]
  },
  {
   "cell_type": "code",
   "execution_count": 1,
   "id": "4aec6d53",
   "metadata": {},
   "outputs": [
    {
     "name": "stdout",
     "output_type": "stream",
     "text": [
      "10\n"
     ]
    },
    {
     "data": {
      "text/plain": [
       "'10'"
      ]
     },
     "execution_count": 1,
     "metadata": {},
     "output_type": "execute_result"
    }
   ],
   "source": [
    "a=input()\n",
    "a"
   ]
  },
  {
   "cell_type": "code",
   "execution_count": 2,
   "id": "5bbfb015",
   "metadata": {},
   "outputs": [
    {
     "name": "stdout",
     "output_type": "stream",
     "text": [
      "20\n"
     ]
    },
    {
     "data": {
      "text/plain": [
       "'20'"
      ]
     },
     "execution_count": 2,
     "metadata": {},
     "output_type": "execute_result"
    }
   ],
   "source": [
    "a=input()\n",
    "a"
   ]
  },
  {
   "cell_type": "code",
   "execution_count": 3,
   "id": "3b030c48",
   "metadata": {},
   "outputs": [
    {
     "name": "stdout",
     "output_type": "stream",
     "text": [
      "Enter user value=55\n"
     ]
    },
    {
     "data": {
      "text/plain": [
       "'55'"
      ]
     },
     "execution_count": 3,
     "metadata": {},
     "output_type": "execute_result"
    }
   ],
   "source": [
    "a=input(\"Enter user value=\")\n",
    "a"
   ]
  },
  {
   "cell_type": "code",
   "execution_count": 4,
   "id": "4fd4a20d",
   "metadata": {},
   "outputs": [
    {
     "name": "stdout",
     "output_type": "stream",
     "text": [
      "50\n",
      "60\n"
     ]
    }
   ],
   "source": [
    "a=50\n",
    "b=60\n",
    "print(a)\n",
    "print(b)"
   ]
  },
  {
   "cell_type": "code",
   "execution_count": 5,
   "id": "74310c06",
   "metadata": {},
   "outputs": [
    {
     "name": "stdout",
     "output_type": "stream",
     "text": [
      "Enter the user value55\n"
     ]
    },
    {
     "data": {
      "text/plain": [
       "55.0"
      ]
     },
     "execution_count": 5,
     "metadata": {},
     "output_type": "execute_result"
    }
   ],
   "source": [
    "a=float(input(\"Enter the user value\"))\n",
    "a\n"
   ]
  },
  {
   "cell_type": "code",
   "execution_count": 6,
   "id": "ab106cc2",
   "metadata": {},
   "outputs": [
    {
     "name": "stdout",
     "output_type": "stream",
     "text": [
      "Enter a value68\n",
      "68\n"
     ]
    }
   ],
   "source": [
    "a=input(\"Enter a value\")\n",
    "print(a)"
   ]
  },
  {
   "cell_type": "code",
   "execution_count": 7,
   "id": "4bd6adbc",
   "metadata": {},
   "outputs": [
    {
     "name": "stdout",
     "output_type": "stream",
     "text": [
      "Enter a value\t78\n",
      "78\n"
     ]
    }
   ],
   "source": [
    "a=input(\"Enter a value\\t\")\n",
    "print(a)"
   ]
  },
  {
   "cell_type": "code",
   "execution_count": 8,
   "id": "0c362afc",
   "metadata": {},
   "outputs": [
    {
     "name": "stdout",
     "output_type": "stream",
     "text": [
      "20 30 40\n"
     ]
    }
   ],
   "source": [
    "a=20\n",
    "b=30\n",
    "c=40\n",
    "print(a,b,c)"
   ]
  },
  {
   "cell_type": "code",
   "execution_count": 9,
   "id": "548263a3",
   "metadata": {},
   "outputs": [
    {
     "name": "stdout",
     "output_type": "stream",
     "text": [
      "20,30,40%"
     ]
    }
   ],
   "source": [
    "a=20\n",
    "b=30\n",
    "c=40\n",
    "print(a,b,c,sep=\",\",end=\"%\")"
   ]
  },
  {
   "cell_type": "code",
   "execution_count": 10,
   "id": "911d0d18",
   "metadata": {},
   "outputs": [
    {
     "name": "stdout",
     "output_type": "stream",
     "text": [
      "20,30,40\n",
      "40\n"
     ]
    }
   ],
   "source": [
    "a=20\n",
    "b=30\n",
    "c=40\n",
    "print(a,b,c,sep=\",\",end=\"\\n\")\n",
    "print(c)"
   ]
  },
  {
   "cell_type": "code",
   "execution_count": 11,
   "id": "6b5f2737",
   "metadata": {},
   "outputs": [
    {
     "name": "stdout",
     "output_type": "stream",
     "text": [
      "Help on built-in function print in module builtins:\n",
      "\n",
      "print(...)\n",
      "    print(value, ..., sep=' ', end='\\n', file=sys.stdout, flush=False)\n",
      "    \n",
      "    Prints the values to a stream, or to sys.stdout by default.\n",
      "    Optional keyword arguments:\n",
      "    file:  a file-like object (stream); defaults to the current sys.stdout.\n",
      "    sep:   string inserted between values, default a space.\n",
      "    end:   string appended after the last value, default a newline.\n",
      "    flush: whether to forcibly flush the stream.\n",
      "\n"
     ]
    }
   ],
   "source": [
    "help(print)"
   ]
  },
  {
   "cell_type": "code",
   "execution_count": 12,
   "id": "ae152f00",
   "metadata": {},
   "outputs": [
    {
     "name": "stdout",
     "output_type": "stream",
     "text": [
      "Enter the value a=55\n",
      "Enter the value b=66\n",
      "Enter the value c=45\n",
      "55$ 66$ 45%\n",
      " 55 45\n"
     ]
    }
   ],
   "source": [
    "# Generate three values from the user the value separate with $ and end with % \n",
    "a=input(\"Enter the value a=\")\n",
    "b=input(\"Enter the value b=\")\n",
    "c=input(\"Enter the value c=\")\n",
    "print(a,b,c,sep=\"$ \",end=\"%\")\n",
    "print(\"\\n\",a,c)"
   ]
  },
  {
   "cell_type": "markdown",
   "id": "2cea1841",
   "metadata": {},
   "source": [
    "### Operators\n",
    "- Arithmatic operators(+,-,*,**,/,//,%)\n",
    "    - Output for the normal division is quotient\n",
    "    - Output for the integer division or floor division is integer part of the quotient.\n",
    "    - Output for the module division is remainder.\n",
    "- Assignment operators(=)\n",
    "- Comparision operators(<,>,<=,>=,==)\n",
    "- Logical operators(and,or,not)\n",
    "- Bitwise operators(&,|,^)\n",
    "- Identity operators(is(==),isnot(!=))\n",
    "- Membership operators(in,notin)"
   ]
  },
  {
   "cell_type": "markdown",
   "id": "a92cb719",
   "metadata": {},
   "source": [
    "### Arithmatic operators"
   ]
  },
  {
   "cell_type": "code",
   "execution_count": 13,
   "id": "25963654",
   "metadata": {},
   "outputs": [
    {
     "name": "stdout",
     "output_type": "stream",
     "text": [
      "Addition 9\n",
      "Subtraction 5\n",
      "Multiplication 14\n",
      "Power 49\n",
      "Division 3.5\n",
      "int division or floor division 3\n",
      "Modulo division 1\n"
     ]
    }
   ],
   "source": [
    "a=7\n",
    "b=2\n",
    "print(\"Addition\",a+b)\n",
    "print(\"Subtraction\",a-b)\n",
    "print(\"Multiplication\",a*b)\n",
    "print(\"Power\",a**b)\n",
    "print(\"Division\",a/b)\n",
    "print(\"int division or floor division\",a//b)\n",
    "print(\"Modulo division\",a%b)"
   ]
  },
  {
   "cell_type": "markdown",
   "id": "ae3fa820",
   "metadata": {},
   "source": [
    "### Assignment operators\n",
    "- It is represented with \"=\"\n",
    "- Leftside value of the operator(=) is called as variable.\n",
    "- Rightside value of the operator(=) is called as value."
   ]
  },
  {
   "cell_type": "code",
   "execution_count": 14,
   "id": "194d22c6",
   "metadata": {},
   "outputs": [
    {
     "name": "stdout",
     "output_type": "stream",
     "text": [
      "50\n",
      "60\n"
     ]
    }
   ],
   "source": [
    "a=50\n",
    "b=60\n",
    "print(a)\n",
    "print(b)\n"
   ]
  },
  {
   "cell_type": "markdown",
   "id": "0d5575cd",
   "metadata": {},
   "source": [
    "### Comparision operators"
   ]
  },
  {
   "cell_type": "code",
   "execution_count": 15,
   "id": "b1a22cfd",
   "metadata": {},
   "outputs": [
    {
     "data": {
      "text/plain": [
       "False"
      ]
     },
     "execution_count": 15,
     "metadata": {},
     "output_type": "execute_result"
    }
   ],
   "source": [
    "2>5"
   ]
  },
  {
   "cell_type": "code",
   "execution_count": 16,
   "id": "155f34cd",
   "metadata": {},
   "outputs": [
    {
     "data": {
      "text/plain": [
       "True"
      ]
     },
     "execution_count": 16,
     "metadata": {},
     "output_type": "execute_result"
    }
   ],
   "source": [
    "2<5"
   ]
  },
  {
   "cell_type": "code",
   "execution_count": 17,
   "id": "3ca174a0",
   "metadata": {},
   "outputs": [
    {
     "name": "stdout",
     "output_type": "stream",
     "text": [
      "Leave it\n"
     ]
    }
   ],
   "source": [
    "if 2>9 and 2<=6:\n",
    "    print(\"print true or false\")\n",
    "else:\n",
    "    print(\"Leave it\")"
   ]
  },
  {
   "cell_type": "code",
   "execution_count": 18,
   "id": "a3b3850e",
   "metadata": {},
   "outputs": [
    {
     "data": {
      "text/plain": [
       "False"
      ]
     },
     "execution_count": 18,
     "metadata": {},
     "output_type": "execute_result"
    }
   ],
   "source": [
    "2>=7"
   ]
  },
  {
   "cell_type": "code",
   "execution_count": 19,
   "id": "46fda94c",
   "metadata": {},
   "outputs": [
    {
     "data": {
      "text/plain": [
       "True"
      ]
     },
     "execution_count": 19,
     "metadata": {},
     "output_type": "execute_result"
    }
   ],
   "source": [
    "2<=6"
   ]
  },
  {
   "cell_type": "markdown",
   "id": "e43ce1df",
   "metadata": {},
   "source": [
    "### Logical Operators\n",
    "- and,or,not\n",
    "- If all the inputs are true the output is True (and)\n",
    "- If any of the input is true the output is true (or)\n",
    "- Opposite operation for the given one (not)"
   ]
  },
  {
   "cell_type": "code",
   "execution_count": 20,
   "id": "abadf44d",
   "metadata": {},
   "outputs": [
    {
     "data": {
      "text/plain": [
       "False"
      ]
     },
     "execution_count": 20,
     "metadata": {},
     "output_type": "execute_result"
    }
   ],
   "source": [
    "2>5 and 3<6"
   ]
  },
  {
   "cell_type": "code",
   "execution_count": 21,
   "id": "a5bb64aa",
   "metadata": {},
   "outputs": [
    {
     "data": {
      "text/plain": [
       "True"
      ]
     },
     "execution_count": 21,
     "metadata": {},
     "output_type": "execute_result"
    }
   ],
   "source": [
    "2<5 and 3<6"
   ]
  },
  {
   "cell_type": "code",
   "execution_count": 22,
   "id": "cf3765cf",
   "metadata": {},
   "outputs": [
    {
     "data": {
      "text/plain": [
       "True"
      ]
     },
     "execution_count": 22,
     "metadata": {},
     "output_type": "execute_result"
    }
   ],
   "source": [
    "2<5 or 3<6"
   ]
  },
  {
   "cell_type": "code",
   "execution_count": 23,
   "id": "24b4f4e2",
   "metadata": {},
   "outputs": [
    {
     "data": {
      "text/plain": [
       "True"
      ]
     },
     "execution_count": 23,
     "metadata": {},
     "output_type": "execute_result"
    }
   ],
   "source": [
    "2>5 or 3<6"
   ]
  },
  {
   "cell_type": "code",
   "execution_count": 24,
   "id": "d08292b9",
   "metadata": {},
   "outputs": [
    {
     "data": {
      "text/plain": [
       "False"
      ]
     },
     "execution_count": 24,
     "metadata": {},
     "output_type": "execute_result"
    }
   ],
   "source": [
    "2>5 or 3>6"
   ]
  },
  {
   "cell_type": "code",
   "execution_count": 25,
   "id": "597f0f7d",
   "metadata": {},
   "outputs": [
    {
     "data": {
      "text/plain": [
       "100"
      ]
     },
     "execution_count": 25,
     "metadata": {},
     "output_type": "execute_result"
    }
   ],
   "source": [
    "a=100\n",
    "a"
   ]
  },
  {
   "cell_type": "code",
   "execution_count": 26,
   "id": "7b8b8208",
   "metadata": {},
   "outputs": [
    {
     "data": {
      "text/plain": [
       "False"
      ]
     },
     "execution_count": 26,
     "metadata": {},
     "output_type": "execute_result"
    }
   ],
   "source": [
    "a=100\n",
    "not a"
   ]
  },
  {
   "cell_type": "code",
   "execution_count": 27,
   "id": "548f6fa6",
   "metadata": {},
   "outputs": [
    {
     "data": {
      "text/plain": [
       "True"
      ]
     },
     "execution_count": 27,
     "metadata": {},
     "output_type": "execute_result"
    }
   ],
   "source": [
    "a=False\n",
    "not a"
   ]
  },
  {
   "cell_type": "markdown",
   "id": "1b7eb724",
   "metadata": {},
   "source": [
    "### Bitwise Operators"
   ]
  },
  {
   "cell_type": "code",
   "execution_count": 28,
   "id": "50921412",
   "metadata": {},
   "outputs": [
    {
     "data": {
      "text/plain": [
       "2"
      ]
     },
     "execution_count": 28,
     "metadata": {},
     "output_type": "execute_result"
    }
   ],
   "source": [
    "2 & 3\n",
    "# 2-0 0 1 0\n",
    "# 3-0 0 1 1\n",
    "# ----------\n",
    "# - 0 0 1 0 "
   ]
  },
  {
   "cell_type": "code",
   "execution_count": 29,
   "id": "bcbb6857",
   "metadata": {},
   "outputs": [
    {
     "data": {
      "text/plain": [
       "7"
      ]
     },
     "execution_count": 29,
     "metadata": {},
     "output_type": "execute_result"
    }
   ],
   "source": [
    "2|7"
   ]
  },
  {
   "cell_type": "code",
   "execution_count": 30,
   "id": "836791a8",
   "metadata": {},
   "outputs": [
    {
     "data": {
      "text/plain": [
       "3"
      ]
     },
     "execution_count": 30,
     "metadata": {},
     "output_type": "execute_result"
    }
   ],
   "source": [
    "2|3"
   ]
  },
  {
   "cell_type": "markdown",
   "id": "d53f334b",
   "metadata": {},
   "source": [
    "### Identity Opeartors"
   ]
  },
  {
   "cell_type": "code",
   "execution_count": 31,
   "id": "9288fc5c",
   "metadata": {},
   "outputs": [
    {
     "name": "stderr",
     "output_type": "stream",
     "text": [
      "<>:2: SyntaxWarning: \"is\" with a literal. Did you mean \"==\"?\n",
      "<>:2: SyntaxWarning: \"is not\" with a literal. Did you mean \"!=\"?\n",
      "<>:2: SyntaxWarning: \"is\" with a literal. Did you mean \"==\"?\n",
      "<>:2: SyntaxWarning: \"is not\" with a literal. Did you mean \"!=\"?\n",
      "C:\\Users\\Lab\\AppData\\Local\\Temp/ipykernel_2348/2908208210.py:2: SyntaxWarning: \"is\" with a literal. Did you mean \"==\"?\n",
      "  a is 100 and a is not 100\n",
      "C:\\Users\\Lab\\AppData\\Local\\Temp/ipykernel_2348/2908208210.py:2: SyntaxWarning: \"is not\" with a literal. Did you mean \"!=\"?\n",
      "  a is 100 and a is not 100\n"
     ]
    },
    {
     "data": {
      "text/plain": [
       "False"
      ]
     },
     "execution_count": 31,
     "metadata": {},
     "output_type": "execute_result"
    }
   ],
   "source": [
    "# Identity operators\n",
    "a is 100 and a is not 100"
   ]
  },
  {
   "cell_type": "code",
   "execution_count": 32,
   "id": "abea1723",
   "metadata": {},
   "outputs": [
    {
     "data": {
      "text/plain": [
       "False"
      ]
     },
     "execution_count": 32,
     "metadata": {},
     "output_type": "execute_result"
    }
   ],
   "source": [
    "a==100 and a!=100"
   ]
  },
  {
   "cell_type": "markdown",
   "id": "05d0f00a",
   "metadata": {},
   "source": [
    "## Membership Operators"
   ]
  },
  {
   "cell_type": "code",
   "execution_count": 33,
   "id": "716aedcb",
   "metadata": {},
   "outputs": [
    {
     "data": {
      "text/plain": [
       "True"
      ]
     },
     "execution_count": 33,
     "metadata": {},
     "output_type": "execute_result"
    }
   ],
   "source": [
    "a=[1,2,3,7,8]\n",
    "3 in a"
   ]
  },
  {
   "cell_type": "code",
   "execution_count": 34,
   "id": "da3b1a59",
   "metadata": {},
   "outputs": [
    {
     "data": {
      "text/plain": [
       "False"
      ]
     },
     "execution_count": 34,
     "metadata": {},
     "output_type": "execute_result"
    }
   ],
   "source": [
    "a=[1,2,3,7,8]\n",
    "4 in a"
   ]
  },
  {
   "cell_type": "code",
   "execution_count": 35,
   "id": "11a7b734",
   "metadata": {},
   "outputs": [
    {
     "data": {
      "text/plain": [
       "True"
      ]
     },
     "execution_count": 35,
     "metadata": {},
     "output_type": "execute_result"
    }
   ],
   "source": [
    "7 in a"
   ]
  },
  {
   "cell_type": "code",
   "execution_count": 36,
   "id": "4fc956d6",
   "metadata": {},
   "outputs": [
    {
     "name": "stdout",
     "output_type": "stream",
     "text": [
      "56\n",
      "55\n",
      "55\n",
      "55.0\n"
     ]
    }
   ],
   "source": [
    "a=55\n",
    "a+=1  #------->a=a+1\n",
    "print(a)\n",
    "a-=1  #------->a=a-1\n",
    "print(a)\n",
    "a*=1  #------->a=a*1\n",
    "print(a)\n",
    "a/=1  #------->a=a/1\n",
    "print(a)"
   ]
  },
  {
   "cell_type": "markdown",
   "id": "8b91f502",
   "metadata": {},
   "source": [
    "### Flow control\n",
    "- Conditional satements(if,else,else-if,nested if)\n",
    "- Loops(for,while)\n",
    "- Break,Return"
   ]
  },
  {
   "cell_type": "code",
   "execution_count": 37,
   "id": "2193e9b1",
   "metadata": {},
   "outputs": [
    {
     "data": {
      "text/plain": [
       "'C-Language\\nif(condition)\\n{\\n    print(a)\\n}'"
      ]
     },
     "execution_count": 37,
     "metadata": {},
     "output_type": "execute_result"
    }
   ],
   "source": [
    "'''C-Language\n",
    "if(condition)\n",
    "{\n",
    "    print(a)\n",
    "}'''"
   ]
  },
  {
   "cell_type": "markdown",
   "id": "7413d856",
   "metadata": {},
   "source": [
    "### Conditional statements"
   ]
  },
  {
   "cell_type": "code",
   "execution_count": 38,
   "id": "c91f926e",
   "metadata": {},
   "outputs": [
    {
     "ename": "SyntaxError",
     "evalue": "invalid syntax (Temp/ipykernel_2348/1740280430.py, line 3)",
     "output_type": "error",
     "traceback": [
      "\u001b[1;36m  File \u001b[1;32m\"C:\\Users\\Lab\\AppData\\Local\\Temp/ipykernel_2348/1740280430.py\"\u001b[1;36m, line \u001b[1;32m3\u001b[0m\n\u001b[1;33m    statement 1\u001b[0m\n\u001b[1;37m              ^\u001b[0m\n\u001b[1;31mSyntaxError\u001b[0m\u001b[1;31m:\u001b[0m invalid syntax\n"
     ]
    }
   ],
   "source": [
    "#if\n",
    "if(condition):\n",
    "    statement 1\n",
    "    statement 2\n",
    "    ----------\n",
    "    statement n"
   ]
  },
  {
   "cell_type": "code",
   "execution_count": null,
   "id": "f9bf9cb0",
   "metadata": {},
   "outputs": [],
   "source": [
    "#if-else\n",
    "if(condition):\n",
    "    statement 1\n",
    "    statement 2\n",
    "    ----------\n",
    "    statement n\n",
    "else:\n",
    "    statement 1\n",
    "    statement 2\n",
    "    ----------\n",
    "    statement n"
   ]
  },
  {
   "cell_type": "code",
   "execution_count": 39,
   "id": "5b888aa7",
   "metadata": {},
   "outputs": [
    {
     "name": "stdout",
     "output_type": "stream",
     "text": [
      "False\n"
     ]
    }
   ],
   "source": [
    "if 2>3:\n",
    "    print(\"True\")\n",
    "else:\n",
    "    print(\"False\")"
   ]
  },
  {
   "cell_type": "code",
   "execution_count": 2,
   "id": "94d1efa4",
   "metadata": {},
   "outputs": [
    {
     "name": "stdout",
     "output_type": "stream",
     "text": [
      "Enter the number=10\n",
      "The Given number is Even\n"
     ]
    }
   ],
   "source": [
    "# Given number is even or odd\n",
    "n=int(input(\"Enter the number=\"))\n",
    "if(n%2==0):\n",
    "    print(\"The Given number is Even\")\n",
    "else:\n",
    "    print(\"The Given number is Odd\")"
   ]
  },
  {
   "cell_type": "code",
   "execution_count": 3,
   "id": "3d53e44d",
   "metadata": {},
   "outputs": [
    {
     "name": "stdout",
     "output_type": "stream",
     "text": [
      "Enter the numnber=11\n",
      "The given number is Positive\n"
     ]
    }
   ],
   "source": [
    "# Given number is zero or positive or negative\n",
    "n=int(input(\"Enter the numnber=\"))\n",
    "if(n>0):\n",
    "    print(\"The given number is Positive\")\n",
    "elif(n==0):\n",
    "    print(\"The given number is Zero\")\n",
    "else:\n",
    "    print(\"The given number is negative\")"
   ]
  },
  {
   "cell_type": "code",
   "execution_count": 4,
   "id": "39bfb77f",
   "metadata": {},
   "outputs": [
    {
     "name": "stdout",
     "output_type": "stream",
     "text": [
      "Enter the number=55\n",
      "invalid number\n"
     ]
    }
   ],
   "source": [
    "# number is divisible by 2 but not divisible by 10\n",
    "a=int(input(\"Enter the number=\"))\n",
    "if(a%2==0)and(a%10!=0):\n",
    "    print(\"The given Number is divisible by 2 but not divisible by 10\")\n",
    "else:\n",
    "    print(\"invalid number\")"
   ]
  },
  {
   "cell_type": "markdown",
   "id": "806b7e93",
   "metadata": {},
   "source": [
    "### Range\n",
    "- Syntax for the range is range(start,endvalue,step value)\n",
    "- Starting value is inclusive and end value is exclusive.\n",
    "- Range(start,end,step)"
   ]
  },
  {
   "cell_type": "code",
   "execution_count": null,
   "id": "774b1a09",
   "metadata": {},
   "outputs": [],
   "source": [
    "range(10,20,1)\n",
    "# 10,11,12,13,14,15,16,17,18,19\n",
    "range(20,30,2)\n",
    "# 20,22,24,26,28\n",
    "range(20,41,5)\n",
    "# 20,25,30,35,40\n",
    "range(50)\n",
    "# consider as end value\n",
    "range(20,30)\n",
    "# consider start value and end value\n",
    "# Reverse print\n",
    "range(10,20,-1)\n",
    "# [20, 19, 18, 17, 16, 15, 14, 13, 12, 11]\n"
   ]
  },
  {
   "cell_type": "code",
   "execution_count": 5,
   "id": "67b38e1f",
   "metadata": {},
   "outputs": [
    {
     "data": {
      "text/plain": [
       "[10, 11, 12, 13, 14, 15, 16, 17, 18, 19]"
      ]
     },
     "execution_count": 5,
     "metadata": {},
     "output_type": "execute_result"
    }
   ],
   "source": [
    "list(range(10,20,1))"
   ]
  },
  {
   "cell_type": "code",
   "execution_count": 6,
   "id": "d453c2c3",
   "metadata": {},
   "outputs": [
    {
     "data": {
      "text/plain": [
       "[20, 22, 24, 26, 28]"
      ]
     },
     "execution_count": 6,
     "metadata": {},
     "output_type": "execute_result"
    }
   ],
   "source": [
    "list(range(20,30,2))"
   ]
  },
  {
   "cell_type": "code",
   "execution_count": 7,
   "id": "8705f22c",
   "metadata": {},
   "outputs": [
    {
     "data": {
      "text/plain": [
       "[20, 25, 30, 35, 40]"
      ]
     },
     "execution_count": 7,
     "metadata": {},
     "output_type": "execute_result"
    }
   ],
   "source": [
    "list(range(20,41,5))"
   ]
  },
  {
   "cell_type": "code",
   "execution_count": 8,
   "id": "bb0c242f",
   "metadata": {},
   "outputs": [
    {
     "data": {
      "text/plain": [
       "[0, 1, 2, 3, 4, 5, 6, 7, 8, 9]"
      ]
     },
     "execution_count": 8,
     "metadata": {},
     "output_type": "execute_result"
    }
   ],
   "source": [
    "list(range(10))"
   ]
  },
  {
   "cell_type": "code",
   "execution_count": 9,
   "id": "b7340483",
   "metadata": {},
   "outputs": [
    {
     "data": {
      "text/plain": [
       "[20, 21, 22, 23, 24, 25, 26, 27, 28, 29]"
      ]
     },
     "execution_count": 9,
     "metadata": {},
     "output_type": "execute_result"
    }
   ],
   "source": [
    "list(range(20,30))"
   ]
  },
  {
   "cell_type": "code",
   "execution_count": 10,
   "id": "ab7b5502",
   "metadata": {},
   "outputs": [
    {
     "data": {
      "text/plain": [
       "[20, 19, 18, 17, 16, 15, 14, 13, 12, 11]"
      ]
     },
     "execution_count": 10,
     "metadata": {},
     "output_type": "execute_result"
    }
   ],
   "source": [
    "list(range(20,10,-1))"
   ]
  },
  {
   "cell_type": "markdown",
   "id": "a1984469",
   "metadata": {},
   "source": [
    "### Loops\n",
    "- for,while\n",
    "- For Loop:::A for loop in python is a control flow statement that is used to repeatedly execute a group of statements as long as the condition is satisfied.Such a type of statemnt is also known as an iterative statement therefore a for loop is an iterative statement."
   ]
  },
  {
   "cell_type": "code",
   "execution_count": null,
   "id": "f27c9897",
   "metadata": {},
   "outputs": [],
   "source": [
    "Synatx:::\n",
    "for iter in iterable: # Range predefined function in the position of iterable\n",
    "    statement 1\n",
    "    statement 2\n",
    "    statement 3\n",
    "    -----------\n",
    "    statement n       "
   ]
  },
  {
   "cell_type": "code",
   "execution_count": 11,
   "id": "3baa16f0",
   "metadata": {},
   "outputs": [
    {
     "name": "stdout",
     "output_type": "stream",
     "text": [
      "0\n",
      "1\n",
      "2\n",
      "3\n",
      "4\n"
     ]
    }
   ],
   "source": [
    "for i in range(5):\n",
    "    print(i)"
   ]
  },
  {
   "cell_type": "code",
   "execution_count": 12,
   "id": "b2c26ac8",
   "metadata": {},
   "outputs": [
    {
     "name": "stdout",
     "output_type": "stream",
     "text": [
      "0,2,4,6,8,10,"
     ]
    }
   ],
   "source": [
    "for i in range(0,11,2):\n",
    "    print(i,end=\",\")"
   ]
  },
  {
   "cell_type": "code",
   "execution_count": 13,
   "id": "38ea4fb6",
   "metadata": {},
   "outputs": [
    {
     "name": "stdout",
     "output_type": "stream",
     "text": [
      "0 2 4 6 8 10 12 14 16 18 20 22 24 26 28 30 32 34 36 38 40 42 44 46 48 50 52 54 56 58 60 62 64 66 68 70 72 74 76 78 80 82 84 86 88 90 92 94 96 98 100 \n",
      "Even number count= 51\n"
     ]
    }
   ],
   "source": [
    "# Print the even numbers in the range 0 to 100 and print even number count\n",
    "c=0\n",
    "for i in range(0,101,2):\n",
    "    c=c+1\n",
    "    print(i,end=\" \")\n",
    "print(\"\\nEven number count=\",c)"
   ]
  },
  {
   "cell_type": "code",
   "execution_count": 14,
   "id": "d6bdb2b1",
   "metadata": {},
   "outputs": [
    {
     "name": "stdout",
     "output_type": "stream",
     "text": [
      "0 2 4 6 8 10 12 14 16 18 20 22 24 26 28 30 32 34 36 38 40 42 44 46 48 50 52 54 56 58 60 62 64 66 68 70 72 74 76 78 80 82 84 86 88 90 92 94 96 98 100 \n",
      "Even number count= 51\n"
     ]
    }
   ],
   "source": [
    "# Print the even numbers in the range 0 to 100 and print even number count\n",
    "c=0\n",
    "for i in range(0,101):\n",
    "    if(i%2==0):\n",
    "        c=c+1\n",
    "        print(i,end=\" \")\n",
    "print(\"\\nEven number count=\",c)"
   ]
  },
  {
   "cell_type": "code",
   "execution_count": 15,
   "id": "f3089895",
   "metadata": {},
   "outputs": [
    {
     "name": "stdout",
     "output_type": "stream",
     "text": [
      "11\n",
      "55\n",
      "12 16 20 24 28 32 36 40 44 48 52 \n",
      "years count: 11\n"
     ]
    }
   ],
   "source": [
    "# print leapm years in between the 2000 and 2020 and print the count\n",
    "x=int(input())\n",
    "y=int(input())\n",
    "c=0\n",
    "for i in range(x,y+1):\n",
    "    if(i%400==0) and (i%100!=0) or (i%4==0):\n",
    "        c=c+1\n",
    "        print(i,end=\" \")\n",
    "print(\"\\nyears count:\",c)"
   ]
  },
  {
   "cell_type": "code",
   "execution_count": 16,
   "id": "ad7ab699",
   "metadata": {},
   "outputs": [
    {
     "name": "stdout",
     "output_type": "stream",
     "text": [
      "5 * 1 = 5\n",
      "5 * 2 = 10\n",
      "5 * 3 = 15\n",
      "5 * 4 = 20\n",
      "5 * 5 = 25\n",
      "5 * 6 = 30\n",
      "5 * 7 = 35\n",
      "5 * 8 = 40\n",
      "5 * 9 = 45\n",
      "5 * 10 = 50\n"
     ]
    }
   ],
   "source": [
    "# print 5th table\n",
    "n=5\n",
    "for i in range(1,11):\n",
    "    print(n,\"*\",i,\"=\",n*i)"
   ]
  },
  {
   "cell_type": "code",
   "execution_count": 17,
   "id": "809110f0",
   "metadata": {},
   "outputs": [
    {
     "name": "stdout",
     "output_type": "stream",
     "text": [
      "The Factors of 5 are 1\n",
      "The Factors of 5 are 5\n"
     ]
    }
   ],
   "source": [
    "# Print factors of 5\n",
    "n=5\n",
    "for i in range(1,6):\n",
    "    if(n%i==0):\n",
    "        print(\"The Factors of 5 are\",i)"
   ]
  },
  {
   "cell_type": "code",
   "execution_count": 18,
   "id": "f7c6d3e2",
   "metadata": {},
   "outputs": [
    {
     "name": "stdout",
     "output_type": "stream",
     "text": [
      "Enter the number25\n",
      "1 5 25 "
     ]
    }
   ],
   "source": [
    "# print factors of any number\n",
    "n=int(input(\"Enter the number\"))\n",
    "for i in range(1,n+1):\n",
    "    if(n%i==0):\n",
    "        print(i,end=\" \")"
   ]
  },
  {
   "cell_type": "code",
   "execution_count": 20,
   "id": "c972f950",
   "metadata": {},
   "outputs": [
    {
     "name": "stdout",
     "output_type": "stream",
     "text": [
      "abc\n",
      "294\n"
     ]
    }
   ],
   "source": [
    "# I/P=aba\n",
    "# 97+98+97=292\n",
    "# O/P=292\n",
    "x=input()\n",
    "s=0\n",
    "for i in x:\n",
    "    s=s+ord(i)\n",
    "print(s)"
   ]
  },
  {
   "cell_type": "code",
   "execution_count": 21,
   "id": "b9bc7a17",
   "metadata": {},
   "outputs": [
    {
     "name": "stdout",
     "output_type": "stream",
     "text": [
      "Enter the number=2\n",
      "It is a prime number\n"
     ]
    }
   ],
   "source": [
    "# Print it is a prime number or not\n",
    "n=int(input(\"Enter the number=\"))\n",
    "c=0\n",
    "for i in range (1,n+1):\n",
    "    if(n%i==0):\n",
    "        c=c+1\n",
    "if(c==2):\n",
    "    print(\"It is a prime number\")\n",
    "else:\n",
    "    print(\"It is not a prime number\")"
   ]
  },
  {
   "cell_type": "code",
   "execution_count": 22,
   "id": "02fc2846",
   "metadata": {},
   "outputs": [
    {
     "name": "stdout",
     "output_type": "stream",
     "text": [
      "Enter the number=5\n",
      "Enter the b value=6\n",
      "Even Numbers: 6 \n",
      "Odd Numbers: 5 "
     ]
    }
   ],
   "source": [
    "# Tp print even and odd numbers from 0 to 10\n",
    "a=int(input(\"Enter the number=\"))\n",
    "b=int(input(\"Enter the b value=\"))\n",
    "print(\"Even Numbers:\",end=\" \")\n",
    "for i in range(a,b+1):\n",
    "    if(i%2==0):\n",
    "        print(i,end=\" \")\n",
    "print(\"\\nOdd Numbers:\",end=\" \")\n",
    "for x in range(a,b+1):\n",
    "    if(x%2!=0):\n",
    "        print(x,end=\" \")"
   ]
  },
  {
   "cell_type": "code",
   "execution_count": null,
   "id": "0ef272dc",
   "metadata": {},
   "outputs": [],
   "source": []
  },
  {
   "cell_type": "code",
   "execution_count": null,
   "id": "0b438def",
   "metadata": {},
   "outputs": [],
   "source": []
  },
  {
   "cell_type": "code",
   "execution_count": null,
   "id": "4a41477e",
   "metadata": {},
   "outputs": [],
   "source": []
  }
 ],
 "metadata": {
  "kernelspec": {
   "display_name": "Python 3 (ipykernel)",
   "language": "python",
   "name": "python3"
  },
  "language_info": {
   "codemirror_mode": {
    "name": "ipython",
    "version": 3
   },
   "file_extension": ".py",
   "mimetype": "text/x-python",
   "name": "python",
   "nbconvert_exporter": "python",
   "pygments_lexer": "ipython3",
   "version": "3.9.7"
  }
 },
 "nbformat": 4,
 "nbformat_minor": 5
}
