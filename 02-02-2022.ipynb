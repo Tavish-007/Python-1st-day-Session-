{
 "cells": [
  {
   "cell_type": "markdown",
   "id": "d39aa516",
   "metadata": {},
   "source": [
    "## Day-2 Session\n",
    "### 02-02-2022\n"
   ]
  },
  {
   "cell_type": "markdown",
   "id": "2fa0dd93",
   "metadata": {},
   "source": [
    "### Input and Output Methods\n",
    "- Reading the data or information from the user----***input()***  \n",
    "    - Static input\n",
    "    - Dynamic input\n",
    "- Displaying the information or data to the user----***print()***\n"
   ]
  },
  {
   "cell_type": "code",
   "execution_count": 11,
   "id": "4aec6d53",
   "metadata": {},
   "outputs": [
    {
     "name": "stdout",
     "output_type": "stream",
     "text": [
      "10\n"
     ]
    },
    {
     "data": {
      "text/plain": [
       "'10'"
      ]
     },
     "execution_count": 11,
     "metadata": {},
     "output_type": "execute_result"
    }
   ],
   "source": [
    "a=input()\n",
    "a"
   ]
  },
  {
   "cell_type": "code",
   "execution_count": 12,
   "id": "5bbfb015",
   "metadata": {},
   "outputs": [
    {
     "name": "stdout",
     "output_type": "stream",
     "text": [
      "50\n"
     ]
    },
    {
     "data": {
      "text/plain": [
       "'50'"
      ]
     },
     "execution_count": 12,
     "metadata": {},
     "output_type": "execute_result"
    }
   ],
   "source": [
    "a=input()\n",
    "a"
   ]
  },
  {
   "cell_type": "code",
   "execution_count": 13,
   "id": "3b030c48",
   "metadata": {},
   "outputs": [
    {
     "name": "stdout",
     "output_type": "stream",
     "text": [
      "Enter user value=410\n"
     ]
    },
    {
     "data": {
      "text/plain": [
       "'410'"
      ]
     },
     "execution_count": 13,
     "metadata": {},
     "output_type": "execute_result"
    }
   ],
   "source": [
    "a=input(\"Enter user value=\")\n",
    "a"
   ]
  },
  {
   "cell_type": "code",
   "execution_count": 14,
   "id": "4fd4a20d",
   "metadata": {},
   "outputs": [
    {
     "name": "stdout",
     "output_type": "stream",
     "text": [
      "50\n",
      "60\n"
     ]
    }
   ],
   "source": [
    "a=50\n",
    "b=60\n",
    "print(a)\n",
    "print(b)"
   ]
  },
  {
   "cell_type": "code",
   "execution_count": 15,
   "id": "74310c06",
   "metadata": {},
   "outputs": [
    {
     "name": "stdout",
     "output_type": "stream",
     "text": [
      "Enter the user value45\n"
     ]
    },
    {
     "data": {
      "text/plain": [
       "45.0"
      ]
     },
     "execution_count": 15,
     "metadata": {},
     "output_type": "execute_result"
    }
   ],
   "source": [
    "a=float(input(\"Enter the user value\"))\n",
    "a\n"
   ]
  },
  {
   "cell_type": "code",
   "execution_count": 16,
   "id": "ab106cc2",
   "metadata": {},
   "outputs": [
    {
     "name": "stdout",
     "output_type": "stream",
     "text": [
      "Enter a value11\n",
      "11\n"
     ]
    }
   ],
   "source": [
    "a=input(\"Enter a value\")\n",
    "print(a)"
   ]
  },
  {
   "cell_type": "code",
   "execution_count": 17,
   "id": "4bd6adbc",
   "metadata": {},
   "outputs": [
    {
     "name": "stdout",
     "output_type": "stream",
     "text": [
      "Enter a value\t55\n",
      "55\n"
     ]
    }
   ],
   "source": [
    "a=input(\"Enter a value\\t\")\n",
    "print(a)"
   ]
  },
  {
   "cell_type": "code",
   "execution_count": 18,
   "id": "0c362afc",
   "metadata": {},
   "outputs": [
    {
     "name": "stdout",
     "output_type": "stream",
     "text": [
      "20 30 40\n"
     ]
    }
   ],
   "source": [
    "a=20\n",
    "b=30\n",
    "c=40\n",
    "print(a,b,c)"
   ]
  },
  {
   "cell_type": "code",
   "execution_count": 19,
   "id": "548263a3",
   "metadata": {},
   "outputs": [
    {
     "name": "stdout",
     "output_type": "stream",
     "text": [
      "20,30,40%"
     ]
    }
   ],
   "source": [
    "a=20\n",
    "b=30\n",
    "c=40\n",
    "print(a,b,c,sep=\",\",end=\"%\")"
   ]
  },
  {
   "cell_type": "code",
   "execution_count": 20,
   "id": "911d0d18",
   "metadata": {},
   "outputs": [
    {
     "name": "stdout",
     "output_type": "stream",
     "text": [
      "20,30,40\n",
      "40\n"
     ]
    }
   ],
   "source": [
    "a=20\n",
    "b=30\n",
    "c=40\n",
    "print(a,b,c,sep=\",\",end=\"\\n\")\n",
    "print(c)"
   ]
  },
  {
   "cell_type": "code",
   "execution_count": 21,
   "id": "6b5f2737",
   "metadata": {},
   "outputs": [
    {
     "name": "stdout",
     "output_type": "stream",
     "text": [
      "Help on built-in function print in module builtins:\n",
      "\n",
      "print(...)\n",
      "    print(value, ..., sep=' ', end='\\n', file=sys.stdout, flush=False)\n",
      "    \n",
      "    Prints the values to a stream, or to sys.stdout by default.\n",
      "    Optional keyword arguments:\n",
      "    file:  a file-like object (stream); defaults to the current sys.stdout.\n",
      "    sep:   string inserted between values, default a space.\n",
      "    end:   string appended after the last value, default a newline.\n",
      "    flush: whether to forcibly flush the stream.\n",
      "\n"
     ]
    }
   ],
   "source": [
    "help(print)"
   ]
  },
  {
   "cell_type": "code",
   "execution_count": 22,
   "id": "ae152f00",
   "metadata": {},
   "outputs": [
    {
     "name": "stdout",
     "output_type": "stream",
     "text": [
      "Enter the value a=10\n",
      "Enter the value b=10\n",
      "Enter the value c=20\n",
      "10$ 10$ 20%\n",
      " 10 20\n"
     ]
    }
   ],
   "source": [
    "# Generate three values from the user the value separate with $ and end with % \n",
    "a=input(\"Enter the value a=\")\n",
    "b=input(\"Enter the value b=\")\n",
    "c=input(\"Enter the value c=\")\n",
    "print(a,b,c,sep=\"$ \",end=\"%\")\n",
    "print(\"\\n\",a,c)"
   ]
  },
  {
   "cell_type": "markdown",
   "id": "2cea1841",
   "metadata": {},
   "source": [
    "### Operators\n",
    "- Arithmatic operators(+,-,*,**,/,//,%)\n",
    "    - Output for the normal division is quotient\n",
    "    - Output for the integer division or floor division is integer part of the quotient.\n",
    "    - Output for the module division is remainder.\n",
    "- Assignment operators(=)\n",
    "- Comparision operators(<,>,<=,>=,==)\n",
    "- Logical operators(and,or,not)\n",
    "- Bitwise operators(&,|,^)\n",
    "- Identity operators(is(==),isnot(!=))\n",
    "- Membership operators(in,notin)"
   ]
  },
  {
   "cell_type": "markdown",
   "id": "a92cb719",
   "metadata": {},
   "source": [
    "### Arithmatic operators"
   ]
  },
  {
   "cell_type": "code",
   "execution_count": 23,
   "id": "25963654",
   "metadata": {},
   "outputs": [
    {
     "name": "stdout",
     "output_type": "stream",
     "text": [
      "Addition 9\n",
      "Subtraction 5\n",
      "Multiplication 14\n",
      "Power 49\n",
      "Division 3.5\n",
      "int division or floor division 3\n",
      "Modulo division 1\n"
     ]
    }
   ],
   "source": [
    "a=7\n",
    "b=2\n",
    "print(\"Addition\",a+b)\n",
    "print(\"Subtraction\",a-b)\n",
    "print(\"Multiplication\",a*b)\n",
    "print(\"Power\",a**b)\n",
    "print(\"Division\",a/b)\n",
    "print(\"int division or floor division\",a//b)\n",
    "print(\"Modulo division\",a%b)"
   ]
  },
  {
   "cell_type": "markdown",
   "id": "ae3fa820",
   "metadata": {},
   "source": [
    "### Assignment operators\n",
    "- It is represented with \"=\"\n",
    "- Leftside value of the operator(=) is called as variable.\n",
    "- Rightside value of the operator(=) is called as value."
   ]
  },
  {
   "cell_type": "code",
   "execution_count": 24,
   "id": "194d22c6",
   "metadata": {},
   "outputs": [
    {
     "name": "stdout",
     "output_type": "stream",
     "text": [
      "50\n",
      "60\n"
     ]
    }
   ],
   "source": [
    "a=50\n",
    "b=60\n",
    "print(a)\n",
    "print(b)\n"
   ]
  },
  {
   "cell_type": "markdown",
   "id": "0d5575cd",
   "metadata": {},
   "source": [
    "### Comparision operators"
   ]
  },
  {
   "cell_type": "code",
   "execution_count": 25,
   "id": "b1a22cfd",
   "metadata": {},
   "outputs": [
    {
     "data": {
      "text/plain": [
       "False"
      ]
     },
     "execution_count": 25,
     "metadata": {},
     "output_type": "execute_result"
    }
   ],
   "source": [
    "2>5"
   ]
  },
  {
   "cell_type": "code",
   "execution_count": 26,
   "id": "155f34cd",
   "metadata": {},
   "outputs": [
    {
     "data": {
      "text/plain": [
       "True"
      ]
     },
     "execution_count": 26,
     "metadata": {},
     "output_type": "execute_result"
    }
   ],
   "source": [
    "2<5"
   ]
  },
  {
   "cell_type": "code",
   "execution_count": 27,
   "id": "3ca174a0",
   "metadata": {},
   "outputs": [
    {
     "name": "stdout",
     "output_type": "stream",
     "text": [
      "Leave it\n"
     ]
    }
   ],
   "source": [
    "if 2>9 and 2<=6:\n",
    "    print(\"print true or false\")\n",
    "else:\n",
    "    print(\"Leave it\")"
   ]
  },
  {
   "cell_type": "code",
   "execution_count": 28,
   "id": "a3b3850e",
   "metadata": {},
   "outputs": [
    {
     "data": {
      "text/plain": [
       "False"
      ]
     },
     "execution_count": 28,
     "metadata": {},
     "output_type": "execute_result"
    }
   ],
   "source": [
    "2>=7"
   ]
  },
  {
   "cell_type": "code",
   "execution_count": 29,
   "id": "46fda94c",
   "metadata": {},
   "outputs": [
    {
     "data": {
      "text/plain": [
       "True"
      ]
     },
     "execution_count": 29,
     "metadata": {},
     "output_type": "execute_result"
    }
   ],
   "source": [
    "2<=6"
   ]
  },
  {
   "cell_type": "markdown",
   "id": "e43ce1df",
   "metadata": {},
   "source": [
    "### Logical Operators\n",
    "- and,or,not\n",
    "- If all the inputs are true the output is True (and)\n",
    "- If any of the input is true the output is true (or)\n",
    "- Opposite operation for the given one (not)"
   ]
  },
  {
   "cell_type": "code",
   "execution_count": 30,
   "id": "abadf44d",
   "metadata": {},
   "outputs": [
    {
     "data": {
      "text/plain": [
       "False"
      ]
     },
     "execution_count": 30,
     "metadata": {},
     "output_type": "execute_result"
    }
   ],
   "source": [
    "2>5 and 3<6"
   ]
  },
  {
   "cell_type": "code",
   "execution_count": 31,
   "id": "a5bb64aa",
   "metadata": {},
   "outputs": [
    {
     "data": {
      "text/plain": [
       "True"
      ]
     },
     "execution_count": 31,
     "metadata": {},
     "output_type": "execute_result"
    }
   ],
   "source": [
    "2<5 and 3<6"
   ]
  },
  {
   "cell_type": "code",
   "execution_count": 32,
   "id": "cf3765cf",
   "metadata": {},
   "outputs": [
    {
     "data": {
      "text/plain": [
       "True"
      ]
     },
     "execution_count": 32,
     "metadata": {},
     "output_type": "execute_result"
    }
   ],
   "source": [
    "2<5 or 3<6"
   ]
  },
  {
   "cell_type": "code",
   "execution_count": 33,
   "id": "24b4f4e2",
   "metadata": {},
   "outputs": [
    {
     "data": {
      "text/plain": [
       "True"
      ]
     },
     "execution_count": 33,
     "metadata": {},
     "output_type": "execute_result"
    }
   ],
   "source": [
    "2>5 or 3<6"
   ]
  },
  {
   "cell_type": "code",
   "execution_count": 34,
   "id": "d08292b9",
   "metadata": {},
   "outputs": [
    {
     "data": {
      "text/plain": [
       "False"
      ]
     },
     "execution_count": 34,
     "metadata": {},
     "output_type": "execute_result"
    }
   ],
   "source": [
    "2>5 or 3>6"
   ]
  },
  {
   "cell_type": "code",
   "execution_count": 35,
   "id": "597f0f7d",
   "metadata": {},
   "outputs": [
    {
     "data": {
      "text/plain": [
       "100"
      ]
     },
     "execution_count": 35,
     "metadata": {},
     "output_type": "execute_result"
    }
   ],
   "source": [
    "a=100\n",
    "a"
   ]
  },
  {
   "cell_type": "code",
   "execution_count": 36,
   "id": "7b8b8208",
   "metadata": {},
   "outputs": [
    {
     "data": {
      "text/plain": [
       "False"
      ]
     },
     "execution_count": 36,
     "metadata": {},
     "output_type": "execute_result"
    }
   ],
   "source": [
    "a=100\n",
    "not a"
   ]
  },
  {
   "cell_type": "code",
   "execution_count": 37,
   "id": "548f6fa6",
   "metadata": {},
   "outputs": [
    {
     "data": {
      "text/plain": [
       "True"
      ]
     },
     "execution_count": 37,
     "metadata": {},
     "output_type": "execute_result"
    }
   ],
   "source": [
    "a=False\n",
    "not a"
   ]
  },
  {
   "cell_type": "markdown",
   "id": "1b7eb724",
   "metadata": {},
   "source": [
    "### Bitwise Operators"
   ]
  },
  {
   "cell_type": "code",
   "execution_count": 38,
   "id": "50921412",
   "metadata": {},
   "outputs": [
    {
     "data": {
      "text/plain": [
       "2"
      ]
     },
     "execution_count": 38,
     "metadata": {},
     "output_type": "execute_result"
    }
   ],
   "source": [
    "2 & 3\n",
    "# 2-0 0 1 0\n",
    "# 3-0 0 1 1\n",
    "# ----------\n",
    "# - 0 0 1 0 "
   ]
  },
  {
   "cell_type": "code",
   "execution_count": 39,
   "id": "bcbb6857",
   "metadata": {},
   "outputs": [
    {
     "data": {
      "text/plain": [
       "7"
      ]
     },
     "execution_count": 39,
     "metadata": {},
     "output_type": "execute_result"
    }
   ],
   "source": [
    "2|7"
   ]
  },
  {
   "cell_type": "code",
   "execution_count": 40,
   "id": "836791a8",
   "metadata": {},
   "outputs": [
    {
     "data": {
      "text/plain": [
       "3"
      ]
     },
     "execution_count": 40,
     "metadata": {},
     "output_type": "execute_result"
    }
   ],
   "source": [
    "2|3"
   ]
  },
  {
   "cell_type": "markdown",
   "id": "d53f334b",
   "metadata": {},
   "source": [
    "### Identity Opeartors"
   ]
  },
  {
   "cell_type": "code",
   "execution_count": 41,
   "id": "9288fc5c",
   "metadata": {},
   "outputs": [
    {
     "name": "stderr",
     "output_type": "stream",
     "text": [
      "<>:2: SyntaxWarning: \"is\" with a literal. Did you mean \"==\"?\n",
      "<>:2: SyntaxWarning: \"is not\" with a literal. Did you mean \"!=\"?\n",
      "<>:2: SyntaxWarning: \"is\" with a literal. Did you mean \"==\"?\n",
      "<>:2: SyntaxWarning: \"is not\" with a literal. Did you mean \"!=\"?\n",
      "C:\\Users\\Lab\\AppData\\Local\\Temp/ipykernel_3900/2908208210.py:2: SyntaxWarning: \"is\" with a literal. Did you mean \"==\"?\n",
      "  a is 100 and a is not 100\n",
      "C:\\Users\\Lab\\AppData\\Local\\Temp/ipykernel_3900/2908208210.py:2: SyntaxWarning: \"is not\" with a literal. Did you mean \"!=\"?\n",
      "  a is 100 and a is not 100\n"
     ]
    },
    {
     "data": {
      "text/plain": [
       "False"
      ]
     },
     "execution_count": 41,
     "metadata": {},
     "output_type": "execute_result"
    }
   ],
   "source": [
    "# Identity operators\n",
    "a is 100 and a is not 100"
   ]
  },
  {
   "cell_type": "code",
   "execution_count": 42,
   "id": "abea1723",
   "metadata": {},
   "outputs": [
    {
     "data": {
      "text/plain": [
       "False"
      ]
     },
     "execution_count": 42,
     "metadata": {},
     "output_type": "execute_result"
    }
   ],
   "source": [
    "a==100 and a!=100"
   ]
  },
  {
   "cell_type": "markdown",
   "id": "05d0f00a",
   "metadata": {},
   "source": [
    "## Membership Operators"
   ]
  },
  {
   "cell_type": "code",
   "execution_count": 43,
   "id": "716aedcb",
   "metadata": {},
   "outputs": [
    {
     "data": {
      "text/plain": [
       "True"
      ]
     },
     "execution_count": 43,
     "metadata": {},
     "output_type": "execute_result"
    }
   ],
   "source": [
    "a=[1,2,3,7,8]\n",
    "3 in a"
   ]
  },
  {
   "cell_type": "code",
   "execution_count": 44,
   "id": "da3b1a59",
   "metadata": {},
   "outputs": [
    {
     "data": {
      "text/plain": [
       "False"
      ]
     },
     "execution_count": 44,
     "metadata": {},
     "output_type": "execute_result"
    }
   ],
   "source": [
    "a=[1,2,3,7,8]\n",
    "4 in a"
   ]
  },
  {
   "cell_type": "code",
   "execution_count": 45,
   "id": "11a7b734",
   "metadata": {},
   "outputs": [
    {
     "data": {
      "text/plain": [
       "True"
      ]
     },
     "execution_count": 45,
     "metadata": {},
     "output_type": "execute_result"
    }
   ],
   "source": [
    "7 in a"
   ]
  },
  {
   "cell_type": "code",
   "execution_count": 46,
   "id": "4fc956d6",
   "metadata": {},
   "outputs": [
    {
     "name": "stdout",
     "output_type": "stream",
     "text": [
      "56\n",
      "55\n",
      "55\n",
      "55.0\n"
     ]
    }
   ],
   "source": [
    "a=55\n",
    "a+=1  #------->a=a+1\n",
    "print(a)\n",
    "a-=1  #------->a=a-1\n",
    "print(a)\n",
    "a*=1  #------->a=a*1\n",
    "print(a)\n",
    "a/=1  #------->a=a/1\n",
    "print(a)"
   ]
  },
  {
   "cell_type": "markdown",
   "id": "8b91f502",
   "metadata": {},
   "source": [
    "### Flow control\n",
    "- Conditional satements(if,else,else-if,nested if)\n",
    "- Loops(for,while)\n",
    "- Break,Return"
   ]
  },
  {
   "cell_type": "code",
   "execution_count": 47,
   "id": "2193e9b1",
   "metadata": {},
   "outputs": [
    {
     "data": {
      "text/plain": [
       "'C-Language\\nif(condition)\\n{\\n    print(a)\\n}'"
      ]
     },
     "execution_count": 47,
     "metadata": {},
     "output_type": "execute_result"
    }
   ],
   "source": [
    "'''C-Language\n",
    "if(condition)\n",
    "{\n",
    "    print(a)\n",
    "}'''"
   ]
  },
  {
   "cell_type": "markdown",
   "id": "7413d856",
   "metadata": {},
   "source": [
    "### Conditional statements"
   ]
  },
  {
   "cell_type": "code",
   "execution_count": 48,
   "id": "c91f926e",
   "metadata": {},
   "outputs": [
    {
     "ename": "SyntaxError",
     "evalue": "invalid syntax (Temp/ipykernel_3900/1740280430.py, line 3)",
     "output_type": "error",
     "traceback": [
      "\u001b[1;36m  File \u001b[1;32m\"C:\\Users\\Lab\\AppData\\Local\\Temp/ipykernel_3900/1740280430.py\"\u001b[1;36m, line \u001b[1;32m3\u001b[0m\n\u001b[1;33m    statement 1\u001b[0m\n\u001b[1;37m              ^\u001b[0m\n\u001b[1;31mSyntaxError\u001b[0m\u001b[1;31m:\u001b[0m invalid syntax\n"
     ]
    }
   ],
   "source": [
    "#if\n",
    "if(condition):\n",
    "    statement 1\n",
    "    statement 2\n",
    "    ----------\n",
    "    statement n"
   ]
  },
  {
   "cell_type": "code",
   "execution_count": null,
   "id": "f9bf9cb0",
   "metadata": {},
   "outputs": [],
   "source": [
    "#if-else\n",
    "if(condition):\n",
    "    statement 1\n",
    "    statement 2\n",
    "    ----------\n",
    "    statement n\n",
    "else:\n",
    "    statement 1\n",
    "    statement 2\n",
    "    ----------\n",
    "    statement n"
   ]
  },
  {
   "cell_type": "code",
   "execution_count": null,
   "id": "5b888aa7",
   "metadata": {},
   "outputs": [],
   "source": [
    "if 2>3:\n",
    "    print(\"True\")\n",
    "else:\n",
    "    print(\"False\")"
   ]
  },
  {
   "cell_type": "code",
   "execution_count": null,
   "id": "080beec9",
   "metadata": {},
   "outputs": [],
   "source": [
    "if 2>3:\n",
    "    print(\"True\")\n",
    "    print(\"False\")"
   ]
  },
  {
   "cell_type": "code",
   "execution_count": null,
   "id": "94d1efa4",
   "metadata": {},
   "outputs": [],
   "source": [
    "# Given number is even or odd\n",
    "n=int(input(\"Enter the number=\"))\n",
    "if(n%2==0):\n",
    "    print(\"The Given number is Even\")\n",
    "else:\n",
    "    print(\"The Given number is Odd\")"
   ]
  },
  {
   "cell_type": "code",
   "execution_count": null,
   "id": "3d53e44d",
   "metadata": {},
   "outputs": [],
   "source": [
    "# Given number is zero or positive or negative\n",
    "n=int(input(\"Enter the numnber=\"))\n",
    "if(n>0):\n",
    "    print(\"The given number is Positive\")\n",
    "elif(n==0):\n",
    "    print(\"The given number is Zero\")\n",
    "else:\n",
    "    print(\"The given number is negative\")"
   ]
  },
  {
   "cell_type": "code",
   "execution_count": null,
   "id": "39bfb77f",
   "metadata": {},
   "outputs": [],
   "source": [
    "# number is divisible by 2 but not divisible by 10\n",
    "a=int(input(\"Enter the number=\"))\n",
    "if(a%2==0)and(a%10!=0):\n",
    "    print(\"The given Number is divisible by 2 but not divisible by 10\")\n",
    "else:\n",
    "    print(\"invalid number\")"
   ]
  },
  {
   "cell_type": "markdown",
   "id": "806b7e93",
   "metadata": {},
   "source": [
    "### Range\n",
    "- Syntax for the range is range(start,endvalue,step value)\n",
    "- Starting value is inclusive and end value is exclusive.\n",
    "- Range(start,end,step)"
   ]
  },
  {
   "cell_type": "code",
   "execution_count": null,
   "id": "774b1a09",
   "metadata": {},
   "outputs": [],
   "source": [
    "range(10,20,1)\n",
    "# 10,11,12,13,14,15,16,17,18,19\n",
    "range(20,30,2)\n",
    "# 20,22,24,26,28\n",
    "range(20,41,5)\n",
    "# 20,25,30,35,40\n",
    "range(50)\n",
    "# consider as end value\n",
    "range(20,30)\n",
    "# consider start value and end value\n",
    "# Reverse print\n",
    "range(10,20,-1)\n",
    "# [20, 19, 18, 17, 16, 15, 14, 13, 12, 11]\n"
   ]
  },
  {
   "cell_type": "code",
   "execution_count": 49,
   "id": "67b38e1f",
   "metadata": {},
   "outputs": [
    {
     "data": {
      "text/plain": [
       "[10, 11, 12, 13, 14, 15, 16, 17, 18, 19]"
      ]
     },
     "execution_count": 49,
     "metadata": {},
     "output_type": "execute_result"
    }
   ],
   "source": [
    "list(range(10,20,1))"
   ]
  },
  {
   "cell_type": "code",
   "execution_count": 50,
   "id": "d453c2c3",
   "metadata": {},
   "outputs": [
    {
     "data": {
      "text/plain": [
       "[20, 22, 24, 26, 28]"
      ]
     },
     "execution_count": 50,
     "metadata": {},
     "output_type": "execute_result"
    }
   ],
   "source": [
    "list(range(20,30,2))"
   ]
  },
  {
   "cell_type": "code",
   "execution_count": 51,
   "id": "8705f22c",
   "metadata": {},
   "outputs": [
    {
     "data": {
      "text/plain": [
       "[20, 25, 30, 35, 40]"
      ]
     },
     "execution_count": 51,
     "metadata": {},
     "output_type": "execute_result"
    }
   ],
   "source": [
    "list(range(20,41,5))"
   ]
  },
  {
   "cell_type": "code",
   "execution_count": 53,
   "id": "bb0c242f",
   "metadata": {},
   "outputs": [
    {
     "data": {
      "text/plain": [
       "[0, 1, 2, 3, 4, 5, 6, 7, 8, 9]"
      ]
     },
     "execution_count": 53,
     "metadata": {},
     "output_type": "execute_result"
    }
   ],
   "source": [
    "list(range(10))"
   ]
  },
  {
   "cell_type": "code",
   "execution_count": 54,
   "id": "b7340483",
   "metadata": {},
   "outputs": [
    {
     "data": {
      "text/plain": [
       "[20, 21, 22, 23, 24, 25, 26, 27, 28, 29]"
      ]
     },
     "execution_count": 54,
     "metadata": {},
     "output_type": "execute_result"
    }
   ],
   "source": [
    "list(range(20,30))"
   ]
  },
  {
   "cell_type": "code",
   "execution_count": 57,
   "id": "ab7b5502",
   "metadata": {},
   "outputs": [
    {
     "data": {
      "text/plain": [
       "[20, 19, 18, 17, 16, 15, 14, 13, 12, 11]"
      ]
     },
     "execution_count": 57,
     "metadata": {},
     "output_type": "execute_result"
    }
   ],
   "source": [
    "list(range(20,10,-1))"
   ]
  },
  {
   "cell_type": "code",
   "execution_count": null,
   "id": "67945991",
   "metadata": {},
   "outputs": [],
   "source": []
  }
 ],
 "metadata": {
  "kernelspec": {
   "display_name": "Python 3 (ipykernel)",
   "language": "python",
   "name": "python3"
  },
  "language_info": {
   "codemirror_mode": {
    "name": "ipython",
    "version": 3
   },
   "file_extension": ".py",
   "mimetype": "text/x-python",
   "name": "python",
   "nbconvert_exporter": "python",
   "pygments_lexer": "ipython3",
   "version": "3.9.7"
  }
 },
 "nbformat": 4,
 "nbformat_minor": 5
}
