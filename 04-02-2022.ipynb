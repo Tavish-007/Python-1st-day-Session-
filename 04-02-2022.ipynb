{
 "cells": [
  {
   "cell_type": "markdown",
   "id": "7816c7a1",
   "metadata": {},
   "source": [
    "### Day-4 Session\n",
    "- 04-02-2022\n"
   ]
  },
  {
   "cell_type": "code",
   "execution_count": 1,
   "id": "96972dc3",
   "metadata": {},
   "outputs": [
    {
     "data": {
      "text/plain": [
       "['__add__',\n",
       " '__class__',\n",
       " '__class_getitem__',\n",
       " '__contains__',\n",
       " '__delattr__',\n",
       " '__delitem__',\n",
       " '__dir__',\n",
       " '__doc__',\n",
       " '__eq__',\n",
       " '__format__',\n",
       " '__ge__',\n",
       " '__getattribute__',\n",
       " '__getitem__',\n",
       " '__gt__',\n",
       " '__hash__',\n",
       " '__iadd__',\n",
       " '__imul__',\n",
       " '__init__',\n",
       " '__init_subclass__',\n",
       " '__iter__',\n",
       " '__le__',\n",
       " '__len__',\n",
       " '__lt__',\n",
       " '__mul__',\n",
       " '__ne__',\n",
       " '__new__',\n",
       " '__reduce__',\n",
       " '__reduce_ex__',\n",
       " '__repr__',\n",
       " '__reversed__',\n",
       " '__rmul__',\n",
       " '__setattr__',\n",
       " '__setitem__',\n",
       " '__sizeof__',\n",
       " '__str__',\n",
       " '__subclasshook__',\n",
       " 'append',\n",
       " 'clear',\n",
       " 'copy',\n",
       " 'count',\n",
       " 'extend',\n",
       " 'index',\n",
       " 'insert',\n",
       " 'pop',\n",
       " 'remove',\n",
       " 'reverse',\n",
       " 'sort']"
      ]
     },
     "execution_count": 1,
     "metadata": {},
     "output_type": "execute_result"
    }
   ],
   "source": [
    "dir(list)"
   ]
  },
  {
   "cell_type": "code",
   "execution_count": 2,
   "id": "88a1abfc",
   "metadata": {},
   "outputs": [
    {
     "name": "stdout",
     "output_type": "stream",
     "text": [
      "[8, 2, 4, 6, 'tavish']\n",
      "['sai', 'kumar', 60, 80]\n",
      "[30, 45, 15, 'hai']\n"
     ]
    }
   ],
   "source": [
    "s=[8,2,4,6,'tavish']\n",
    "t=['sai','kumar',60,80]\n",
    "v=[30,45,15,'hai']\n",
    "print(s)\n",
    "print(t)\n",
    "print(v)"
   ]
  },
  {
   "cell_type": "code",
   "execution_count": 3,
   "id": "d2510fd2",
   "metadata": {},
   "outputs": [
    {
     "name": "stdout",
     "output_type": "stream",
     "text": [
      "[8, 2, 4, 6, 'tavish']\n"
     ]
    }
   ],
   "source": [
    "# append->We will read only single value.\n",
    "# extend->We will add more than one value using extend.\n",
    "print(s)"
   ]
  },
  {
   "cell_type": "code",
   "execution_count": 14,
   "id": "68d06f7d",
   "metadata": {},
   "outputs": [
    {
     "data": {
      "text/plain": [
       "['sai', 'kumar', 60, 80, 77]"
      ]
     },
     "execution_count": 14,
     "metadata": {},
     "output_type": "execute_result"
    }
   ],
   "source": [
    "t.extend([77])\n",
    "t"
   ]
  },
  {
   "cell_type": "code",
   "execution_count": 17,
   "id": "2d54b1f7",
   "metadata": {},
   "outputs": [
    {
     "data": {
      "text/plain": [
       "[8, 2, 4, 6, 'tavish']"
      ]
     },
     "execution_count": 17,
     "metadata": {},
     "output_type": "execute_result"
    }
   ],
   "source": [
    "s=[8,2,4,6,'tavish']\n",
    "s"
   ]
  },
  {
   "cell_type": "code",
   "execution_count": 23,
   "id": "1a52061a",
   "metadata": {},
   "outputs": [
    {
     "data": {
      "text/plain": [
       "[8, 2, 4, 6, 'tavish', [5]]"
      ]
     },
     "execution_count": 23,
     "metadata": {},
     "output_type": "execute_result"
    }
   ],
   "source": [
    "s=[8,2,4,6,'tavish']\n",
    "s.append([5])\n",
    "s"
   ]
  },
  {
   "cell_type": "code",
   "execution_count": 25,
   "id": "3e842c18",
   "metadata": {},
   "outputs": [
    {
     "data": {
      "text/plain": [
       "['sai', 'kumar', 60, 80, 77, 77, 10, 520]"
      ]
     },
     "execution_count": 25,
     "metadata": {},
     "output_type": "execute_result"
    }
   ],
   "source": [
    "t.extend([77,10,520])\n",
    "t"
   ]
  },
  {
   "cell_type": "code",
   "execution_count": 26,
   "id": "ac25ddb6",
   "metadata": {},
   "outputs": [
    {
     "data": {
      "text/plain": [
       "[30, 45, 15]"
      ]
     },
     "execution_count": 26,
     "metadata": {},
     "output_type": "execute_result"
    }
   ],
   "source": [
    "v=[30,45,15,'hai']\n",
    "v.pop()\n",
    "v"
   ]
  },
  {
   "cell_type": "code",
   "execution_count": 28,
   "id": "49d10004",
   "metadata": {},
   "outputs": [
    {
     "data": {
      "text/plain": [
       "[80, 60, 'kumar', 'sai']"
      ]
     },
     "execution_count": 28,
     "metadata": {},
     "output_type": "execute_result"
    }
   ],
   "source": [
    "t=['sai','kumar',60,80]\n",
    "t.reverse()\n",
    "t"
   ]
  },
  {
   "cell_type": "code",
   "execution_count": 30,
   "id": "9928fcee",
   "metadata": {},
   "outputs": [
    {
     "data": {
      "text/plain": [
       "[]"
      ]
     },
     "execution_count": 30,
     "metadata": {},
     "output_type": "execute_result"
    }
   ],
   "source": [
    "t=['sai','kumar',60,80]\n",
    "t.clear()\n",
    "t"
   ]
  },
  {
   "cell_type": "code",
   "execution_count": 32,
   "id": "6d585ce6",
   "metadata": {},
   "outputs": [
    {
     "data": {
      "text/plain": [
       "[8, 2, 'SN', 4, 6, 'tavish']"
      ]
     },
     "execution_count": 32,
     "metadata": {},
     "output_type": "execute_result"
    }
   ],
   "source": [
    "s=[8,2,4,6,'tavish']\n",
    "s.insert(2,'SN')\n",
    "s"
   ]
  },
  {
   "cell_type": "code",
   "execution_count": 36,
   "id": "b43e329f",
   "metadata": {},
   "outputs": [
    {
     "name": "stdout",
     "output_type": "stream",
     "text": [
      "[0, 2, 4, 6, 8, 10]\n",
      "[1, 3, 5, 7, 9]\n",
      "[0, 2, 4, 6, 8, 10, 1, 3, 5, 7, 9]\n"
     ]
    }
   ],
   "source": [
    "# 0-10 range\n",
    "# program\n",
    "# print(even number)\n",
    "# print result(total numbers(0-10))\n",
    "even=[]\n",
    "odd=[]\n",
    "for i in range(0,11):\n",
    "    if i%2==0:\n",
    "        even.append(i)\n",
    "    else:\n",
    "        odd.append(i)\n",
    "print(even)\n",
    "print(odd)\n",
    "print(even+odd)"
   ]
  },
  {
   "cell_type": "code",
   "execution_count": 43,
   "id": "bd6b2333",
   "metadata": {},
   "outputs": [
    {
     "name": "stdout",
     "output_type": "stream",
     "text": [
      "Largest number is 4556\n"
     ]
    }
   ],
   "source": [
    "# print largest values\n",
    "si=[10,656,484,466,4556,69]\n",
    "high=0\n",
    "for i in si:\n",
    "    if i>high:\n",
    "        high=i\n",
    "print('Largest number is',high)"
   ]
  },
  {
   "cell_type": "markdown",
   "id": "10477ffd",
   "metadata": {},
   "source": [
    "## Tuple\n",
    "- It is represented with ()"
   ]
  },
  {
   "cell_type": "code",
   "execution_count": 45,
   "id": "122964d7",
   "metadata": {},
   "outputs": [
    {
     "data": {
      "text/plain": [
       "(1, 2, 2, 5, 7, 8)"
      ]
     },
     "execution_count": 45,
     "metadata": {},
     "output_type": "execute_result"
    }
   ],
   "source": [
    "t=(1,2,2,5,7,8)\n",
    "t"
   ]
  },
  {
   "cell_type": "code",
   "execution_count": 47,
   "id": "72de7589",
   "metadata": {},
   "outputs": [
    {
     "name": "stdout",
     "output_type": "stream",
     "text": [
      "<class 'tuple'>\n"
     ]
    }
   ],
   "source": [
    "print(type(t))"
   ]
  },
  {
   "cell_type": "code",
   "execution_count": 48,
   "id": "a1d9a5fd",
   "metadata": {},
   "outputs": [
    {
     "data": {
      "text/plain": [
       "['__add__',\n",
       " '__class__',\n",
       " '__class_getitem__',\n",
       " '__contains__',\n",
       " '__delattr__',\n",
       " '__dir__',\n",
       " '__doc__',\n",
       " '__eq__',\n",
       " '__format__',\n",
       " '__ge__',\n",
       " '__getattribute__',\n",
       " '__getitem__',\n",
       " '__getnewargs__',\n",
       " '__gt__',\n",
       " '__hash__',\n",
       " '__init__',\n",
       " '__init_subclass__',\n",
       " '__iter__',\n",
       " '__le__',\n",
       " '__len__',\n",
       " '__lt__',\n",
       " '__mul__',\n",
       " '__ne__',\n",
       " '__new__',\n",
       " '__reduce__',\n",
       " '__reduce_ex__',\n",
       " '__repr__',\n",
       " '__rmul__',\n",
       " '__setattr__',\n",
       " '__sizeof__',\n",
       " '__str__',\n",
       " '__subclasshook__',\n",
       " 'count',\n",
       " 'index']"
      ]
     },
     "execution_count": 48,
     "metadata": {},
     "output_type": "execute_result"
    }
   ],
   "source": [
    "dir(tuple)"
   ]
  },
  {
   "cell_type": "markdown",
   "id": "13229a34",
   "metadata": {},
   "source": [
    "### Set\n",
    "- Set is reprseneted with {}"
   ]
  },
  {
   "cell_type": "code",
   "execution_count": 50,
   "id": "a230dea9",
   "metadata": {},
   "outputs": [
    {
     "name": "stdout",
     "output_type": "stream",
     "text": [
      "<class 'set'>\n"
     ]
    }
   ],
   "source": [
    "s={1,2,5,7,8,99,56}\n",
    "print(type(s))"
   ]
  },
  {
   "cell_type": "code",
   "execution_count": 53,
   "id": "d9fdd8b0",
   "metadata": {},
   "outputs": [
    {
     "data": {
      "text/plain": [
       "list"
      ]
     },
     "execution_count": 53,
     "metadata": {},
     "output_type": "execute_result"
    }
   ],
   "source": [
    "q=[1,435,.66,667,64]\n",
    "r=(35,6465,44,9,77,85,7)\n",
    "t={7,89,45,4859,887}\n",
    "type(q)"
   ]
  },
  {
   "cell_type": "code",
   "execution_count": 54,
   "id": "0047f2bb",
   "metadata": {},
   "outputs": [
    {
     "name": "stdout",
     "output_type": "stream",
     "text": [
      "Length of list: 5\n",
      "Length of tuple: 7\n",
      "Length of set: 5\n"
     ]
    }
   ],
   "source": [
    "print(\"Length of list:\",len(q))\n",
    "print(\"Length of tuple:\",len(r))\n",
    "print(\"Length of set:\",len(t))"
   ]
  },
  {
   "cell_type": "code",
   "execution_count": 55,
   "id": "ce303f21",
   "metadata": {},
   "outputs": [
    {
     "data": {
      "text/plain": [
       "['__and__',\n",
       " '__class__',\n",
       " '__class_getitem__',\n",
       " '__contains__',\n",
       " '__delattr__',\n",
       " '__dir__',\n",
       " '__doc__',\n",
       " '__eq__',\n",
       " '__format__',\n",
       " '__ge__',\n",
       " '__getattribute__',\n",
       " '__gt__',\n",
       " '__hash__',\n",
       " '__iand__',\n",
       " '__init__',\n",
       " '__init_subclass__',\n",
       " '__ior__',\n",
       " '__isub__',\n",
       " '__iter__',\n",
       " '__ixor__',\n",
       " '__le__',\n",
       " '__len__',\n",
       " '__lt__',\n",
       " '__ne__',\n",
       " '__new__',\n",
       " '__or__',\n",
       " '__rand__',\n",
       " '__reduce__',\n",
       " '__reduce_ex__',\n",
       " '__repr__',\n",
       " '__ror__',\n",
       " '__rsub__',\n",
       " '__rxor__',\n",
       " '__setattr__',\n",
       " '__sizeof__',\n",
       " '__str__',\n",
       " '__sub__',\n",
       " '__subclasshook__',\n",
       " '__xor__',\n",
       " 'add',\n",
       " 'clear',\n",
       " 'copy',\n",
       " 'difference',\n",
       " 'difference_update',\n",
       " 'discard',\n",
       " 'intersection',\n",
       " 'intersection_update',\n",
       " 'isdisjoint',\n",
       " 'issubset',\n",
       " 'issuperset',\n",
       " 'pop',\n",
       " 'remove',\n",
       " 'symmetric_difference',\n",
       " 'symmetric_difference_update',\n",
       " 'union',\n",
       " 'update']"
      ]
     },
     "execution_count": 55,
     "metadata": {},
     "output_type": "execute_result"
    }
   ],
   "source": [
    "dir(set)"
   ]
  },
  {
   "cell_type": "code",
   "execution_count": 57,
   "id": "fabd7850",
   "metadata": {},
   "outputs": [
    {
     "data": {
      "text/plain": [
       "{'Audi', 'ant', 'car', 'cat'}"
      ]
     },
     "execution_count": 57,
     "metadata": {},
     "output_type": "execute_result"
    }
   ],
   "source": [
    "s={'ant','cat','car','Audi'}\n",
    "s"
   ]
  },
  {
   "cell_type": "code",
   "execution_count": 62,
   "id": "75d6f4f6",
   "metadata": {},
   "outputs": [
    {
     "data": {
      "text/plain": [
       "{1, 145, 2, 3, 4, 7, 99, 'Audi', 'ant', 'car', 'cat'}"
      ]
     },
     "execution_count": 62,
     "metadata": {},
     "output_type": "execute_result"
    }
   ],
   "source": [
    "s.update((1,2,3,7))\n",
    "s"
   ]
  },
  {
   "cell_type": "markdown",
   "id": "e354967c",
   "metadata": {},
   "source": [
    "### Deletion\n",
    "- clear()-to clear the all data\n",
    "- remove()- It is used to remove a particular value\n",
    "- discard()- It is used to discard a particular vbalue\n",
    "- POp()-TO delete a particular elements"
   ]
  },
  {
   "cell_type": "code",
   "execution_count": 64,
   "id": "0d5ef5a6",
   "metadata": {},
   "outputs": [
    {
     "data": {
      "text/plain": [
       "{1, 145, 2, 3, 4, 7, 99, 'Audi', 'ant', 'car', 'cat'}"
      ]
     },
     "execution_count": 64,
     "metadata": {},
     "output_type": "execute_result"
    }
   ],
   "source": [
    "s"
   ]
  },
  {
   "cell_type": "code",
   "execution_count": 72,
   "id": "f957e248",
   "metadata": {},
   "outputs": [
    {
     "data": {
      "text/plain": [
       "{2, 3, 4, 7, 99, 'ant', 'car', 'cat'}"
      ]
     },
     "execution_count": 72,
     "metadata": {},
     "output_type": "execute_result"
    }
   ],
   "source": [
    "s.remove((\"Audi\"))\n",
    "s"
   ]
  },
  {
   "cell_type": "code",
   "execution_count": 75,
   "id": "ff200c8d",
   "metadata": {},
   "outputs": [
    {
     "name": "stdout",
     "output_type": "stream",
     "text": [
      "{2, 3, 4, 7, 'ant', 'car', 'cat'}\n"
     ]
    }
   ],
   "source": [
    "s.discard((99))\n",
    "print(s)"
   ]
  },
  {
   "cell_type": "code",
   "execution_count": 76,
   "id": "069f4b40",
   "metadata": {},
   "outputs": [
    {
     "name": "stdout",
     "output_type": "stream",
     "text": [
      "{2, 3, 4, 7, 'car', 'cat'}\n"
     ]
    }
   ],
   "source": [
    "s.discard(('ant'))\n",
    "print(s)"
   ]
  },
  {
   "cell_type": "code",
   "execution_count": 78,
   "id": "b05eb005",
   "metadata": {},
   "outputs": [
    {
     "data": {
      "text/plain": [
       "{2, 3, 7, 'car', 'cat'}"
      ]
     },
     "execution_count": 78,
     "metadata": {},
     "output_type": "execute_result"
    }
   ],
   "source": [
    "s.discard((4))\n",
    "s"
   ]
  },
  {
   "cell_type": "code",
   "execution_count": 79,
   "id": "4a018440",
   "metadata": {},
   "outputs": [
    {
     "data": {
      "text/plain": [
       "{2, 3, 7, 'car', 'cat'}"
      ]
     },
     "execution_count": 79,
     "metadata": {},
     "output_type": "execute_result"
    }
   ],
   "source": [
    "s"
   ]
  },
  {
   "cell_type": "code",
   "execution_count": 80,
   "id": "be312e24",
   "metadata": {},
   "outputs": [
    {
     "data": {
      "text/plain": [
       "2"
      ]
     },
     "execution_count": 80,
     "metadata": {},
     "output_type": "execute_result"
    }
   ],
   "source": [
    "s.pop()"
   ]
  },
  {
   "cell_type": "code",
   "execution_count": 81,
   "id": "4b8e25c6",
   "metadata": {},
   "outputs": [
    {
     "data": {
      "text/plain": [
       "{3, 7, 'car', 'cat'}"
      ]
     },
     "execution_count": 81,
     "metadata": {},
     "output_type": "execute_result"
    }
   ],
   "source": [
    "s"
   ]
  },
  {
   "cell_type": "code",
   "execution_count": 82,
   "id": "404f9769",
   "metadata": {},
   "outputs": [
    {
     "data": {
      "text/plain": [
       "set()"
      ]
     },
     "execution_count": 82,
     "metadata": {},
     "output_type": "execute_result"
    }
   ],
   "source": [
    "s.clear()\n",
    "s"
   ]
  },
  {
   "cell_type": "markdown",
   "id": "cf71c8d3",
   "metadata": {},
   "source": [
    "### Set Operations\n",
    "- Unioun->Combination all elements from two sets\n",
    "- Intersection->Common elements from two sets\n",
    "- Difference->All the remaining elements from a set after removing the common elements \n",
    "- Symmetric-Difference->Uncommon elements from the both sets."
   ]
  },
  {
   "cell_type": "code",
   "execution_count": 90,
   "id": "fcff0345",
   "metadata": {},
   "outputs": [
    {
     "name": "stdout",
     "output_type": "stream",
     "text": [
      "{1, 2, 3, 4, 5, 6, 7, 8, 9}\n",
      "{8, 1, 2, 3}\n",
      "{4, 6}\n",
      "{9, 5, 7}\n",
      "{4, 5, 6, 7, 9}\n"
     ]
    }
   ],
   "source": [
    "a={1,2,3,4,6,8,}\n",
    "b={1,3,5,7,9,2,8}\n",
    "print(a.union(b))\n",
    "print(a.intersection(b))\n",
    "print(a.difference(b))\n",
    "print(b.difference(a))\n",
    "print(a.symmetric_difference(b))"
   ]
  },
  {
   "cell_type": "code",
   "execution_count": 94,
   "id": "c332ecf8",
   "metadata": {},
   "outputs": [
    {
     "name": "stdout",
     "output_type": "stream",
     "text": [
      "{1, 2, 3, 4, 6, 8}\n"
     ]
    },
    {
     "data": {
      "text/plain": [
       "{1, 2, 3, 4, 6, 8}"
      ]
     },
     "execution_count": 94,
     "metadata": {},
     "output_type": "execute_result"
    }
   ],
   "source": [
    "a={1,2,8,4,6,3,}\n",
    "a1=a.copy()\n",
    "print(a1)\n",
    "a1"
   ]
  },
  {
   "cell_type": "code",
   "execution_count": 96,
   "id": "27c2be01",
   "metadata": {},
   "outputs": [
    {
     "name": "stdout",
     "output_type": "stream",
     "text": [
      "False\n",
      "False\n"
     ]
    }
   ],
   "source": [
    "m={1,2,3,5,7,8,}\n",
    "n={4,8,7}\n",
    "print(n.issubset(m))\n",
    "print(m.issuperset(n))"
   ]
  },
  {
   "cell_type": "code",
   "execution_count": 99,
   "id": "b2b2d82b",
   "metadata": {},
   "outputs": [
    {
     "name": "stdout",
     "output_type": "stream",
     "text": [
      "True\n",
      "False\n",
      "True\n"
     ]
    }
   ],
   "source": [
    "m={1,2,3,4,5,7,8}\n",
    "n={4,8,7}\n",
    "print(n.issubset(m))\n",
    "print(n.issuperset(m))\n",
    "print(m.issuperset(n))"
   ]
  },
  {
   "cell_type": "code",
   "execution_count": 101,
   "id": "5e0a7c20",
   "metadata": {},
   "outputs": [
    {
     "name": "stdout",
     "output_type": "stream",
     "text": [
      "True\n"
     ]
    }
   ],
   "source": [
    "d={4,5,9,7,5}\n",
    "f={1,2,3}\n",
    "print(f.isdisjoint(d))"
   ]
  },
  {
   "cell_type": "code",
   "execution_count": 102,
   "id": "18fffdd1",
   "metadata": {},
   "outputs": [
    {
     "data": {
      "text/plain": [
       "['__and__',\n",
       " '__class__',\n",
       " '__class_getitem__',\n",
       " '__contains__',\n",
       " '__delattr__',\n",
       " '__dir__',\n",
       " '__doc__',\n",
       " '__eq__',\n",
       " '__format__',\n",
       " '__ge__',\n",
       " '__getattribute__',\n",
       " '__gt__',\n",
       " '__hash__',\n",
       " '__iand__',\n",
       " '__init__',\n",
       " '__init_subclass__',\n",
       " '__ior__',\n",
       " '__isub__',\n",
       " '__iter__',\n",
       " '__ixor__',\n",
       " '__le__',\n",
       " '__len__',\n",
       " '__lt__',\n",
       " '__ne__',\n",
       " '__new__',\n",
       " '__or__',\n",
       " '__rand__',\n",
       " '__reduce__',\n",
       " '__reduce_ex__',\n",
       " '__repr__',\n",
       " '__ror__',\n",
       " '__rsub__',\n",
       " '__rxor__',\n",
       " '__setattr__',\n",
       " '__sizeof__',\n",
       " '__str__',\n",
       " '__sub__',\n",
       " '__subclasshook__',\n",
       " '__xor__',\n",
       " 'add',\n",
       " 'clear',\n",
       " 'copy',\n",
       " 'difference',\n",
       " 'difference_update',\n",
       " 'discard',\n",
       " 'intersection',\n",
       " 'intersection_update',\n",
       " 'isdisjoint',\n",
       " 'issubset',\n",
       " 'issuperset',\n",
       " 'pop',\n",
       " 'remove',\n",
       " 'symmetric_difference',\n",
       " 'symmetric_difference_update',\n",
       " 'union',\n",
       " 'update']"
      ]
     },
     "execution_count": 102,
     "metadata": {},
     "output_type": "execute_result"
    }
   ],
   "source": [
    "dir(set)"
   ]
  },
  {
   "cell_type": "code",
   "execution_count": 106,
   "id": "5e42c524",
   "metadata": {},
   "outputs": [
    {
     "name": "stdout",
     "output_type": "stream",
     "text": [
      "None\n"
     ]
    }
   ],
   "source": [
    "a={1,2,3,4,6,8,}\n",
    "b={1,3,5,7,9,2,8}\n",
    "print(b.difference_update(a))"
   ]
  },
  {
   "cell_type": "markdown",
   "id": "8876263b",
   "metadata": {},
   "source": [
    "### Dictionaries\n",
    "- Dictionary is an unorder collection of items.\n",
    "- Each item of dictionary has a key and value pair:::(key:value).\n",
    "- Dictionary is mutable and changable.\n",
    "- In python dictionary is written in {}.\n",
    "- Keys are not alllowed duplicate values.\n",
    "- Values are allowed to duplicate values.\n",
    "- Entire dictionary is depanding upon key.\n",
    "    - keys are unique in nature.\n",
    "    - Keys can be written in any datatype.\n",
    "- Values may be similar to values, mentioned as any datatype.\n",
    "- Key and value together called as a item.\n",
    "- In dictionary indexing is not supported."
   ]
  },
  {
   "cell_type": "code",
   "execution_count": 108,
   "id": "073fb6f6",
   "metadata": {},
   "outputs": [
    {
     "name": "stdout",
     "output_type": "stream",
     "text": [
      "<class 'dict'>\n"
     ]
    }
   ],
   "source": [
    "d={}\n",
    "print(type(d))"
   ]
  },
  {
   "cell_type": "code",
   "execution_count": 119,
   "id": "c2adeb6e",
   "metadata": {},
   "outputs": [
    {
     "data": {
      "text/plain": [
       "{10: 6, 20: 6, 30: 2}"
      ]
     },
     "execution_count": 119,
     "metadata": {},
     "output_type": "execute_result"
    }
   ],
   "source": [
    "d={10:7,20:6,30:2,10:6} # Key can't mention duplicate values\n",
    "d"
   ]
  },
  {
   "cell_type": "code",
   "execution_count": 121,
   "id": "662c1ad7",
   "metadata": {},
   "outputs": [
    {
     "name": "stdout",
     "output_type": "stream",
     "text": [
      "60\n",
      "30\n",
      "10\n",
      "3\n",
      "[10, 20, 30]\n"
     ]
    }
   ],
   "source": [
    "d={10:7,20:6,30:2,10:6} # Key can't mention duplicate values\n",
    "print(sum(d))\n",
    "print(max(d))\n",
    "print(min(d))\n",
    "print(len(d))\n",
    "print(sorted(d))"
   ]
  },
  {
   "cell_type": "code",
   "execution_count": 122,
   "id": "4fd3fb7a",
   "metadata": {},
   "outputs": [
    {
     "name": "stdout",
     "output_type": "stream",
     "text": [
      "{10: 7, 20: 6, 30: 2, 40: {3, 5, 6}}\n"
     ]
    }
   ],
   "source": [
    "d1={10:7,20:6,30:2,40:{6,5,3}}\n",
    "print(d1)"
   ]
  },
  {
   "cell_type": "code",
   "execution_count": 123,
   "id": "57d8fbb5",
   "metadata": {},
   "outputs": [
    {
     "data": {
      "text/plain": [
       "{3, 5, 6}"
      ]
     },
     "execution_count": 123,
     "metadata": {},
     "output_type": "execute_result"
    }
   ],
   "source": [
    "d1[40]"
   ]
  },
  {
   "cell_type": "code",
   "execution_count": 124,
   "id": "f064d4a0",
   "metadata": {},
   "outputs": [
    {
     "data": {
      "text/plain": [
       "['__class__',\n",
       " '__class_getitem__',\n",
       " '__contains__',\n",
       " '__delattr__',\n",
       " '__delitem__',\n",
       " '__dir__',\n",
       " '__doc__',\n",
       " '__eq__',\n",
       " '__format__',\n",
       " '__ge__',\n",
       " '__getattribute__',\n",
       " '__getitem__',\n",
       " '__gt__',\n",
       " '__hash__',\n",
       " '__init__',\n",
       " '__init_subclass__',\n",
       " '__ior__',\n",
       " '__iter__',\n",
       " '__le__',\n",
       " '__len__',\n",
       " '__lt__',\n",
       " '__ne__',\n",
       " '__new__',\n",
       " '__or__',\n",
       " '__reduce__',\n",
       " '__reduce_ex__',\n",
       " '__repr__',\n",
       " '__reversed__',\n",
       " '__ror__',\n",
       " '__setattr__',\n",
       " '__setitem__',\n",
       " '__sizeof__',\n",
       " '__str__',\n",
       " '__subclasshook__',\n",
       " 'clear',\n",
       " 'copy',\n",
       " 'fromkeys',\n",
       " 'get',\n",
       " 'items',\n",
       " 'keys',\n",
       " 'pop',\n",
       " 'popitem',\n",
       " 'setdefault',\n",
       " 'update',\n",
       " 'values']"
      ]
     },
     "execution_count": 124,
     "metadata": {},
     "output_type": "execute_result"
    }
   ],
   "source": [
    "dir(dict)"
   ]
  },
  {
   "cell_type": "code",
   "execution_count": 125,
   "id": "c1b7b7c6",
   "metadata": {},
   "outputs": [
    {
     "data": {
      "text/plain": [
       "{3, 5, 6}"
      ]
     },
     "execution_count": 125,
     "metadata": {},
     "output_type": "execute_result"
    }
   ],
   "source": [
    "d1.get(40)"
   ]
  },
  {
   "cell_type": "code",
   "execution_count": 126,
   "id": "7953fdc6",
   "metadata": {},
   "outputs": [
    {
     "data": {
      "text/plain": [
       "dict_items([(10, 7), (20, 6), (30, 2), (40, {3, 5, 6})])"
      ]
     },
     "execution_count": 126,
     "metadata": {},
     "output_type": "execute_result"
    }
   ],
   "source": [
    "d1.items()"
   ]
  },
  {
   "cell_type": "code",
   "execution_count": 127,
   "id": "3e01481e",
   "metadata": {},
   "outputs": [
    {
     "data": {
      "text/plain": [
       "dict_keys([10, 20, 30, 40])"
      ]
     },
     "execution_count": 127,
     "metadata": {},
     "output_type": "execute_result"
    }
   ],
   "source": [
    "d1.keys()"
   ]
  },
  {
   "cell_type": "code",
   "execution_count": 128,
   "id": "5a9530e7",
   "metadata": {},
   "outputs": [
    {
     "data": {
      "text/plain": [
       "dict_values([7, 6, 2, {3, 5, 6}])"
      ]
     },
     "execution_count": 128,
     "metadata": {},
     "output_type": "execute_result"
    }
   ],
   "source": [
    "d1.values()"
   ]
  },
  {
   "cell_type": "code",
   "execution_count": 133,
   "id": "623c9f9b",
   "metadata": {},
   "outputs": [
    {
     "data": {
      "text/plain": [
       "{10: 7, 20: 6, 30: 2, 40: {3, 5, 6}, 'python': 'time'}"
      ]
     },
     "execution_count": 133,
     "metadata": {},
     "output_type": "execute_result"
    }
   ],
   "source": [
    "d1['python']='time'\n",
    "d1"
   ]
  },
  {
   "cell_type": "code",
   "execution_count": 135,
   "id": "03150c5e",
   "metadata": {},
   "outputs": [
    {
     "data": {
      "text/plain": [
       "{20: 6, 30: 2, 40: {3, 5, 6}, 'python': 'time'}"
      ]
     },
     "execution_count": 135,
     "metadata": {},
     "output_type": "execute_result"
    }
   ],
   "source": [
    "d1.pop(10)\n",
    "d1"
   ]
  },
  {
   "cell_type": "code",
   "execution_count": 139,
   "id": "222b55aa",
   "metadata": {},
   "outputs": [
    {
     "data": {
      "text/plain": [
       "{20: 6, 30: 2, 40: {3, 5, 6}}"
      ]
     },
     "execution_count": 139,
     "metadata": {},
     "output_type": "execute_result"
    }
   ],
   "source": [
    "d1.popitem()\n",
    "d1"
   ]
  },
  {
   "cell_type": "code",
   "execution_count": 140,
   "id": "68e83289",
   "metadata": {},
   "outputs": [
    {
     "data": {
      "text/plain": [
       "{20: 6, 30: 2}"
      ]
     },
     "execution_count": 140,
     "metadata": {},
     "output_type": "execute_result"
    }
   ],
   "source": [
    "d1.popitem()\n",
    "d1"
   ]
  },
  {
   "cell_type": "code",
   "execution_count": 146,
   "id": "68d4ea39",
   "metadata": {},
   "outputs": [
    {
     "name": "stdout",
     "output_type": "stream",
     "text": [
      "{20: 6, 30: 2, 40: {3, 5, 6}}\n"
     ]
    }
   ],
   "source": [
    "d1={20: 6, 30: 2, 40: {3, 5, 6}}\n",
    "d2=d1.copy()\n",
    "print(d2)"
   ]
  },
  {
   "cell_type": "code",
   "execution_count": 147,
   "id": "545091c0",
   "metadata": {},
   "outputs": [
    {
     "data": {
      "text/plain": [
       "{'w': None, 'o': None, 'r': None, 'k': None}"
      ]
     },
     "execution_count": 147,
     "metadata": {},
     "output_type": "execute_result"
    }
   ],
   "source": [
    "d2.fromkeys(\"work\")"
   ]
  },
  {
   "cell_type": "code",
   "execution_count": 153,
   "id": "a16bdcea",
   "metadata": {},
   "outputs": [
    {
     "data": {
      "text/plain": [
       "{'w': 45, 'o': 45, 'r': 45, 'k': 45}"
      ]
     },
     "execution_count": 153,
     "metadata": {},
     "output_type": "execute_result"
    }
   ],
   "source": [
    "d2.fromkeys(\"work\",45)"
   ]
  },
  {
   "cell_type": "code",
   "execution_count": 156,
   "id": "dd2aa038",
   "metadata": {},
   "outputs": [
    {
     "data": {
      "text/plain": [
       "{20: 6,\n",
       " 30: 2,\n",
       " 40: {3, 5, 6},\n",
       " 5: 4,\n",
       " 'hai': 'Everyone',\n",
       " 15: 4,\n",
       " 'hello': 'Everyone'}"
      ]
     },
     "execution_count": 156,
     "metadata": {},
     "output_type": "execute_result"
    }
   ],
   "source": [
    "d2.update({15:4,\"hello\":\"Everyone\"})\n",
    "d2"
   ]
  },
  {
   "cell_type": "code",
   "execution_count": 158,
   "id": "4f5e3b17",
   "metadata": {},
   "outputs": [
    {
     "data": {
      "text/plain": [
       "{20: 6, 30: 2, 40: {3, 5, 6}, 5: 4, 'hai': 'Everyone', 15: 4}"
      ]
     },
     "execution_count": 158,
     "metadata": {},
     "output_type": "execute_result"
    }
   ],
   "source": [
    "d2.pop(\"hello\")\n",
    "d2"
   ]
  },
  {
   "cell_type": "code",
   "execution_count": 160,
   "id": "b51cd5dd",
   "metadata": {},
   "outputs": [
    {
     "data": {
      "text/plain": [
       "{}"
      ]
     },
     "execution_count": 160,
     "metadata": {},
     "output_type": "execute_result"
    }
   ],
   "source": [
    "d2.clear()\n",
    "d2"
   ]
  },
  {
   "cell_type": "markdown",
   "id": "a406df7f",
   "metadata": {},
   "source": [
    "### Modules and Packages\n",
    "- Module: Module is nothing but (.py) file or no of files it contains functions.\n",
    "    - module is a single or multiple files that can be reuse your code.\n",
    "- Package: Collection of modules \n",
    "    - package is a directory of such modules.\n",
    "    - It is possible to put several modules into a package.\n",
    "- Modules are two types:\n",
    "    - Bultin module Ex: Math functions.\n",
    "    - user defined modules."
   ]
  },
  {
   "cell_type": "markdown",
   "id": "d140d191",
   "metadata": {},
   "source": [
    "### Import math"
   ]
  },
  {
   "cell_type": "code",
   "execution_count": 5,
   "id": "8ae7b373",
   "metadata": {},
   "outputs": [
    {
     "name": "stdout",
     "output_type": "stream",
     "text": [
      "['__doc__', '__loader__', '__name__', '__package__', '__spec__', 'acos', 'acosh', 'asin', 'asinh', 'atan', 'atan2', 'atanh', 'ceil', 'comb', 'copysign', 'cos', 'cosh', 'degrees', 'dist', 'e', 'erf', 'erfc', 'exp', 'expm1', 'fabs', 'factorial', 'floor', 'fmod', 'frexp', 'fsum', 'gamma', 'gcd', 'hypot', 'inf', 'isclose', 'isfinite', 'isinf', 'isnan', 'isqrt', 'lcm', 'ldexp', 'lgamma', 'log', 'log10', 'log1p', 'log2', 'modf', 'nan', 'nextafter', 'perm', 'pi', 'pow', 'prod', 'radians', 'remainder', 'sin', 'sinh', 'sqrt', 'tan', 'tanh', 'tau', 'trunc', 'ulp'] "
     ]
    }
   ],
   "source": [
    "import math\n",
    "aprint(dir(math),end=\" \")"
   ]
  },
  {
   "cell_type": "code",
   "execution_count": 20,
   "id": "c0784ff8",
   "metadata": {},
   "outputs": [
    {
     "name": "stdout",
     "output_type": "stream",
     "text": [
      "3628800\n",
      "2.0\n",
      "24\n",
      "23\n",
      "64.0\n"
     ]
    }
   ],
   "source": [
    "from math import *\n",
    "print(factorial(10))\n",
    "print(remainder(20,6))\n",
    "print(ceil(23.76))\n",
    "print(floor(23.76))\n",
    "print(pow(2,6))"
   ]
  },
  {
   "cell_type": "code",
   "execution_count": null,
   "id": "9de72e74",
   "metadata": {},
   "outputs": [],
   "source": [
    "from math import factorial\n",
    "print(factorial(10))\n",
    "print(remainder(20,6))\n",
    "print(pi)"
   ]
  },
  {
   "cell_type": "code",
   "execution_count": 22,
   "id": "7a2d8bd0",
   "metadata": {},
   "outputs": [
    {
     "name": "stdout",
     "output_type": "stream",
     "text": [
      "3628800\n"
     ]
    }
   ],
   "source": [
    "print(factorial(10))"
   ]
  },
  {
   "cell_type": "code",
   "execution_count": 12,
   "id": "94ff0d6d",
   "metadata": {},
   "outputs": [
    {
     "name": "stdout",
     "output_type": "stream",
     "text": [
      "3.141592653589793\n"
     ]
    }
   ],
   "source": [
    "print(pi)"
   ]
  },
  {
   "cell_type": "code",
   "execution_count": 10,
   "id": "388cd246",
   "metadata": {},
   "outputs": [
    {
     "name": "stdout",
     "output_type": "stream",
     "text": [
      "2.0\n"
     ]
    }
   ],
   "source": [
    "print(remainder(20,6))"
   ]
  },
  {
   "cell_type": "code",
   "execution_count": 14,
   "id": "c6f3e9f5",
   "metadata": {},
   "outputs": [],
   "source": [
    "from math import *"
   ]
  },
  {
   "cell_type": "code",
   "execution_count": 15,
   "id": "a3ef2846",
   "metadata": {},
   "outputs": [
    {
     "name": "stdout",
     "output_type": "stream",
     "text": [
      "23\n"
     ]
    }
   ],
   "source": [
    "print(floor(23.76))"
   ]
  },
  {
   "cell_type": "code",
   "execution_count": 16,
   "id": "e77ab2d2",
   "metadata": {},
   "outputs": [
    {
     "name": "stdout",
     "output_type": "stream",
     "text": [
      "24\n"
     ]
    }
   ],
   "source": [
    "print(ceil(23.76))"
   ]
  },
  {
   "cell_type": "code",
   "execution_count": 4,
   "id": "bff27002",
   "metadata": {},
   "outputs": [
    {
     "name": "stdout",
     "output_type": "stream",
     "text": [
      "1.6197751905438615\n"
     ]
    }
   ],
   "source": [
    "print(tan(45))"
   ]
  },
  {
   "cell_type": "code",
   "execution_count": 5,
   "id": "fc1904b6",
   "metadata": {},
   "outputs": [
    {
     "name": "stdout",
     "output_type": "stream",
     "text": [
      "0.0\n"
     ]
    }
   ],
   "source": [
    "print(sin(0))"
   ]
  },
  {
   "cell_type": "code",
   "execution_count": 8,
   "id": "e99f0538",
   "metadata": {},
   "outputs": [
    {
     "name": "stdout",
     "output_type": "stream",
     "text": [
      "5\n"
     ]
    }
   ],
   "source": [
    "print(gcd(25,5))"
   ]
  },
  {
   "cell_type": "code",
   "execution_count": 2,
   "id": "47930153",
   "metadata": {},
   "outputs": [
    {
     "name": "stdout",
     "output_type": "stream",
     "text": [
      "['BPF', 'LOG4', 'NV_MAGICCONST', 'RECIP_BPF', 'Random', 'SG_MAGICCONST', 'SystemRandom', 'TWOPI', '_Sequence', '_Set', '__all__', '__builtins__', '__cached__', '__doc__', '__file__', '__loader__', '__name__', '__package__', '__spec__', '_accumulate', '_acos', '_bisect', '_ceil', '_cos', '_e', '_exp', '_floor', '_inst', '_log', '_os', '_pi', '_random', '_repeat', '_sha512', '_sin', '_sqrt', '_test', '_test_generator', '_urandom', '_warn', 'betavariate', 'choice', 'choices', 'expovariate', 'gammavariate', 'gauss', 'getrandbits', 'getstate', 'lognormvariate', 'normalvariate', 'paretovariate', 'randbytes', 'randint', 'random', 'randrange', 'sample', 'seed', 'setstate', 'shuffle', 'triangular', 'uniform', 'vonmisesvariate', 'weibullvariate']\n"
     ]
    }
   ],
   "source": [
    "import random\n",
    "print(dir(random))"
   ]
  },
  {
   "cell_type": "code",
   "execution_count": 4,
   "id": "e9fa608e",
   "metadata": {},
   "outputs": [],
   "source": [
    "from random import *"
   ]
  },
  {
   "cell_type": "code",
   "execution_count": 8,
   "id": "a9013345",
   "metadata": {},
   "outputs": [
    {
     "name": "stdout",
     "output_type": "stream",
     "text": [
      "10\n"
     ]
    }
   ],
   "source": [
    "print(randint(5,10))"
   ]
  },
  {
   "cell_type": "code",
   "execution_count": 11,
   "id": "1246df5e",
   "metadata": {},
   "outputs": [
    {
     "name": "stdout",
     "output_type": "stream",
     "text": [
      "0.9696644815693414\n"
     ]
    }
   ],
   "source": [
    "print(random())"
   ]
  },
  {
   "cell_type": "code",
   "execution_count": 12,
   "id": "34c4e16d",
   "metadata": {},
   "outputs": [
    {
     "data": {
      "text/plain": [
       "-59"
      ]
     },
     "execution_count": 12,
     "metadata": {},
     "output_type": "execute_result"
    }
   ],
   "source": [
    "randrange(-100,-55)"
   ]
  },
  {
   "cell_type": "code",
   "execution_count": 13,
   "id": "b072265f",
   "metadata": {},
   "outputs": [
    {
     "data": {
      "text/plain": [
       "-74"
      ]
     },
     "execution_count": 13,
     "metadata": {},
     "output_type": "execute_result"
    }
   ],
   "source": [
    "randint(-100,-55)"
   ]
  },
  {
   "cell_type": "code",
   "execution_count": 19,
   "id": "f5490308",
   "metadata": {},
   "outputs": [
    {
     "name": "stdout",
     "output_type": "stream",
     "text": [
      "                                  2022\n",
      "\n",
      "      January                   February                   March\n",
      "Mo Tu We Th Fr Sa Su      Mo Tu We Th Fr Sa Su      Mo Tu We Th Fr Sa Su\n",
      "                1  2          1  2  3  4  5  6          1  2  3  4  5  6\n",
      " 3  4  5  6  7  8  9       7  8  9 10 11 12 13       7  8  9 10 11 12 13\n",
      "10 11 12 13 14 15 16      14 15 16 17 18 19 20      14 15 16 17 18 19 20\n",
      "17 18 19 20 21 22 23      21 22 23 24 25 26 27      21 22 23 24 25 26 27\n",
      "24 25 26 27 28 29 30      28                        28 29 30 31\n",
      "31\n",
      "\n",
      "       April                      May                       June\n",
      "Mo Tu We Th Fr Sa Su      Mo Tu We Th Fr Sa Su      Mo Tu We Th Fr Sa Su\n",
      "             1  2  3                         1             1  2  3  4  5\n",
      " 4  5  6  7  8  9 10       2  3  4  5  6  7  8       6  7  8  9 10 11 12\n",
      "11 12 13 14 15 16 17       9 10 11 12 13 14 15      13 14 15 16 17 18 19\n",
      "18 19 20 21 22 23 24      16 17 18 19 20 21 22      20 21 22 23 24 25 26\n",
      "25 26 27 28 29 30         23 24 25 26 27 28 29      27 28 29 30\n",
      "                          30 31\n",
      "\n",
      "        July                     August                  September\n",
      "Mo Tu We Th Fr Sa Su      Mo Tu We Th Fr Sa Su      Mo Tu We Th Fr Sa Su\n",
      "             1  2  3       1  2  3  4  5  6  7                1  2  3  4\n",
      " 4  5  6  7  8  9 10       8  9 10 11 12 13 14       5  6  7  8  9 10 11\n",
      "11 12 13 14 15 16 17      15 16 17 18 19 20 21      12 13 14 15 16 17 18\n",
      "18 19 20 21 22 23 24      22 23 24 25 26 27 28      19 20 21 22 23 24 25\n",
      "25 26 27 28 29 30 31      29 30 31                  26 27 28 29 30\n",
      "\n",
      "      October                   November                  December\n",
      "Mo Tu We Th Fr Sa Su      Mo Tu We Th Fr Sa Su      Mo Tu We Th Fr Sa Su\n",
      "                1  2          1  2  3  4  5  6                1  2  3  4\n",
      " 3  4  5  6  7  8  9       7  8  9 10 11 12 13       5  6  7  8  9 10 11\n",
      "10 11 12 13 14 15 16      14 15 16 17 18 19 20      12 13 14 15 16 17 18\n",
      "17 18 19 20 21 22 23      21 22 23 24 25 26 27      19 20 21 22 23 24 25\n",
      "24 25 26 27 28 29 30      28 29 30                  26 27 28 29 30 31\n",
      "31\n",
      "\n"
     ]
    }
   ],
   "source": [
    "import calendar\n",
    "print(calendar.calendar(2022))"
   ]
  },
  {
   "cell_type": "code",
   "execution_count": 22,
   "id": "e2d04b16",
   "metadata": {},
   "outputs": [
    {
     "name": "stdout",
     "output_type": "stream",
     "text": [
      "True\n"
     ]
    }
   ],
   "source": [
    "print(calendar.isleap(2020))"
   ]
  },
  {
   "cell_type": "code",
   "execution_count": 23,
   "id": "cddb3564",
   "metadata": {},
   "outputs": [
    {
     "name": "stdout",
     "output_type": "stream",
     "text": [
      "      May 2022\n",
      "Mo Tu We Th Fr Sa Su\n",
      "                   1\n",
      " 2  3  4  5  6  7  8\n",
      " 9 10 11 12 13 14 15\n",
      "16 17 18 19 20 21 22\n",
      "23 24 25 26 27 28 29\n",
      "30 31\n",
      "\n"
     ]
    }
   ],
   "source": [
    "print(calendar.month(2022,5))"
   ]
  },
  {
   "cell_type": "code",
   "execution_count": 24,
   "id": "b551eff1",
   "metadata": {},
   "outputs": [],
   "source": [
    "import calc"
   ]
  },
  {
   "cell_type": "code",
   "execution_count": 25,
   "id": "ef79466e",
   "metadata": {},
   "outputs": [
    {
     "data": {
      "text/plain": [
       "['__builtins__',\n",
       " '__cached__',\n",
       " '__doc__',\n",
       " '__file__',\n",
       " '__loader__',\n",
       " '__name__',\n",
       " '__package__',\n",
       " '__spec__',\n",
       " 'add',\n",
       " 'div',\n",
       " 'mul',\n",
       " 'sub']"
      ]
     },
     "execution_count": 25,
     "metadata": {},
     "output_type": "execute_result"
    }
   ],
   "source": [
    "dir(calc)"
   ]
  },
  {
   "cell_type": "code",
   "execution_count": 31,
   "id": "0adc21af",
   "metadata": {},
   "outputs": [
    {
     "name": "stdout",
     "output_type": "stream",
     "text": [
      "70\n",
      "-10\n",
      "1200\n",
      "10.0\n"
     ]
    }
   ],
   "source": [
    "print(calc.add(30,40))\n",
    "print(calc.sub(30,40))\n",
    "print(calc.mul(30,40))\n",
    "print(calc.div(40,4))"
   ]
  },
  {
   "cell_type": "code",
   "execution_count": 29,
   "id": "c635fe6f",
   "metadata": {},
   "outputs": [
    {
     "data": {
      "text/plain": [
       "-10"
      ]
     },
     "execution_count": 29,
     "metadata": {},
     "output_type": "execute_result"
    }
   ],
   "source": [
    "calc.sub(30,40)"
   ]
  },
  {
   "cell_type": "code",
   "execution_count": 32,
   "id": "37415844",
   "metadata": {},
   "outputs": [
    {
     "data": {
      "text/plain": [
       "70"
      ]
     },
     "execution_count": 32,
     "metadata": {},
     "output_type": "execute_result"
    }
   ],
   "source": [
    "calc.add(30,40)"
   ]
  },
  {
   "cell_type": "code",
   "execution_count": 33,
   "id": "5b767ab2",
   "metadata": {},
   "outputs": [],
   "source": [
    "from calc import *"
   ]
  },
  {
   "cell_type": "code",
   "execution_count": 34,
   "id": "bab4679d",
   "metadata": {},
   "outputs": [
    {
     "data": {
      "text/plain": [
       "-10"
      ]
     },
     "execution_count": 34,
     "metadata": {},
     "output_type": "execute_result"
    }
   ],
   "source": [
    "calc.sub(30,40)"
   ]
  },
  {
   "cell_type": "code",
   "execution_count": 36,
   "id": "f17d97b7",
   "metadata": {},
   "outputs": [
    {
     "data": {
      "text/plain": [
       "70"
      ]
     },
     "execution_count": 36,
     "metadata": {},
     "output_type": "execute_result"
    }
   ],
   "source": [
    "calc.add(30,40)"
   ]
  },
  {
   "cell_type": "code",
   "execution_count": 37,
   "id": "3596484c",
   "metadata": {},
   "outputs": [],
   "source": [
    "from calc import add as a"
   ]
  },
  {
   "cell_type": "code",
   "execution_count": 38,
   "id": "2a7b7320",
   "metadata": {},
   "outputs": [
    {
     "data": {
      "text/plain": [
       "70"
      ]
     },
     "execution_count": 38,
     "metadata": {},
     "output_type": "execute_result"
    }
   ],
   "source": [
    "calc.add(30,40)"
   ]
  },
  {
   "cell_type": "code",
   "execution_count": 1,
   "id": "af5dc108",
   "metadata": {},
   "outputs": [],
   "source": [
    "import eo"
   ]
  },
  {
   "cell_type": "code",
   "execution_count": 2,
   "id": "00e26ef4",
   "metadata": {},
   "outputs": [
    {
     "name": "stdout",
     "output_type": "stream",
     "text": [
      "The Given Number Is odd\n",
      "The Given Number Is odd\n"
     ]
    }
   ],
   "source": [
    "eo.ev(15)"
   ]
  },
  {
   "cell_type": "code",
   "execution_count": 8,
   "id": "5c6b9dd5",
   "metadata": {},
   "outputs": [],
   "source": [
    "import eo"
   ]
  },
  {
   "cell_type": "code",
   "execution_count": 9,
   "id": "79328a92",
   "metadata": {},
   "outputs": [
    {
     "name": "stdout",
     "output_type": "stream",
     "text": [
      "The Given Number Is Even\n",
      "The Given Number Is Even\n"
     ]
    }
   ],
   "source": [
    "eo.ev(10)"
   ]
  },
  {
   "cell_type": "code",
   "execution_count": 4,
   "id": "7157c5bb",
   "metadata": {},
   "outputs": [],
   "source": [
    "import eo"
   ]
  },
  {
   "cell_type": "code",
   "execution_count": 5,
   "id": "124b3c0b",
   "metadata": {},
   "outputs": [
    {
     "name": "stdout",
     "output_type": "stream",
     "text": [
      "The Given Number Is odd\n",
      "The Given Number Is odd\n"
     ]
    }
   ],
   "source": [
    "eo.ev(5)"
   ]
  },
  {
   "cell_type": "code",
   "execution_count": 1,
   "id": "4e45a4e4",
   "metadata": {},
   "outputs": [],
   "source": [
    "import eo"
   ]
  },
  {
   "cell_type": "code",
   "execution_count": 2,
   "id": "0784e5c4",
   "metadata": {},
   "outputs": [
    {
     "name": "stdout",
     "output_type": "stream",
     "text": [
      "The Given Number Is Even\n",
      "The Given Number Is Even\n"
     ]
    }
   ],
   "source": [
    "eo.es(10)"
   ]
  },
  {
   "cell_type": "code",
   "execution_count": 12,
   "id": "3116727b",
   "metadata": {},
   "outputs": [],
   "source": [
    "import eo"
   ]
  },
  {
   "cell_type": "code",
   "execution_count": 14,
   "id": "90fd6364",
   "metadata": {},
   "outputs": [
    {
     "ename": "AttributeError",
     "evalue": "module 'eo' has no attribute 'ts'",
     "output_type": "error",
     "traceback": [
      "\u001b[1;31m---------------------------------------------------------------------------\u001b[0m",
      "\u001b[1;31mAttributeError\u001b[0m                            Traceback (most recent call last)",
      "\u001b[1;32m~\\AppData\\Local\\Temp/ipykernel_5096/1775106282.py\u001b[0m in \u001b[0;36m<module>\u001b[1;34m\u001b[0m\n\u001b[1;32m----> 1\u001b[1;33m \u001b[0mprint\u001b[0m\u001b[1;33m(\u001b[0m\u001b[0meo\u001b[0m\u001b[1;33m.\u001b[0m\u001b[0mts\u001b[0m\u001b[1;33m(\u001b[0m\u001b[1;36m2\u001b[0m\u001b[1;33m)\u001b[0m\u001b[1;33m)\u001b[0m\u001b[1;33m\u001b[0m\u001b[1;33m\u001b[0m\u001b[0m\n\u001b[0m",
      "\u001b[1;31mAttributeError\u001b[0m: module 'eo' has no attribute 'ts'"
     ]
    },
    {
     "ename": "AttributeError",
     "evalue": "module 'eo' has no attribute 'ts'",
     "output_type": "error",
     "traceback": [
      "\u001b[1;31m---------------------------------------------------------------------------\u001b[0m",
      "\u001b[1;31mAttributeError\u001b[0m                            Traceback (most recent call last)",
      "\u001b[1;32m~\\AppData\\Local\\Temp/ipykernel_5096/1775106282.py\u001b[0m in \u001b[0;36m<module>\u001b[1;34m\u001b[0m\n\u001b[1;32m----> 1\u001b[1;33m \u001b[0mprint\u001b[0m\u001b[1;33m(\u001b[0m\u001b[0meo\u001b[0m\u001b[1;33m.\u001b[0m\u001b[0mts\u001b[0m\u001b[1;33m(\u001b[0m\u001b[1;36m2\u001b[0m\u001b[1;33m)\u001b[0m\u001b[1;33m)\u001b[0m\u001b[1;33m\u001b[0m\u001b[1;33m\u001b[0m\u001b[0m\n\u001b[0m",
      "\u001b[1;31mAttributeError\u001b[0m: module 'eo' has no attribute 'ts'"
     ]
    }
   ],
   "source": [
    "print(eo.ts(2))"
   ]
  },
  {
   "cell_type": "code",
   "execution_count": 15,
   "id": "95796773",
   "metadata": {},
   "outputs": [],
   "source": [
    "import an"
   ]
  },
  {
   "cell_type": "code",
   "execution_count": 18,
   "id": "826e919f",
   "metadata": {},
   "outputs": [
    {
     "name": "stdout",
     "output_type": "stream",
     "text": [
      "Even\n",
      "None\n",
      "Even\n",
      "None\n"
     ]
    }
   ],
   "source": [
    "print(an.ts(10))"
   ]
  },
  {
   "cell_type": "code",
   "execution_count": 19,
   "id": "7f9fb5a5",
   "metadata": {},
   "outputs": [
    {
     "name": "stdout",
     "output_type": "stream",
     "text": [
      "Even\n",
      "None\n",
      "Even\n",
      "None\n"
     ]
    }
   ],
   "source": [
    "print(an.ts(2))"
   ]
  },
  {
   "cell_type": "code",
   "execution_count": 20,
   "id": "0f54e6ae",
   "metadata": {},
   "outputs": [
    {
     "data": {
      "text/plain": [
       "11"
      ]
     },
     "execution_count": 20,
     "metadata": {},
     "output_type": "execute_result"
    },
    {
     "data": {
      "text/plain": [
       "11"
      ]
     },
     "execution_count": 20,
     "metadata": {},
     "output_type": "execute_result"
    }
   ],
   "source": [
    "a=11\n",
    "a"
   ]
  },
  {
   "cell_type": "markdown",
   "id": "88b4b7c2",
   "metadata": {},
   "source": [
    "### Regular expression\n",
    "- A regular expression is a sequence of a characters that defines a such patterns.\n",
    "- We have to bulit in module in python work to with -regular expressions:represented 're'.\n",
    "- We have to import that module into our python file by using 're'.\n",
    "- Syntax:: re.regex function('pattern'.'input').\n",
    "- 3 Modules\n",
    "    - 1.findall()\n",
    "        - It returns a list containing all matches (or) this module is use d tio search for all occurences that match a given(\"find all the duplicates for a specified pattern\")\n",
    "    - 2.Search()\n",
    "        - To test the specified pattern is present or not in the given string.\n",
    "    - 3.Match()\n",
    "        - The text the input string starting with specified pattern or not."
   ]
  },
  {
   "cell_type": "code",
   "execution_count": 21,
   "id": "8a22d8e4",
   "metadata": {},
   "outputs": [
    {
     "name": "stdout",
     "output_type": "stream",
     "text": [
      "['ai', 'ai']\n",
      "['ai', 'ai']\n"
     ]
    }
   ],
   "source": [
    "import re\n",
    "n=\"the rain in spain\"\n",
    "z=re.findall('ai',n)\n",
    "print(z)"
   ]
  },
  {
   "cell_type": "code",
   "execution_count": 23,
   "id": "cc0c3584",
   "metadata": {
    "scrolled": true
   },
   "outputs": [
    {
     "name": "stdout",
     "output_type": "stream",
     "text": [
      "['in', 'in']\n",
      "['in', 'in']\n"
     ]
    }
   ],
   "source": [
    "import re\n",
    "n=\"the rain is spain\"\n",
    "z=re.findall('in',n)\n",
    "print(z)"
   ]
  },
  {
   "cell_type": "code",
   "execution_count": 24,
   "id": "613dd310",
   "metadata": {},
   "outputs": [
    {
     "data": {
      "text/plain": [
       "<re.Match object; span=(0, 1), match='p'>"
      ]
     },
     "execution_count": 24,
     "metadata": {},
     "output_type": "execute_result"
    },
    {
     "data": {
      "text/plain": [
       "<re.Match object; span=(0, 1), match='p'>"
      ]
     },
     "execution_count": 24,
     "metadata": {},
     "output_type": "execute_result"
    }
   ],
   "source": [
    "# search\n",
    "re.search('p','pythonworkshop')"
   ]
  },
  {
   "cell_type": "code",
   "execution_count": 27,
   "id": "fc45e89e",
   "metadata": {},
   "outputs": [
    {
     "data": {
      "text/plain": [
       "['p', 'p']"
      ]
     },
     "execution_count": 27,
     "metadata": {},
     "output_type": "execute_result"
    },
    {
     "data": {
      "text/plain": [
       "['p', 'p']"
      ]
     },
     "execution_count": 27,
     "metadata": {},
     "output_type": "execute_result"
    }
   ],
   "source": [
    "re.findall('p','pythonworkshop')"
   ]
  },
  {
   "cell_type": "code",
   "execution_count": 30,
   "id": "51da6dd5",
   "metadata": {},
   "outputs": [
    {
     "data": {
      "text/plain": [
       "<re.Match object; span=(0, 1), match='p'>"
      ]
     },
     "execution_count": 30,
     "metadata": {},
     "output_type": "execute_result"
    },
    {
     "data": {
      "text/plain": [
       "<re.Match object; span=(0, 1), match='p'>"
      ]
     },
     "execution_count": 30,
     "metadata": {},
     "output_type": "execute_result"
    }
   ],
   "source": [
    "re.match('p','python')"
   ]
  },
  {
   "cell_type": "code",
   "execution_count": 33,
   "id": "96f42aae",
   "metadata": {},
   "outputs": [
    {
     "data": {
      "text/plain": [
       "<re.Match object; span=(0, 3), match='pyt'>"
      ]
     },
     "execution_count": 33,
     "metadata": {},
     "output_type": "execute_result"
    },
    {
     "data": {
      "text/plain": [
       "<re.Match object; span=(0, 3), match='pyt'>"
      ]
     },
     "execution_count": 33,
     "metadata": {},
     "output_type": "execute_result"
    }
   ],
   "source": [
    "re.match('pyt','python')"
   ]
  },
  {
   "cell_type": "code",
   "execution_count": null,
   "id": "1ada4cbf",
   "metadata": {},
   "outputs": [],
   "source": []
  }
 ],
 "metadata": {
  "kernelspec": {
   "display_name": "Python 3 (ipykernel)",
   "language": "python",
   "name": "python3"
  },
  "language_info": {
   "codemirror_mode": {
    "name": "ipython",
    "version": 3
   },
   "file_extension": ".py",
   "mimetype": "text/x-python",
   "name": "python",
   "nbconvert_exporter": "python",
   "pygments_lexer": "ipython3",
   "version": "3.9.7"
  }
 },
 "nbformat": 4,
 "nbformat_minor": 5
}
