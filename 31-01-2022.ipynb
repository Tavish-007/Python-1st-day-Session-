{
 "cells": [
  {
   "cell_type": "code",
   "execution_count": 1,
   "id": "f77d2212",
   "metadata": {},
   "outputs": [
    {
     "name": "stdout",
     "output_type": "stream",
     "text": [
      "Hello Everyone\n"
     ]
    }
   ],
   "source": [
    "print(\"Hello Everyone\")"
   ]
  },
  {
   "cell_type": "markdown",
   "id": "697125bb",
   "metadata": {},
   "source": [
    "# Welcome to everyone\n",
    "## Hello\n",
    "### Good evening\n",
    "#### Nice to meet you\n",
    "##### Today topic\n",
    "###### Python"
   ]
  },
  {
   "cell_type": "markdown",
   "id": "0a6d19dd",
   "metadata": {},
   "source": [
    "**Tavish**"
   ]
  },
  {
   "cell_type": "markdown",
   "id": "74eceeb5",
   "metadata": {},
   "source": [
    "*Tavish*"
   ]
  },
  {
   "cell_type": "markdown",
   "id": "ba03c621",
   "metadata": {},
   "source": [
    "***Tavish***"
   ]
  },
  {
   "cell_type": "markdown",
   "id": "12c75ddc",
   "metadata": {},
   "source": [
    "I am an CSE Student.  \n",
    "hai everyone.  \n",
    "Good morning.  "
   ]
  },
  {
   "cell_type": "markdown",
   "id": "fbe4336d",
   "metadata": {},
   "source": [
    "### Paragraph"
   ]
  },
  {
   "cell_type": "markdown",
   "id": "34986b56",
   "metadata": {},
   "source": [
    "Hi this is tavish studying cse in vasavi"
   ]
  },
  {
   "cell_type": "markdown",
   "id": "313f52ab",
   "metadata": {},
   "source": [
    "### Unorder List and Sub List"
   ]
  },
  {
   "cell_type": "markdown",
   "id": "ff9eab32",
   "metadata": {},
   "source": [
    "+ one  \n",
    "- two  \n",
    "+ three  \n",
    "* four  \n",
    "    + five  \n",
    "    - six\n",
    "    * seven\n",
    "        + eight  \n",
    "        - nine  \n",
    "        * zero  \n",
    "        "
   ]
  },
  {
   "cell_type": "markdown",
   "id": "8d219188",
   "metadata": {},
   "source": [
    "### Order List and Sub list"
   ]
  },
  {
   "cell_type": "markdown",
   "id": "f6d83648",
   "metadata": {},
   "source": [
    "1. Hi  \n",
    "2. Everyone  \n",
    "3. Welcome  \n",
    "    4. students  \n",
    "    5. lecturers  \n",
    "        6. cse  \n",
    "        7. mech  \n",
    "            8. heelo \n",
    "            9. world  \n",
    "                10. this is  \n",
    "                11. Tavish  \n",
    "                "
   ]
  },
  {
   "cell_type": "markdown",
   "id": "d4835b69",
   "metadata": {},
   "source": [
    "### Comments  \n",
    "\n",
    "\n",
    "- user readalbe information or data  \n",
    "- comment doesn't execute.\n",
    "- it is mention in '#'  \n",
    "- for multiple line comment mention in the format of \" \".  \n"
   ]
  },
  {
   "cell_type": "markdown",
   "id": "a371fa88",
   "metadata": {},
   "source": [
    "### Variable  \n",
    "- Which is used to store data.  \n",
    "- Variables starts with characters, underscore.  \n",
    "- Variable Couldn't starts with numbers, special characters and keywords."
   ]
  },
  {
   "cell_type": "code",
   "execution_count": 3,
   "id": "887ca809",
   "metadata": {
    "scrolled": true
   },
   "outputs": [
    {
     "data": {
      "text/plain": [
       "77"
      ]
     },
     "execution_count": 3,
     "metadata": {},
     "output_type": "execute_result"
    }
   ],
   "source": [
    "tav123=77\n",
    "tav123"
   ]
  },
  {
   "cell_type": "code",
   "execution_count": 4,
   "id": "ee483552",
   "metadata": {},
   "outputs": [
    {
     "ename": "SyntaxError",
     "evalue": "invalid syntax (Temp/ipykernel_2276/2405923581.py, line 1)",
     "output_type": "error",
     "traceback": [
      "\u001b[1;36m  File \u001b[1;32m\"C:\\Users\\Lab\\AppData\\Local\\Temp/ipykernel_2276/2405923581.py\"\u001b[1;36m, line \u001b[1;32m1\u001b[0m\n\u001b[1;33m    123tav=555\u001b[0m\n\u001b[1;37m       ^\u001b[0m\n\u001b[1;31mSyntaxError\u001b[0m\u001b[1;31m:\u001b[0m invalid syntax\n"
     ]
    }
   ],
   "source": [
    "123tav=555\n",
    "123tav"
   ]
  },
  {
   "cell_type": "markdown",
   "id": "117c0a1c",
   "metadata": {},
   "source": [
    "### Datatypes  \n",
    "- int(all integer values)  \n",
    "- float(integer with decimal point)  \n",
    "- string(combination of characters or group of characters)  \n",
    "- complex(numbers with real and imaginary part)  \n",
    "- boolean(True,False)  "
   ]
  },
  {
   "cell_type": "code",
   "execution_count": 8,
   "id": "da547303",
   "metadata": {},
   "outputs": [
    {
     "ename": "SyntaxError",
     "evalue": "invalid syntax (Temp/ipykernel_2276/4227886730.py, line 5)",
     "output_type": "error",
     "traceback": [
      "\u001b[1;36m  File \u001b[1;32m\"C:\\Users\\Lab\\AppData\\Local\\Temp/ipykernel_2276/4227886730.py\"\u001b[1;36m, line \u001b[1;32m5\u001b[0m\n\u001b[1;33m    e=1+2e\u001b[0m\n\u001b[1;37m         ^\u001b[0m\n\u001b[1;31mSyntaxError\u001b[0m\u001b[1;31m:\u001b[0m invalid syntax\n"
     ]
    }
   ],
   "source": [
    "a=777\n",
    "b=76.54\n",
    "c='d'\n",
    "d=\"Hello world\"\n",
    "e=1+2e\n",
    "f='1+2j'\n",
    "g=True"
   ]
  },
  {
   "cell_type": "code",
   "execution_count": 12,
   "id": "6270d952",
   "metadata": {},
   "outputs": [
    {
     "name": "stdout",
     "output_type": "stream",
     "text": [
      "<class 'int'>\n",
      "<class 'float'>\n",
      "<class 'str'>\n",
      "<class 'str'>\n",
      "<class 'complex'>\n",
      "<class 'str'>\n",
      "<class 'bool'>\n"
     ]
    }
   ],
   "source": [
    "print(type(a))\n",
    "print(type(b))\n",
    "print(type(c))\n",
    "print(type(d))\n",
    "print(type(e))           \n",
    "print(type(f))\n",
    "print(type(g))"
   ]
  },
  {
   "cell_type": "markdown",
   "id": "16d9e749",
   "metadata": {},
   "source": [
    "### Typecasting  \n",
    "- Which converts data from one datatype to another datatype.  "
   ]
  },
  {
   "cell_type": "code",
   "execution_count": 13,
   "id": "7d2a599a",
   "metadata": {},
   "outputs": [
    {
     "name": "stdout",
     "output_type": "stream",
     "text": [
      "<class 'int'>\n",
      "444\n"
     ]
    }
   ],
   "source": [
    "_tav=444\n",
    "print(type(_tav))\n",
    "print(_tav)"
   ]
  },
  {
   "cell_type": "code",
   "execution_count": 14,
   "id": "266f49e9",
   "metadata": {},
   "outputs": [
    {
     "name": "stdout",
     "output_type": "stream",
     "text": [
      "444\n",
      "<class 'str'>\n"
     ]
    }
   ],
   "source": [
    "z=str(_tav)\n",
    "print(z)\n",
    "print(type(z))"
   ]
  },
  {
   "cell_type": "code",
   "execution_count": 15,
   "id": "7e035796",
   "metadata": {},
   "outputs": [
    {
     "name": "stdout",
     "output_type": "stream",
     "text": [
      "444.0\n",
      "<class 'float'>\n"
     ]
    }
   ],
   "source": [
    "z=float(_tav)\n",
    "print(z)\n",
    "print(type(z))"
   ]
  },
  {
   "cell_type": "code",
   "execution_count": 16,
   "id": "f413f14e",
   "metadata": {},
   "outputs": [
    {
     "name": "stdout",
     "output_type": "stream",
     "text": [
      "(444+0j)\n",
      "<class 'complex'>\n"
     ]
    }
   ],
   "source": [
    "z=complex(_tav)\n",
    "print(z)\n",
    "print(type(z))"
   ]
  },
  {
   "cell_type": "code",
   "execution_count": 17,
   "id": "a7192397",
   "metadata": {},
   "outputs": [
    {
     "name": "stdout",
     "output_type": "stream",
     "text": [
      "True\n",
      "<class 'bool'>\n"
     ]
    }
   ],
   "source": [
    "z=bool(_tav)\n",
    "print(z)\n",
    "print(type(z))"
   ]
  },
  {
   "cell_type": "code",
   "execution_count": 18,
   "id": "58e5298f",
   "metadata": {},
   "outputs": [
    {
     "name": "stdout",
     "output_type": "stream",
     "text": [
      "<class 'str'>\n"
     ]
    }
   ],
   "source": [
    "a=\"tavish\"\n",
    "print(type(a))"
   ]
  },
  {
   "cell_type": "code",
   "execution_count": 19,
   "id": "e98cefea",
   "metadata": {},
   "outputs": [
    {
     "ename": "ValueError",
     "evalue": "invalid literal for int() with base 10: 'tavish'",
     "output_type": "error",
     "traceback": [
      "\u001b[1;31m---------------------------------------------------------------------------\u001b[0m",
      "\u001b[1;31mValueError\u001b[0m                                Traceback (most recent call last)",
      "\u001b[1;32m~\\AppData\\Local\\Temp/ipykernel_2276/2385876496.py\u001b[0m in \u001b[0;36m<module>\u001b[1;34m\u001b[0m\n\u001b[1;32m----> 1\u001b[1;33m \u001b[0mz\u001b[0m\u001b[1;33m=\u001b[0m\u001b[0mint\u001b[0m\u001b[1;33m(\u001b[0m\u001b[0ma\u001b[0m\u001b[1;33m)\u001b[0m\u001b[1;33m\u001b[0m\u001b[1;33m\u001b[0m\u001b[0m\n\u001b[0m\u001b[0;32m      2\u001b[0m \u001b[0mprint\u001b[0m\u001b[1;33m(\u001b[0m\u001b[0mtype\u001b[0m\u001b[1;33m(\u001b[0m\u001b[0ma\u001b[0m\u001b[1;33m)\u001b[0m\u001b[1;33m)\u001b[0m\u001b[1;33m\u001b[0m\u001b[1;33m\u001b[0m\u001b[0m\n\u001b[0;32m      3\u001b[0m \u001b[0mprint\u001b[0m\u001b[1;33m(\u001b[0m\u001b[0ma\u001b[0m\u001b[1;33m)\u001b[0m\u001b[1;33m\u001b[0m\u001b[1;33m\u001b[0m\u001b[0m\n",
      "\u001b[1;31mValueError\u001b[0m: invalid literal for int() with base 10: 'tavish'"
     ]
    }
   ],
   "source": [
    "z=int(a)\n",
    "print(type(a))\n",
    "print(a)"
   ]
  },
  {
   "cell_type": "code",
   "execution_count": 20,
   "id": "71501fa8",
   "metadata": {},
   "outputs": [
    {
     "name": "stdout",
     "output_type": "stream",
     "text": [
      "<class 'str'>\n",
      "145555\n"
     ]
    }
   ],
   "source": [
    "a=\"145555\"\n",
    "print(type(a))\n",
    "print(a)"
   ]
  },
  {
   "cell_type": "code",
   "execution_count": 21,
   "id": "7ffadf5c",
   "metadata": {},
   "outputs": [
    {
     "name": "stdout",
     "output_type": "stream",
     "text": [
      "<class 'int'>\n",
      "145555\n"
     ]
    }
   ],
   "source": [
    "z=int(a)\n",
    "print(type(z))\n",
    "print(z)"
   ]
  },
  {
   "cell_type": "code",
   "execution_count": 22,
   "id": "1be462d4",
   "metadata": {},
   "outputs": [
    {
     "name": "stdout",
     "output_type": "stream",
     "text": [
      "<class 'float'>\n",
      "145555.0\n"
     ]
    }
   ],
   "source": [
    "z=float(a)\n",
    "print(type(z))\n",
    "print(z)"
   ]
  },
  {
   "cell_type": "code",
   "execution_count": 23,
   "id": "54fc104c",
   "metadata": {},
   "outputs": [
    {
     "name": "stdout",
     "output_type": "stream",
     "text": [
      "<class 'bool'>\n",
      "True\n"
     ]
    }
   ],
   "source": [
    "z=bool(a)\n",
    "print(type(z))\n",
    "print(z)"
   ]
  },
  {
   "cell_type": "code",
   "execution_count": 24,
   "id": "f4ed684f",
   "metadata": {},
   "outputs": [
    {
     "name": "stdout",
     "output_type": "stream",
     "text": [
      "<class 'complex'>\n",
      "(145555+0j)\n"
     ]
    }
   ],
   "source": [
    "z=complex(a)\n",
    "print(type(z))\n",
    "print(z)"
   ]
  },
  {
   "cell_type": "code",
   "execution_count": 25,
   "id": "1fc83812",
   "metadata": {},
   "outputs": [
    {
     "name": "stdout",
     "output_type": "stream",
     "text": [
      "45.66\n",
      "<class 'float'>\n"
     ]
    }
   ],
   "source": [
    "a=45.66\n",
    "print(a)\n",
    "print(type(a))"
   ]
  },
  {
   "cell_type": "code",
   "execution_count": 26,
   "id": "e5f7da20",
   "metadata": {},
   "outputs": [
    {
     "name": "stdout",
     "output_type": "stream",
     "text": [
      "<class 'complex'>\n",
      "(45.66+0j)\n"
     ]
    }
   ],
   "source": [
    "z=complex(a)\n",
    "print(type(z))\n",
    "print(z)"
   ]
  },
  {
   "cell_type": "code",
   "execution_count": 27,
   "id": "62fda54a",
   "metadata": {},
   "outputs": [
    {
     "name": "stdout",
     "output_type": "stream",
     "text": [
      "<class 'str'>\n",
      "45.66\n"
     ]
    }
   ],
   "source": [
    "z=str(a)\n",
    "print(type(z))\n",
    "print(z)"
   ]
  },
  {
   "cell_type": "code",
   "execution_count": 28,
   "id": "1b393257",
   "metadata": {},
   "outputs": [
    {
     "name": "stdout",
     "output_type": "stream",
     "text": [
      "<class 'int'>\n",
      "45\n"
     ]
    }
   ],
   "source": [
    "z=int(a)\n",
    "print(type(z))\n",
    "print(z)"
   ]
  },
  {
   "cell_type": "code",
   "execution_count": null,
   "id": "daf5ea3a",
   "metadata": {},
   "outputs": [],
   "source": []
  }
 ],
 "metadata": {
  "kernelspec": {
   "display_name": "Python 3 (ipykernel)",
   "language": "python",
   "name": "python3"
  },
  "language_info": {
   "codemirror_mode": {
    "name": "ipython",
    "version": 3
   },
   "file_extension": ".py",
   "mimetype": "text/x-python",
   "name": "python",
   "nbconvert_exporter": "python",
   "pygments_lexer": "ipython3",
   "version": "3.9.7"
  }
 },
 "nbformat": 4,
 "nbformat_minor": 5
}
