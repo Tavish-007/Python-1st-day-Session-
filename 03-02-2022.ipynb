{
 "cells": [
  {
   "cell_type": "markdown",
   "id": "8961ac54",
   "metadata": {},
   "source": [
    "## Day-3 Session\n",
    "### 03-02-2022"
   ]
  },
  {
   "cell_type": "markdown",
   "id": "0b376228",
   "metadata": {},
   "source": [
    "### While \n",
    "- It executes block or set of instructions until the condition is false.\n",
    "- While we don't know the range\n",
    "- Excecute faster than the loop.\n",
    "- User incrementation."
   ]
  },
  {
   "cell_type": "markdown",
   "id": "39a3add7",
   "metadata": {},
   "source": [
    "### While Syntax\n",
    "- initilization\n",
    "- while condition:\n",
    "    - statements\n",
    "    - incr/decrement"
   ]
  },
  {
   "cell_type": "code",
   "execution_count": 4,
   "id": "d939c710",
   "metadata": {},
   "outputs": [
    {
     "name": "stdout",
     "output_type": "stream",
     "text": [
      "Welcome to Everyone\n",
      "Welcome to Everyone\n",
      "Welcome to Everyone\n",
      "Welcome to Everyone\n",
      "Welcome to Everyone\n"
     ]
    }
   ],
   "source": [
    "n=1\n",
    "while n<=5:\n",
    "    print(\"Welcome to Everyone\")\n",
    "    n=n+1"
   ]
  },
  {
   "cell_type": "code",
   "execution_count": 5,
   "id": "2623f368",
   "metadata": {},
   "outputs": [
    {
     "name": "stdout",
     "output_type": "stream",
     "text": [
      "10 9 8 7 6 5 4 3 2 1 "
     ]
    }
   ],
   "source": [
    "n=10\n",
    "while (n>=1):\n",
    "    print(n,end=\" \")\n",
    "    n=n-1"
   ]
  },
  {
   "cell_type": "code",
   "execution_count": 6,
   "id": "043e6833",
   "metadata": {},
   "outputs": [
    {
     "name": "stdout",
     "output_type": "stream",
     "text": [
      "10\n",
      "\n",
      "Digit count: 2\n"
     ]
    }
   ],
   "source": [
    "# i/p 1234\n",
    "# o/p digit count:4\n",
    "s=int(input())\n",
    "c=0\n",
    "while(s!=0): #1234!=0 123!=0 12!=0 1!=0\n",
    "    c=c+1\n",
    "    s=s//10\n",
    "print(\"\\nDigit count:\",c)"
   ]
  },
  {
   "cell_type": "code",
   "execution_count": null,
   "id": "58ac6fc7",
   "metadata": {},
   "outputs": [],
   "source": [
    "# Check the given is palindrome\n",
    "# 121--121\n",
    "# mom--mom\n",
    "n=int(input())\n",
    "temp=n\n",
    "rev=0\n",
    "while(n!=0):\n",
    "    rem=n%10\n",
    "    rev=rev*10+rem\n",
    "    n=n//10\n",
    "if(temp==rev):\n",
    "    print(\"palindrome\")\n",
    "else:\n",
    "    print(\"Not a palindrome\")"
   ]
  },
  {
   "cell_type": "code",
   "execution_count": null,
   "id": "884cfdae",
   "metadata": {},
   "outputs": [],
   "source": [
    "# Syntax::Nested for loop\n",
    "for iter in range(start,end,step):\n",
    "    for iter in range(start,end,step):\n",
    "        statement1\n",
    "        statement2\n",
    "        ----------\n",
    "        statementn"
   ]
  },
  {
   "cell_type": "markdown",
   "id": "5baadea8",
   "metadata": {},
   "source": [
    "### Matrix format\n",
    "- Rows,columns\n",
    "- 2dimensional  \n",
    "    1 2 3  \n",
    "    1 2 3  \n",
    "    "
   ]
  },
  {
   "cell_type": "code",
   "execution_count": null,
   "id": "5e0d722b",
   "metadata": {},
   "outputs": [],
   "source": [
    "for row in range(1,5):\n",
    "    for column in range(1,5):\n",
    "        print(row,end=\" \")\n",
    "    print()#New line"
   ]
  },
  {
   "cell_type": "code",
   "execution_count": null,
   "id": "af3cb03f",
   "metadata": {},
   "outputs": [],
   "source": [
    "for row in range(1,6):\n",
    "    for column in range(1,9):\n",
    "        print(\"*\",end=\" \")\n",
    "    print()#New line"
   ]
  },
  {
   "cell_type": "code",
   "execution_count": null,
   "id": "b31b2a5d",
   "metadata": {},
   "outputs": [],
   "source": [
    "*\n",
    "* *\n",
    "* * * \n",
    "* * * *\n",
    "* * * * *"
   ]
  },
  {
   "cell_type": "code",
   "execution_count": null,
   "id": "70f99f4e",
   "metadata": {},
   "outputs": [],
   "source": [
    "for row in range(1,6):\n",
    "    for column in range(1,row+1):\n",
    "        print(\"*\",end=\" \")\n",
    "    print(\"\")#New line"
   ]
  },
  {
   "cell_type": "code",
   "execution_count": null,
   "id": "571ed83b",
   "metadata": {},
   "outputs": [],
   "source": [
    "for row in range(5,0,-1):\n",
    "    for column in range(1,row+1):\n",
    "        print(\"*\",end=\" \")\n",
    "    print(\"\")#New line"
   ]
  },
  {
   "cell_type": "code",
   "execution_count": null,
   "id": "dc5a2b73",
   "metadata": {},
   "outputs": [],
   "source": [
    "for row in range(1,6):\n",
    "    for column in range(1,row+1):\n",
    "        print(\"*\",end=\" \")\n",
    "    print(\"\")#New line\n",
    "print(\"\\n\")\n",
    "for row in range(5,0,-1):\n",
    "    for column in range(1,row+1):\n",
    "        print(\"*\",end=\" \")\n",
    "    print(\"\")#New line"
   ]
  },
  {
   "cell_type": "code",
   "execution_count": null,
   "id": "b9717138",
   "metadata": {},
   "outputs": [],
   "source": [
    "# 1-10 \n",
    "# prime numbers 2,3,5,7\n",
    "f=int(input())\n",
    "e=int(input())\n",
    "for num in range(f,e+1): #num=1 num=2 num=3 num=4\n",
    "    c=0\n",
    "    for var in range(1,1+num): #(1,1) (1,2) (1,2) (1,4)\n",
    "        if(num%var==0):\n",
    "            c+=1\n",
    "    if(c==2):\n",
    "        print(num,end=\" \")"
   ]
  },
  {
   "cell_type": "code",
   "execution_count": null,
   "id": "dadea1f2",
   "metadata": {},
   "outputs": [],
   "source": [
    "for n in range(1,11):\n",
    "    for i in range(1,11):\n",
    "        print(n,\"*\",i,\"=\",n*i,end=\"\\n\")"
   ]
  },
  {
   "cell_type": "code",
   "execution_count": null,
   "id": "6489c1b2",
   "metadata": {},
   "outputs": [],
   "source": [
    "# Nested while+\n",
    "- loop inside another loop"
   ]
  },
  {
   "cell_type": "code",
   "execution_count": null,
   "id": "afb1c94b",
   "metadata": {},
   "outputs": [],
   "source": [
    "# syntax\n",
    "initilization\n",
    "while condition:\n",
    "    statements\n",
    "    increment/decrement\n",
    "    while condition:\n",
    "        statemenst\n",
    "        increment/decrement"
   ]
  },
  {
   "cell_type": "code",
   "execution_count": null,
   "id": "e8442ddf",
   "metadata": {},
   "outputs": [],
   "source": [
    "# 1 to 10 prime numbers\n",
    "i=1\n",
    "while i<=10:\n",
    "    j=1\n",
    "    while j<=10:\n",
    "        print(i,\"*\",j,\"=\",i*j)\n",
    "        j+=1\n",
    "    print()\n",
    "    i+=1"
   ]
  },
  {
   "cell_type": "markdown",
   "id": "b4ab0ba9",
   "metadata": {},
   "source": [
    "### Jump statements\n",
    "- We called as unconditional jumps\n",
    "    - Break\n",
    "    - Continue\n",
    "    - Pass"
   ]
  },
  {
   "cell_type": "markdown",
   "id": "2840c1be",
   "metadata": {},
   "source": [
    "### Break\n",
    "- Terminates the current loop statements\n",
    "- Break is a keyword"
   ]
  },
  {
   "cell_type": "code",
   "execution_count": null,
   "id": "bf4e3001",
   "metadata": {},
   "outputs": [],
   "source": [
    "for i in \"python\":\n",
    "    if i==\"h\":\n",
    "        break\n",
    "    print(i)"
   ]
  },
  {
   "cell_type": "code",
   "execution_count": null,
   "id": "51a3ac70",
   "metadata": {},
   "outputs": [],
   "source": [
    "i=int(input())\n",
    "while(i<=10):\n",
    "    i+=1\n",
    "    if i==6:\n",
    "        break\n",
    "    print(i)"
   ]
  },
  {
   "cell_type": "code",
   "execution_count": null,
   "id": "4ee32f07",
   "metadata": {},
   "outputs": [],
   "source": [
    "i=1\n",
    "while(i<=10):\n",
    "    i+=1\n",
    "    if i==6:\n",
    "        break\n",
    "    print(i)"
   ]
  },
  {
   "cell_type": "markdown",
   "id": "274c3dcb",
   "metadata": {},
   "source": [
    "### Continue\n",
    "- It skips only current iteration and continue the next iteration \n",
    "- Continue is also a keyword"
   ]
  },
  {
   "cell_type": "code",
   "execution_count": null,
   "id": "3150021e",
   "metadata": {},
   "outputs": [],
   "source": [
    "for i in range(10):\n",
    "    if i<6:\n",
    "        continue\n",
    "        print(\"Set to print\")\n",
    "    print(i)"
   ]
  },
  {
   "cell_type": "code",
   "execution_count": null,
   "id": "d87ec70c",
   "metadata": {},
   "outputs": [],
   "source": [
    "# print odd numbers using even numbers \n",
    "for i in range(1,10):\n",
    "    if i%2==0:\n",
    "        continue\n",
    "    print(i,end=\" \")"
   ]
  },
  {
   "cell_type": "markdown",
   "id": "01ec65bd",
   "metadata": {},
   "source": [
    "### Pass\n",
    "- It is a keyword\n",
    "- When we need condition scientifically correct need to change another operation.\n",
    "- It is a null operation.\n",
    "- Pass statement we use to create empty classes also"
   ]
  },
  {
   "cell_type": "code",
   "execution_count": null,
   "id": "5abc804c",
   "metadata": {},
   "outputs": [],
   "source": [
    "s=\"python\"\n",
    "for i in s:\n",
    "    if i==\"h\":\n",
    "        pass\n",
    "        print(\"\\nPass Executed\\n\")\n",
    "    print(i)"
   ]
  },
  {
   "cell_type": "markdown",
   "id": "5681fa5b",
   "metadata": {},
   "source": [
    "### String\n",
    "- String is a group of characters\n",
    "- String is a derived datatype and immutable\n",
    "- All strings return a new values."
   ]
  },
  {
   "cell_type": "code",
   "execution_count": null,
   "id": "77ac9c38",
   "metadata": {},
   "outputs": [],
   "source": [
    "a=\"Engineering\"\n",
    "print(type(a))"
   ]
  },
  {
   "cell_type": "code",
   "execution_count": null,
   "id": "830737ce",
   "metadata": {},
   "outputs": [],
   "source": [
    "print(len(a))"
   ]
  },
  {
   "cell_type": "code",
   "execution_count": null,
   "id": "1bb2e8de",
   "metadata": {},
   "outputs": [],
   "source": [
    "a=\"GoodMorning\"\n",
    "print(type(a))\n",
    "print(len(a))\n",
    "print(min(a))\n",
    "print(max(a))\n",
    "print(sorted(a))"
   ]
  },
  {
   "cell_type": "code",
   "execution_count": null,
   "id": "c3b42b19",
   "metadata": {},
   "outputs": [],
   "source": [
    "s=\"python\"\n",
    "s1=\"workshop\"\n",
    "print(s+s1)\n",
    "print(s,s1)\n",
    "print(s*s1)"
   ]
  },
  {
   "cell_type": "code",
   "execution_count": null,
   "id": "40ba89cc",
   "metadata": {},
   "outputs": [],
   "source": [
    "s=10\n",
    "s1=20\n",
    "print(s+s1)\n",
    "print(s,s1)\n",
    "print(s*s1)"
   ]
  },
  {
   "cell_type": "code",
   "execution_count": null,
   "id": "cb221ce3",
   "metadata": {},
   "outputs": [],
   "source": [
    "# slicing syntax(start:end:step)\n",
    "# positive indexing(Left to right)\n",
    "# negative indexing(right to left)\n",
    "s=\"Python Workshops\"\n",
    "print(len(s))\n",
    "print(s[0])\n",
    "print(s[14])\n",
    "print(s[5])\n",
    "print(s[-1])\n",
    "print(s[-11])\n",
    "print(s[9])\n",
    "print(s[::])\n",
    "print(s[::-1])\n",
    "print(s[0:4])\n",
    "print(s[3:11])\n",
    "print(s[-1::-13])"
   ]
  },
  {
   "cell_type": "code",
   "execution_count": null,
   "id": "aece8c65",
   "metadata": {},
   "outputs": [],
   "source": [
    "dir(str)"
   ]
  },
  {
   "cell_type": "code",
   "execution_count": null,
   "id": "daf5110c",
   "metadata": {},
   "outputs": [],
   "source": [
    "s1='Vasvai College'\n",
    "s2=\"Vasvai College\"\n",
    "s3='''I am\n",
    "Studying in\n",
    "Svec College'''\n",
    "s4=\"\"\"JNTUK\n",
    "in cse \n",
    "branch\"\"\"\n",
    "print(s1)\n",
    "print(s2)\n",
    "print(s3)\n",
    "print(s4)"
   ]
  },
  {
   "cell_type": "code",
   "execution_count": null,
   "id": "01c25918",
   "metadata": {},
   "outputs": [],
   "source": [
    "p=\"apssdc workshop\"\n",
    "print(p.capitalize())"
   ]
  },
  {
   "cell_type": "code",
   "execution_count": null,
   "id": "8e00fe9e",
   "metadata": {},
   "outputs": [],
   "source": [
    "n=\"aEroDynaMiCs\"\n",
    "print(n)\n",
    "print(n.upper())\n",
    "print(n.lower())"
   ]
  },
  {
   "cell_type": "code",
   "execution_count": null,
   "id": "b00ec286",
   "metadata": {},
   "outputs": [],
   "source": [
    "m=\"warNing to the drivers\"\n",
    "print(m)\n",
    "print(m.title())"
   ]
  },
  {
   "cell_type": "code",
   "execution_count": null,
   "id": "dbd05b8e",
   "metadata": {},
   "outputs": [],
   "source": [
    "s=\"tavish\"\n",
    "s1=\"TAVISH\"\n",
    "s2=\"tavish\"\n",
    "print(s.isupper(),s1.isupper(),s2.islower())"
   ]
  },
  {
   "cell_type": "code",
   "execution_count": null,
   "id": "41d48be9",
   "metadata": {},
   "outputs": [],
   "source": [
    "T=\"Leave Letter\"\n",
    "print(T.istitle())"
   ]
  },
  {
   "cell_type": "code",
   "execution_count": null,
   "id": "ca28f31e",
   "metadata": {},
   "outputs": [],
   "source": [
    "T=\"Leave letter\"\n",
    "print(T.istitle())"
   ]
  },
  {
   "cell_type": "code",
   "execution_count": null,
   "id": "aeffc0e4",
   "metadata": {},
   "outputs": [],
   "source": [
    "t=\"  \"\n",
    "print(t.isspace())"
   ]
  },
  {
   "cell_type": "code",
   "execution_count": null,
   "id": "53c303de",
   "metadata": {},
   "outputs": [],
   "source": [
    "# isdidgit--Which is used to identify the digits in a given string\n",
    "# isalpha--which returns true alphabets present in a given string\n",
    "r=\"python3\"\n",
    "print(r.isalpha())"
   ]
  },
  {
   "cell_type": "code",
   "execution_count": null,
   "id": "856f4b52",
   "metadata": {},
   "outputs": [],
   "source": [
    "s=\"26262263\"\n",
    "s.isdigit()"
   ]
  },
  {
   "cell_type": "code",
   "execution_count": null,
   "id": "3521468a",
   "metadata": {},
   "outputs": [],
   "source": [
    "r=\"45646546515\"\n",
    "s.isalnum()"
   ]
  },
  {
   "cell_type": "code",
   "execution_count": null,
   "id": "73c20f4e",
   "metadata": {},
   "outputs": [],
   "source": [
    "r=\"python\"\n",
    "print(r.isalpha())"
   ]
  },
  {
   "cell_type": "code",
   "execution_count": null,
   "id": "3192b9b5",
   "metadata": {},
   "outputs": [],
   "source": [
    "s=\"python3 is good flatform to work for programming\"\n",
    "s.split()"
   ]
  },
  {
   "cell_type": "code",
   "execution_count": null,
   "id": "2543c7f7",
   "metadata": {},
   "outputs": [],
   "source": [
    "s=\"python3@is@good@flatform@to@work@for programming\"\n",
    "s.split()"
   ]
  },
  {
   "cell_type": "code",
   "execution_count": null,
   "id": "500926bc",
   "metadata": {},
   "outputs": [],
   "source": [
    "s=\"python3@is@good@flatform@to@work@for programming\"\n",
    "s.split(\"@\")"
   ]
  },
  {
   "cell_type": "code",
   "execution_count": null,
   "id": "349a50ac",
   "metadata": {},
   "outputs": [],
   "source": [
    "s=\"python3 is good flatform to work for programming\"\n",
    "s.split('o')"
   ]
  },
  {
   "cell_type": "code",
   "execution_count": null,
   "id": "174a1c4d",
   "metadata": {},
   "outputs": [],
   "source": [
    "s=\"EnGineeRiNg\"\n",
    "s1=''\n",
    "for i in s:\n",
    "    if i.islower():\n",
    "        s1+=i.upper()\n",
    "    else:\n",
    "        s1+=i.lower()\n",
    "print(s1)\n",
    "s.swapcase()"
   ]
  },
  {
   "cell_type": "code",
   "execution_count": null,
   "id": "c0225826",
   "metadata": {},
   "outputs": [],
   "source": [
    "# Count:: To know the number of occurrence\n",
    "s=\"python3 is good flatform to work for programming\"\n",
    "s.count(\"a\")"
   ]
  },
  {
   "cell_type": "code",
   "execution_count": null,
   "id": "1b1b9f28",
   "metadata": {},
   "outputs": [],
   "source": [
    "# index->It will return index position of the character \n",
    "s=\"python3 is good flatform to work for programming\"\n",
    "print(s.index('t')) # searching starts from thr begining\n",
    "print(s.rindex('t')) # Searching starts from the ending"
   ]
  },
  {
   "cell_type": "code",
   "execution_count": null,
   "id": "ebf0e9d6",
   "metadata": {},
   "outputs": [],
   "source": [
    "# find->It will return index position of the character [Same as the index]\n",
    "s=\"python3 is good flatform to work for programming\"\n",
    "s.find('t')"
   ]
  },
  {
   "cell_type": "code",
   "execution_count": null,
   "id": "fa738be2",
   "metadata": {},
   "outputs": [],
   "source": [
    "s=\"python3 is good flatform to work for programming\"\n",
    "s.index('is')"
   ]
  },
  {
   "cell_type": "code",
   "execution_count": null,
   "id": "7a8bb582",
   "metadata": {},
   "outputs": [],
   "source": [
    "# replace->It is used to replace the old character\n",
    "# strip-used to remove white space by default\n",
    "a=\"Anji is very good boy\"\n",
    "a.replace(\"good\",\"bad\")"
   ]
  },
  {
   "cell_type": "code",
   "execution_count": null,
   "id": "6e0f11ff",
   "metadata": {},
   "outputs": [],
   "source": [
    "b=\"       Hello world\"\n",
    "print(b)\n",
    "print(b.strip())"
   ]
  },
  {
   "cell_type": "code",
   "execution_count": null,
   "id": "fe065bd8",
   "metadata": {},
   "outputs": [],
   "source": [
    "b.lstrip()"
   ]
  },
  {
   "cell_type": "code",
   "execution_count": null,
   "id": "ee2aab53",
   "metadata": {},
   "outputs": [],
   "source": [
    "b.rstrip()"
   ]
  },
  {
   "cell_type": "code",
   "execution_count": null,
   "id": "7b7d94c5",
   "metadata": {},
   "outputs": [],
   "source": [
    "# join\n",
    "# center\n",
    "# startwith\n",
    "# endwith\n",
    "t=\"Thursday\"\n",
    "'@'.join(t)"
   ]
  },
  {
   "cell_type": "code",
   "execution_count": null,
   "id": "c3550869",
   "metadata": {},
   "outputs": [],
   "source": [
    "t=\"Thursday\"\n",
    "'.'.join(t)"
   ]
  },
  {
   "cell_type": "code",
   "execution_count": null,
   "id": "0e86c237",
   "metadata": {},
   "outputs": [],
   "source": [
    "t=\"Thursday\"\n",
    "t.center(100)"
   ]
  },
  {
   "cell_type": "code",
   "execution_count": null,
   "id": "4a65b79c",
   "metadata": {},
   "outputs": [],
   "source": [
    "t.zfill(10)"
   ]
  },
  {
   "cell_type": "code",
   "execution_count": null,
   "id": "53e51a35",
   "metadata": {},
   "outputs": [],
   "source": [
    "s=\"Today is the last session\"\n",
    "s.startswith(\"To\")"
   ]
  },
  {
   "cell_type": "code",
   "execution_count": null,
   "id": "4b662e8c",
   "metadata": {},
   "outputs": [],
   "source": [
    "s=\"Today is the last session\"\n",
    "s.startswith(\"Today\")"
   ]
  },
  {
   "cell_type": "code",
   "execution_count": null,
   "id": "10ae5273",
   "metadata": {},
   "outputs": [],
   "source": [
    "s=\"Today is the last session\"\n",
    "s.startswith(\"is\")"
   ]
  },
  {
   "cell_type": "code",
   "execution_count": null,
   "id": "7b1d3b1f",
   "metadata": {},
   "outputs": [],
   "source": [
    "s=\"Today is the last session\"\n",
    "s.endswith(\"To\")"
   ]
  },
  {
   "cell_type": "code",
   "execution_count": null,
   "id": "5be2ed70",
   "metadata": {},
   "outputs": [],
   "source": [
    "s=\"Today is the last session\"\n",
    "s.endswith(\"on\")"
   ]
  },
  {
   "cell_type": "code",
   "execution_count": null,
   "id": "9964343e",
   "metadata": {},
   "outputs": [],
   "source": [
    "s=\"Today is the last session\"\n",
    "s.endswith(\"session\")"
   ]
  },
  {
   "cell_type": "markdown",
   "id": "1ec2fdea",
   "metadata": {},
   "source": [
    "### Data Structures\n",
    "- List\n",
    "    - List is one of the data structure in python.\n",
    "    - List is mutable\n",
    "    - Represented with [ ]\n",
    "    - Slicing,indexing are same as the string concepts.\n",
    "- Tuple\n",
    "    - tuple represented with()\n",
    "    - tuple is immutable\n",
    "- Dictionaries\n",
    "- set\n",
    "    - Set is represented with{}\n",
    "- **DT are two types:**\n",
    "    - Mutable\n",
    "        - We can change at any time after its decleration\n",
    "        - Ex:List,Dictionaries    \n",
    "    - Immutable \n",
    "       - We can't change it once it declared.\n",
    "       - Ex: Sring,Tuple\n"
   ]
  },
  {
   "cell_type": "code",
   "execution_count": null,
   "id": "f2192ead",
   "metadata": {},
   "outputs": [],
   "source": [
    "i=[1,2,3,4,5,6]\n",
    "print(\"The given list\",i)\n",
    "print(len(i))\n",
    "print(\"Length of the list\",len(i))\n",
    "print(\"Max of the list\",max(i))\n",
    "print(\"Min of the list\",min(i))"
   ]
  },
  {
   "cell_type": "code",
   "execution_count": null,
   "id": "d66f845b",
   "metadata": {},
   "outputs": [],
   "source": [
    "a=['apple',2,4,6,8]\n",
    "b=[1,3,'mango',5,7]\n",
    "a+b # concatination"
   ]
  },
  {
   "cell_type": "code",
   "execution_count": null,
   "id": "43990f72",
   "metadata": {},
   "outputs": [],
   "source": [
    "a=['apple',2,4,6,8]\n",
    "b=[1,3,'mango',5,7]\n",
    "b+a"
   ]
  },
  {
   "cell_type": "code",
   "execution_count": null,
   "id": "da9532ae",
   "metadata": {},
   "outputs": [],
   "source": [
    "a=['apple',2,4,6,8]\n",
    "a*3 # Repetetion"
   ]
  },
  {
   "cell_type": "code",
   "execution_count": null,
   "id": "83357db8",
   "metadata": {},
   "outputs": [],
   "source": [
    "a=['apple',2,8]\n",
    "b=[1,'mango',5,7]\n",
    "(a+b)*2"
   ]
  },
  {
   "cell_type": "code",
   "execution_count": null,
   "id": "e1722926",
   "metadata": {},
   "outputs": [],
   "source": [
    "s=[10]\n",
    "s*3"
   ]
  },
  {
   "cell_type": "code",
   "execution_count": null,
   "id": "55919416",
   "metadata": {},
   "outputs": [],
   "source": [
    "s=[10]\n",
    "t=[5]\n",
    "(s+t)*3"
   ]
  },
  {
   "cell_type": "code",
   "execution_count": null,
   "id": "95a195b8",
   "metadata": {},
   "outputs": [],
   "source": [
    "a=['apple',2,4,6,8]\n",
    "b=[1,3,'mango',5,7]\n",
    "'apple' in a"
   ]
  },
  {
   "cell_type": "code",
   "execution_count": null,
   "id": "5ac36ce9",
   "metadata": {},
   "outputs": [],
   "source": [
    "'mango' in a"
   ]
  },
  {
   "cell_type": "code",
   "execution_count": null,
   "id": "45a4847e",
   "metadata": {},
   "outputs": [],
   "source": [
    "names=['sai','vinay','prabhu','giri','venky','teja','arun']\n",
    "print(names[0])\n",
    "print(names[2])\n",
    "print(names[4])"
   ]
  },
  {
   "cell_type": "code",
   "execution_count": null,
   "id": "4e9aeefb",
   "metadata": {},
   "outputs": [],
   "source": [
    "names[:3]"
   ]
  },
  {
   "cell_type": "code",
   "execution_count": null,
   "id": "8cbdc1c2",
   "metadata": {},
   "outputs": [],
   "source": [
    "s='Tavish'\n",
    "print(s[0])\n",
    "print(s[:2])\n",
    "print(s[0:3])\n",
    "print(s[0:4])\n",
    "print(s[0:5])\n",
    "print(s[0:6])\n",
    "print(s[1:3])"
   ]
  },
  {
   "cell_type": "code",
   "execution_count": null,
   "id": "81fa94ca",
   "metadata": {},
   "outputs": [],
   "source": []
  }
 ],
 "metadata": {
  "kernelspec": {
   "display_name": "Python 3 (ipykernel)",
   "language": "python",
   "name": "python3"
  },
  "language_info": {
   "codemirror_mode": {
    "name": "ipython",
    "version": 3
   },
   "file_extension": ".py",
   "mimetype": "text/x-python",
   "name": "python",
   "nbconvert_exporter": "python",
   "pygments_lexer": "ipython3",
   "version": "3.9.7"
  }
 },
 "nbformat": 4,
 "nbformat_minor": 5
}
