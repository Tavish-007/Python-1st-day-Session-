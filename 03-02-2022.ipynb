{
 "cells": [
  {
   "cell_type": "markdown",
   "id": "8961ac54",
   "metadata": {},
   "source": [
    "## Day-3 Session\n",
    "### 03-02-2022"
   ]
  },
  {
   "cell_type": "markdown",
   "id": "0b376228",
   "metadata": {},
   "source": [
    "### While \n",
    "- It executes block or set of instructions until the condition is false.\n",
    "- While we don't know the range\n",
    "- Excecute faster than the loop.\n",
    "- User incrementation."
   ]
  },
  {
   "cell_type": "code",
   "execution_count": 67,
   "id": "8ccbf7b2",
   "metadata": {},
   "outputs": [
    {
     "ename": "NameError",
     "evalue": "name 'initilization' is not defined",
     "output_type": "error",
     "traceback": [
      "\u001b[1;31m---------------------------------------------------------------------------\u001b[0m",
      "\u001b[1;31mNameError\u001b[0m                                 Traceback (most recent call last)",
      "\u001b[1;32m~\\AppData\\Local\\Temp/ipykernel_1220/1182462571.py\u001b[0m in \u001b[0;36m<module>\u001b[1;34m\u001b[0m\n\u001b[0;32m      1\u001b[0m \u001b[1;31m# While Syntax\u001b[0m\u001b[1;33m\u001b[0m\u001b[1;33m\u001b[0m\u001b[0m\n\u001b[1;32m----> 2\u001b[1;33m \u001b[0minitilization\u001b[0m\u001b[1;33m\u001b[0m\u001b[1;33m\u001b[0m\u001b[0m\n\u001b[0m\u001b[0;32m      3\u001b[0m \u001b[1;32mwhile\u001b[0m \u001b[0mcondition\u001b[0m\u001b[1;33m:\u001b[0m\u001b[1;33m\u001b[0m\u001b[1;33m\u001b[0m\u001b[0m\n\u001b[0;32m      4\u001b[0m     \u001b[0mstatements\u001b[0m\u001b[1;33m\u001b[0m\u001b[1;33m\u001b[0m\u001b[0m\n\u001b[0;32m      5\u001b[0m     \u001b[0mincr\u001b[0m\u001b[1;33m/\u001b[0m\u001b[0mdecrement\u001b[0m\u001b[1;33m\u001b[0m\u001b[1;33m\u001b[0m\u001b[0m\n",
      "\u001b[1;31mNameError\u001b[0m: name 'initilization' is not defined"
     ]
    }
   ],
   "source": [
    "# While Syntax\n",
    "initilization\n",
    "while condition:\n",
    "    statements\n",
    "    incr/decrement"
   ]
  },
  {
   "cell_type": "code",
   "execution_count": null,
   "id": "d939c710",
   "metadata": {},
   "outputs": [],
   "source": [
    "n=1\n",
    "while n<=5:\n",
    "    print(\"\\nWelcome to Everyone\")\n",
    "    n=n+1"
   ]
  },
  {
   "cell_type": "code",
   "execution_count": null,
   "id": "2623f368",
   "metadata": {},
   "outputs": [],
   "source": [
    "n=10\n",
    "while (n>=1):\n",
    "    print(n,end=\" \")\n",
    "    n=n-1"
   ]
  },
  {
   "cell_type": "code",
   "execution_count": null,
   "id": "043e6833",
   "metadata": {},
   "outputs": [],
   "source": [
    "# i/p 1234\n",
    "# o/p digit count:4\n",
    "s=int(input())\n",
    "c=0\n",
    "while(s!=0): #1234!=0 123!=0 12!=0 1!=0\n",
    "    c=c+1\n",
    "    s=s//10\n",
    "print(\"\\nDigit count:\",c)"
   ]
  },
  {
   "cell_type": "code",
   "execution_count": null,
   "id": "58ac6fc7",
   "metadata": {},
   "outputs": [],
   "source": [
    "# Check the given is palindrome\n",
    "# 121--121\n",
    "# mom--mom\n",
    "n=int(input())\n",
    "temp=n\n",
    "rev=0\n",
    "while(n!=0):\n",
    "    rem=n%10\n",
    "    rev=rev*10+rem\n",
    "    n=n//10\n",
    "if(temp==rev):\n",
    "    print(\"palindrome\")\n",
    "else:\n",
    "    print(\"Not a palindrome\")"
   ]
  },
  {
   "cell_type": "code",
   "execution_count": 68,
   "id": "884cfdae",
   "metadata": {},
   "outputs": [
    {
     "ename": "SyntaxError",
     "evalue": "invalid syntax (Temp/ipykernel_1220/2863059285.py, line 6)",
     "output_type": "error",
     "traceback": [
      "\u001b[1;36m  File \u001b[1;32m\"C:\\Users\\Lab\\AppData\\Local\\Temp/ipykernel_1220/2863059285.py\"\u001b[1;36m, line \u001b[1;32m6\u001b[0m\n\u001b[1;33m    ----------\u001b[0m\n\u001b[1;37m              ^\u001b[0m\n\u001b[1;31mSyntaxError\u001b[0m\u001b[1;31m:\u001b[0m invalid syntax\n"
     ]
    }
   ],
   "source": [
    "# Syntax::Nested for loop\n",
    "for iter in range(start,end,step):\n",
    "    for iter in range(start,end,step):\n",
    "        statement1\n",
    "        statement2\n",
    "        ----------\n",
    "        statementn"
   ]
  },
  {
   "cell_type": "markdown",
   "id": "5baadea8",
   "metadata": {},
   "source": [
    "### Matrix format\n",
    "- Rows,columns\n",
    "- 2dimensional  \n",
    "    1 2 3  \n",
    "    1 2 3  \n",
    "    "
   ]
  },
  {
   "cell_type": "code",
   "execution_count": null,
   "id": "5e0d722b",
   "metadata": {},
   "outputs": [],
   "source": [
    "for row in range(1,5):\n",
    "    for column in range(1,5):\n",
    "        print(row,end=\" \")\n",
    "    print()#New line"
   ]
  },
  {
   "cell_type": "code",
   "execution_count": null,
   "id": "af3cb03f",
   "metadata": {},
   "outputs": [],
   "source": [
    "for row in range(1,6):\n",
    "    for column in range(1,9):\n",
    "        print(\"*\",end=\" \")\n",
    "    print()#New line"
   ]
  },
  {
   "cell_type": "code",
   "execution_count": null,
   "id": "b31b2a5d",
   "metadata": {},
   "outputs": [],
   "source": [
    "*\n",
    "* *\n",
    "* * * \n",
    "* * * *\n",
    "* * * * *"
   ]
  },
  {
   "cell_type": "code",
   "execution_count": null,
   "id": "70f99f4e",
   "metadata": {},
   "outputs": [],
   "source": [
    "for row in range(1,6):\n",
    "    for column in range(1,row+1):\n",
    "        print(\"*\",end=\" \")\n",
    "    print(\"\")#New line"
   ]
  },
  {
   "cell_type": "code",
   "execution_count": null,
   "id": "571ed83b",
   "metadata": {},
   "outputs": [],
   "source": [
    "for row in range(5,0,-1):\n",
    "    for column in range(1,row+1):\n",
    "        print(\"*\",end=\" \")\n",
    "    print(\"\")#New line"
   ]
  },
  {
   "cell_type": "code",
   "execution_count": null,
   "id": "dc5a2b73",
   "metadata": {},
   "outputs": [],
   "source": [
    "for row in range(1,6):\n",
    "    for column in range(1,row+1):\n",
    "        print(\"*\",end=\" \")\n",
    "    print(\"\")#New line\n",
    "print(\"\\n\")\n",
    "for row in range(5,0,-1):\n",
    "    for column in range(1,row+1):\n",
    "        print(\"*\",end=\" \")\n",
    "    print(\"\")#New line"
   ]
  },
  {
   "cell_type": "code",
   "execution_count": null,
   "id": "b9717138",
   "metadata": {},
   "outputs": [],
   "source": [
    "# 1-10 \n",
    "# prime numbers 2,3,5,7\n",
    "f=int(input())\n",
    "e=int(input())\n",
    "for num in range(f,e+1): #num=1 num=2 num=3 num=4\n",
    "    c=0\n",
    "    for var in range(1,1+num): #(1,1) (1,2) (1,2) (1,4)\n",
    "        if(num%var==0):\n",
    "            c+=1\n",
    "    if(c==2):\n",
    "        print(num,end=\" \")"
   ]
  },
  {
   "cell_type": "code",
   "execution_count": null,
   "id": "dadea1f2",
   "metadata": {},
   "outputs": [],
   "source": [
    "for n in range(1,11):\n",
    "    for i in range(1,11):\n",
    "        print(n,\"*\",i,\"=\",n*i,end=\"\\n\")"
   ]
  },
  {
   "cell_type": "code",
   "execution_count": null,
   "id": "6489c1b2",
   "metadata": {},
   "outputs": [],
   "source": [
    "# Nested while+\n",
    "- loop inside another loop"
   ]
  },
  {
   "cell_type": "code",
   "execution_count": null,
   "id": "afb1c94b",
   "metadata": {},
   "outputs": [],
   "source": [
    "# syntax\n",
    "initilization\n",
    "while condition:\n",
    "    statements\n",
    "    increment/decrement\n",
    "    while condition:\n",
    "        statemenst\n",
    "        increment/decrement"
   ]
  },
  {
   "cell_type": "code",
   "execution_count": null,
   "id": "e8442ddf",
   "metadata": {},
   "outputs": [],
   "source": [
    "# 1 to 10 prime numbers\n",
    "i=1\n",
    "while i<=10:\n",
    "    j=1\n",
    "    while j<=10:\n",
    "        print(i,\"*\",j,\"=\",i*j)\n",
    "        j+=1\n",
    "    print()\n",
    "    i+=1"
   ]
  },
  {
   "cell_type": "markdown",
   "id": "b4ab0ba9",
   "metadata": {},
   "source": [
    "### Jump statements\n",
    "- We called as unconditional jumps\n",
    "    - Break\n",
    "    - Continue\n",
    "    - Pass"
   ]
  },
  {
   "cell_type": "markdown",
   "id": "2840c1be",
   "metadata": {},
   "source": [
    "### Break\n",
    "- Terminates the current loop statements\n",
    "- Break is a keyword"
   ]
  },
  {
   "cell_type": "code",
   "execution_count": null,
   "id": "bf4e3001",
   "metadata": {},
   "outputs": [],
   "source": [
    "for i in \"python\":\n",
    "    if i==\"h\":\n",
    "        break\n",
    "    print(i)"
   ]
  },
  {
   "cell_type": "code",
   "execution_count": null,
   "id": "51a3ac70",
   "metadata": {},
   "outputs": [],
   "source": [
    "i=int(input())\n",
    "while(i<=10):\n",
    "    i+=1\n",
    "    if i==6:\n",
    "        break\n",
    "    print(i)"
   ]
  },
  {
   "cell_type": "code",
   "execution_count": null,
   "id": "4ee32f07",
   "metadata": {},
   "outputs": [],
   "source": [
    "i=1\n",
    "while(i<=10):\n",
    "    i+=1\n",
    "    if i==6:\n",
    "        break\n",
    "    print(i)"
   ]
  },
  {
   "cell_type": "markdown",
   "id": "274c3dcb",
   "metadata": {},
   "source": [
    "### Continue\n",
    "- It skips only current iteration and continue the next iteration \n",
    "- Continue is also a keyword"
   ]
  },
  {
   "cell_type": "code",
   "execution_count": null,
   "id": "3150021e",
   "metadata": {},
   "outputs": [],
   "source": [
    "for i in range(10):\n",
    "    if i<6:\n",
    "        continue\n",
    "        print(\"Set to print\")\n",
    "    print(i)"
   ]
  },
  {
   "cell_type": "code",
   "execution_count": null,
   "id": "d87ec70c",
   "metadata": {},
   "outputs": [],
   "source": [
    "# print odd numbers using even numbers \n",
    "for i in range(1,10):\n",
    "    if i%2==0:\n",
    "        continue\n",
    "    print(i,end=\" \")"
   ]
  },
  {
   "cell_type": "markdown",
   "id": "01ec65bd",
   "metadata": {},
   "source": [
    "### Pass\n",
    "- It is a keyword\n",
    "- When we need condition scientifically correct need to change another operation.\n",
    "- It is a null operation.\n",
    "- Pass statement we use to create empty classes also"
   ]
  },
  {
   "cell_type": "code",
   "execution_count": null,
   "id": "5abc804c",
   "metadata": {},
   "outputs": [],
   "source": [
    "s=\"python\"\n",
    "for i in s:\n",
    "    if i==\"h\":\n",
    "        pass\n",
    "        print(\"\\nPass Executed\\n\")\n",
    "    print(i)"
   ]
  },
  {
   "cell_type": "markdown",
   "id": "5681fa5b",
   "metadata": {},
   "source": [
    "### String\n",
    "- String is a group of characters\n",
    "- String is a derived datatype and immutable\n",
    "- All strings return a new values."
   ]
  },
  {
   "cell_type": "code",
   "execution_count": null,
   "id": "77ac9c38",
   "metadata": {},
   "outputs": [],
   "source": [
    "a=\"Engineering\"\n",
    "print(type(a))"
   ]
  },
  {
   "cell_type": "code",
   "execution_count": null,
   "id": "830737ce",
   "metadata": {},
   "outputs": [],
   "source": [
    "print(len(a))"
   ]
  },
  {
   "cell_type": "code",
   "execution_count": null,
   "id": "1bb2e8de",
   "metadata": {},
   "outputs": [],
   "source": [
    "a=\"GoodMorning\"\n",
    "print(type(a))\n",
    "print(len(a))\n",
    "print(min(a))\n",
    "print(max(a))\n",
    "print(sorted(a))"
   ]
  },
  {
   "cell_type": "code",
   "execution_count": null,
   "id": "c3b42b19",
   "metadata": {},
   "outputs": [],
   "source": [
    "s=\"python\"\n",
    "s1=\"workshop\"\n",
    "print(s+s1)\n",
    "print(s,s1)\n",
    "print(s*s1)"
   ]
  },
  {
   "cell_type": "code",
   "execution_count": null,
   "id": "40ba89cc",
   "metadata": {},
   "outputs": [],
   "source": [
    "s=10\n",
    "s1=20\n",
    "print(s+s1)\n",
    "print(s,s1)\n",
    "print(s*s1)"
   ]
  },
  {
   "cell_type": "code",
   "execution_count": null,
   "id": "cb221ce3",
   "metadata": {},
   "outputs": [],
   "source": [
    "# slicing syntax(start:end:step)\n",
    "# positive indexing(Left to right)\n",
    "# negative indexing(right to left)\n",
    "s=\"Python Workshops\"\n",
    "print(len(s))\n",
    "print(s[0])\n",
    "print(s[14])\n",
    "print(s[5])\n",
    "print(s[-1])\n",
    "print(s[-11])\n",
    "print(s[9])\n",
    "print(s[::])\n",
    "print(s[::-1])\n",
    "print(s[0:4])\n",
    "print(s[3:11])\n",
    "print(s[-1::-13])"
   ]
  },
  {
   "cell_type": "code",
   "execution_count": 1,
   "id": "aece8c65",
   "metadata": {},
   "outputs": [
    {
     "data": {
      "text/plain": [
       "['__add__',\n",
       " '__class__',\n",
       " '__contains__',\n",
       " '__delattr__',\n",
       " '__dir__',\n",
       " '__doc__',\n",
       " '__eq__',\n",
       " '__format__',\n",
       " '__ge__',\n",
       " '__getattribute__',\n",
       " '__getitem__',\n",
       " '__getnewargs__',\n",
       " '__gt__',\n",
       " '__hash__',\n",
       " '__init__',\n",
       " '__init_subclass__',\n",
       " '__iter__',\n",
       " '__le__',\n",
       " '__len__',\n",
       " '__lt__',\n",
       " '__mod__',\n",
       " '__mul__',\n",
       " '__ne__',\n",
       " '__new__',\n",
       " '__reduce__',\n",
       " '__reduce_ex__',\n",
       " '__repr__',\n",
       " '__rmod__',\n",
       " '__rmul__',\n",
       " '__setattr__',\n",
       " '__sizeof__',\n",
       " '__str__',\n",
       " '__subclasshook__',\n",
       " 'capitalize',\n",
       " 'casefold',\n",
       " 'center',\n",
       " 'count',\n",
       " 'encode',\n",
       " 'endswith',\n",
       " 'expandtabs',\n",
       " 'find',\n",
       " 'format',\n",
       " 'format_map',\n",
       " 'index',\n",
       " 'isalnum',\n",
       " 'isalpha',\n",
       " 'isascii',\n",
       " 'isdecimal',\n",
       " 'isdigit',\n",
       " 'isidentifier',\n",
       " 'islower',\n",
       " 'isnumeric',\n",
       " 'isprintable',\n",
       " 'isspace',\n",
       " 'istitle',\n",
       " 'isupper',\n",
       " 'join',\n",
       " 'ljust',\n",
       " 'lower',\n",
       " 'lstrip',\n",
       " 'maketrans',\n",
       " 'partition',\n",
       " 'removeprefix',\n",
       " 'removesuffix',\n",
       " 'replace',\n",
       " 'rfind',\n",
       " 'rindex',\n",
       " 'rjust',\n",
       " 'rpartition',\n",
       " 'rsplit',\n",
       " 'rstrip',\n",
       " 'split',\n",
       " 'splitlines',\n",
       " 'startswith',\n",
       " 'strip',\n",
       " 'swapcase',\n",
       " 'title',\n",
       " 'translate',\n",
       " 'upper',\n",
       " 'zfill']"
      ]
     },
     "execution_count": 1,
     "metadata": {},
     "output_type": "execute_result"
    }
   ],
   "source": [
    "dir(str)"
   ]
  },
  {
   "cell_type": "code",
   "execution_count": 10,
   "id": "daf5110c",
   "metadata": {},
   "outputs": [
    {
     "name": "stdout",
     "output_type": "stream",
     "text": [
      "Vasvai College\n",
      "Vasvai College\n",
      "I am\n",
      "Studying in\n",
      "Svec College\n",
      "JNTUK\n",
      "in cse \n",
      "branch\n"
     ]
    }
   ],
   "source": [
    "s1='Vasvai College'\n",
    "s2=\"Vasvai College\"\n",
    "s3='''I am\n",
    "Studying in\n",
    "Svec College'''\n",
    "s4=\"\"\"JNTUK\n",
    "in cse \n",
    "branch\"\"\"\n",
    "print(s1)\n",
    "print(s2)\n",
    "print(s3)\n",
    "print(s4)"
   ]
  },
  {
   "cell_type": "code",
   "execution_count": 13,
   "id": "01c25918",
   "metadata": {},
   "outputs": [
    {
     "name": "stdout",
     "output_type": "stream",
     "text": [
      "Apssdc workshop\n"
     ]
    }
   ],
   "source": [
    "p=\"apssdc workshop\"\n",
    "print(p.capitalize())"
   ]
  },
  {
   "cell_type": "code",
   "execution_count": 16,
   "id": "8e00fe9e",
   "metadata": {},
   "outputs": [
    {
     "name": "stdout",
     "output_type": "stream",
     "text": [
      "aEroDynaMiCs\n",
      "AERODYNAMICS\n",
      "aerodynamics\n"
     ]
    }
   ],
   "source": [
    "n=\"aEroDynaMiCs\"\n",
    "print(n)\n",
    "print(n.upper())\n",
    "print(n.lower())"
   ]
  },
  {
   "cell_type": "code",
   "execution_count": 18,
   "id": "b00ec286",
   "metadata": {},
   "outputs": [
    {
     "name": "stdout",
     "output_type": "stream",
     "text": [
      "warNing to the drivers\n",
      "Warning To The Drivers\n"
     ]
    }
   ],
   "source": [
    "m=\"warNing to the drivers\"\n",
    "print(m)\n",
    "print(m.title())"
   ]
  },
  {
   "cell_type": "code",
   "execution_count": 23,
   "id": "dbd05b8e",
   "metadata": {},
   "outputs": [
    {
     "name": "stdout",
     "output_type": "stream",
     "text": [
      "False True True\n"
     ]
    }
   ],
   "source": [
    "s=\"tavish\"\n",
    "s1=\"TAVISH\"\n",
    "s2=\"tavish\"\n",
    "print(s.isupper(),s1.isupper(),s2.islower())"
   ]
  },
  {
   "cell_type": "code",
   "execution_count": 24,
   "id": "41d48be9",
   "metadata": {},
   "outputs": [
    {
     "name": "stdout",
     "output_type": "stream",
     "text": [
      "True\n"
     ]
    }
   ],
   "source": [
    "T=\"Leave Letter\"\n",
    "print(T.istitle())"
   ]
  },
  {
   "cell_type": "code",
   "execution_count": 25,
   "id": "ca28f31e",
   "metadata": {},
   "outputs": [
    {
     "name": "stdout",
     "output_type": "stream",
     "text": [
      "False\n"
     ]
    }
   ],
   "source": [
    "T=\"Leave letter\"\n",
    "print(T.istitle())"
   ]
  },
  {
   "cell_type": "code",
   "execution_count": 26,
   "id": "aeffc0e4",
   "metadata": {},
   "outputs": [
    {
     "name": "stdout",
     "output_type": "stream",
     "text": [
      "True\n"
     ]
    }
   ],
   "source": [
    "t=\"  \"\n",
    "print(t.isspace())"
   ]
  },
  {
   "cell_type": "code",
   "execution_count": 29,
   "id": "53c303de",
   "metadata": {},
   "outputs": [
    {
     "name": "stdout",
     "output_type": "stream",
     "text": [
      "False\n"
     ]
    }
   ],
   "source": [
    "# isdidgit--Which is used to identify the digits in a given string\n",
    "# isalpha--which returns true alphabets present in a given string\n",
    "r=\"python3\"\n",
    "print(r.isalpha())"
   ]
  },
  {
   "cell_type": "code",
   "execution_count": 30,
   "id": "856f4b52",
   "metadata": {},
   "outputs": [
    {
     "data": {
      "text/plain": [
       "True"
      ]
     },
     "execution_count": 30,
     "metadata": {},
     "output_type": "execute_result"
    }
   ],
   "source": [
    "s=\"26262263\"\n",
    "s.isdigit()"
   ]
  },
  {
   "cell_type": "code",
   "execution_count": 32,
   "id": "3521468a",
   "metadata": {},
   "outputs": [
    {
     "data": {
      "text/plain": [
       "True"
      ]
     },
     "execution_count": 32,
     "metadata": {},
     "output_type": "execute_result"
    }
   ],
   "source": [
    "r=\"45646546515\"\n",
    "s.isalnum()"
   ]
  },
  {
   "cell_type": "code",
   "execution_count": 33,
   "id": "73c20f4e",
   "metadata": {},
   "outputs": [
    {
     "name": "stdout",
     "output_type": "stream",
     "text": [
      "True\n"
     ]
    }
   ],
   "source": [
    "r=\"python\"\n",
    "print(r.isalpha())"
   ]
  },
  {
   "cell_type": "code",
   "execution_count": 38,
   "id": "3192b9b5",
   "metadata": {},
   "outputs": [
    {
     "data": {
      "text/plain": [
       "['python3', 'is', 'good', 'flatform', 'to', 'work', 'for', 'programming']"
      ]
     },
     "execution_count": 38,
     "metadata": {},
     "output_type": "execute_result"
    }
   ],
   "source": [
    "s=\"python3 is good flatform to work for programming\"\n",
    "s.split()"
   ]
  },
  {
   "cell_type": "code",
   "execution_count": 39,
   "id": "2543c7f7",
   "metadata": {},
   "outputs": [
    {
     "data": {
      "text/plain": [
       "['python3@is@good@flatform@to@work@for', 'programming']"
      ]
     },
     "execution_count": 39,
     "metadata": {},
     "output_type": "execute_result"
    }
   ],
   "source": [
    "s=\"python3@is@good@flatform@to@work@for programming\"\n",
    "s.split()"
   ]
  },
  {
   "cell_type": "code",
   "execution_count": 41,
   "id": "500926bc",
   "metadata": {},
   "outputs": [
    {
     "data": {
      "text/plain": [
       "['python3', 'is', 'good', 'flatform', 'to', 'work', 'for programming']"
      ]
     },
     "execution_count": 41,
     "metadata": {},
     "output_type": "execute_result"
    }
   ],
   "source": [
    "s=\"python3@is@good@flatform@to@work@for programming\"\n",
    "s.split(\"@\")"
   ]
  },
  {
   "cell_type": "code",
   "execution_count": 42,
   "id": "349a50ac",
   "metadata": {},
   "outputs": [
    {
     "data": {
      "text/plain": [
       "['pyth', 'n3 is g', '', 'd flatf', 'rm t', ' w', 'rk f', 'r pr', 'gramming']"
      ]
     },
     "execution_count": 42,
     "metadata": {},
     "output_type": "execute_result"
    }
   ],
   "source": [
    "s=\"python3 is good flatform to work for programming\"\n",
    "s.split('o')"
   ]
  },
  {
   "cell_type": "code",
   "execution_count": 51,
   "id": "174a1c4d",
   "metadata": {},
   "outputs": [
    {
     "name": "stdout",
     "output_type": "stream",
     "text": [
      "eNgINEErInG\n"
     ]
    },
    {
     "data": {
      "text/plain": [
       "'eNgINEErInG'"
      ]
     },
     "execution_count": 51,
     "metadata": {},
     "output_type": "execute_result"
    }
   ],
   "source": [
    "s=\"EnGineeRiNg\"\n",
    "s1=''\n",
    "for i in s:\n",
    "    if i.islower():\n",
    "        s1+=i.upper()\n",
    "    else:\n",
    "        s1+=i.lower()\n",
    "print(s1)\n",
    "s.swapcase()"
   ]
  },
  {
   "cell_type": "code",
   "execution_count": 55,
   "id": "c0225826",
   "metadata": {},
   "outputs": [
    {
     "data": {
      "text/plain": [
       "2"
      ]
     },
     "execution_count": 55,
     "metadata": {},
     "output_type": "execute_result"
    }
   ],
   "source": [
    "# Count:: To know the number of occurrence\n",
    "s=\"python3 is good flatform to work for programming\"\n",
    "s.count(\"a\")"
   ]
  },
  {
   "cell_type": "code",
   "execution_count": 61,
   "id": "1b1b9f28",
   "metadata": {},
   "outputs": [
    {
     "name": "stdout",
     "output_type": "stream",
     "text": [
      "2\n",
      "25\n"
     ]
    }
   ],
   "source": [
    "# index->It will return index position of the character \n",
    "s=\"python3 is good flatform to work for programming\"\n",
    "print(s.index('t')) # searching starts from thr begining\n",
    "print(s.rindex('t')) # Searching starts from the ending"
   ]
  },
  {
   "cell_type": "code",
   "execution_count": 62,
   "id": "ebf0e9d6",
   "metadata": {},
   "outputs": [
    {
     "data": {
      "text/plain": [
       "2"
      ]
     },
     "execution_count": 62,
     "metadata": {},
     "output_type": "execute_result"
    }
   ],
   "source": [
    "# find->It will return index position of the character [Same as the index]\n",
    "s=\"python3 is good flatform to work for programming\"\n",
    "s.find('t')"
   ]
  },
  {
   "cell_type": "code",
   "execution_count": 63,
   "id": "fa738be2",
   "metadata": {},
   "outputs": [
    {
     "data": {
      "text/plain": [
       "8"
      ]
     },
     "execution_count": 63,
     "metadata": {},
     "output_type": "execute_result"
    }
   ],
   "source": [
    "s=\"python3 is good flatform to work for programming\"\n",
    "s.index('is')"
   ]
  },
  {
   "cell_type": "code",
   "execution_count": 69,
   "id": "7a8bb582",
   "metadata": {},
   "outputs": [
    {
     "data": {
      "text/plain": [
       "'Anji is very bad boy'"
      ]
     },
     "execution_count": 69,
     "metadata": {},
     "output_type": "execute_result"
    }
   ],
   "source": [
    "# replace->It is used to replace the old character\n",
    "# strip-used to remove white space by default\n",
    "a=\"Anji is very good boy\"\n",
    "a.replace(\"good\",\"bad\")"
   ]
  },
  {
   "cell_type": "code",
   "execution_count": 81,
   "id": "6e0f11ff",
   "metadata": {},
   "outputs": [
    {
     "name": "stdout",
     "output_type": "stream",
     "text": [
      "       Hello world\n",
      "Hello world\n"
     ]
    }
   ],
   "source": [
    "b=\"       Hello world\"\n",
    "print(b)\n",
    "print(b.strip())"
   ]
  },
  {
   "cell_type": "code",
   "execution_count": 83,
   "id": "fe065bd8",
   "metadata": {},
   "outputs": [
    {
     "data": {
      "text/plain": [
       "'Hello world'"
      ]
     },
     "execution_count": 83,
     "metadata": {},
     "output_type": "execute_result"
    }
   ],
   "source": [
    "b.lstrip()"
   ]
  },
  {
   "cell_type": "code",
   "execution_count": 84,
   "id": "ee2aab53",
   "metadata": {},
   "outputs": [
    {
     "data": {
      "text/plain": [
       "'       Hello world'"
      ]
     },
     "execution_count": 84,
     "metadata": {},
     "output_type": "execute_result"
    }
   ],
   "source": [
    "b.rstrip()"
   ]
  },
  {
   "cell_type": "code",
   "execution_count": 88,
   "id": "7b7d94c5",
   "metadata": {},
   "outputs": [
    {
     "data": {
      "text/plain": [
       "'T@h@u@r@s@d@a@y'"
      ]
     },
     "execution_count": 88,
     "metadata": {},
     "output_type": "execute_result"
    }
   ],
   "source": [
    "# join\n",
    "# center\n",
    "# startwith\n",
    "# endwith\n",
    "t=\"Thursday\"\n",
    "'@'.join(t)"
   ]
  },
  {
   "cell_type": "code",
   "execution_count": 89,
   "id": "c3550869",
   "metadata": {},
   "outputs": [
    {
     "data": {
      "text/plain": [
       "'T.h.u.r.s.d.a.y'"
      ]
     },
     "execution_count": 89,
     "metadata": {},
     "output_type": "execute_result"
    }
   ],
   "source": [
    "t=\"Thursday\"\n",
    "'.'.join(t)"
   ]
  },
  {
   "cell_type": "code",
   "execution_count": 103,
   "id": "0e86c237",
   "metadata": {},
   "outputs": [
    {
     "data": {
      "text/plain": [
       "'                                              Thursday                                              '"
      ]
     },
     "execution_count": 103,
     "metadata": {},
     "output_type": "execute_result"
    }
   ],
   "source": [
    "t=\"Thursday\"\n",
    "t.center(100)"
   ]
  },
  {
   "cell_type": "code",
   "execution_count": 102,
   "id": "4a65b79c",
   "metadata": {},
   "outputs": [
    {
     "data": {
      "text/plain": [
       "'00Thursday'"
      ]
     },
     "execution_count": 102,
     "metadata": {},
     "output_type": "execute_result"
    }
   ],
   "source": [
    "t.zfill(10)"
   ]
  },
  {
   "cell_type": "code",
   "execution_count": 106,
   "id": "53e51a35",
   "metadata": {},
   "outputs": [
    {
     "data": {
      "text/plain": [
       "True"
      ]
     },
     "execution_count": 106,
     "metadata": {},
     "output_type": "execute_result"
    }
   ],
   "source": [
    "s=\"Today is the last session\"\n",
    "s.startswith(\"To\")"
   ]
  },
  {
   "cell_type": "code",
   "execution_count": 117,
   "id": "4b662e8c",
   "metadata": {},
   "outputs": [
    {
     "data": {
      "text/plain": [
       "True"
      ]
     },
     "execution_count": 117,
     "metadata": {},
     "output_type": "execute_result"
    }
   ],
   "source": [
    "s=\"Today is the last session\"\n",
    "s.startswith(\"Today\")"
   ]
  },
  {
   "cell_type": "code",
   "execution_count": 107,
   "id": "10ae5273",
   "metadata": {},
   "outputs": [
    {
     "data": {
      "text/plain": [
       "False"
      ]
     },
     "execution_count": 107,
     "metadata": {},
     "output_type": "execute_result"
    }
   ],
   "source": [
    "s=\"Today is the last session\"\n",
    "s.startswith(\"is\")"
   ]
  },
  {
   "cell_type": "code",
   "execution_count": 108,
   "id": "7b1d3b1f",
   "metadata": {},
   "outputs": [
    {
     "data": {
      "text/plain": [
       "False"
      ]
     },
     "execution_count": 108,
     "metadata": {},
     "output_type": "execute_result"
    }
   ],
   "source": [
    "s=\"Today is the last session\"\n",
    "s.endswith(\"To\")"
   ]
  },
  {
   "cell_type": "code",
   "execution_count": 112,
   "id": "5be2ed70",
   "metadata": {},
   "outputs": [
    {
     "data": {
      "text/plain": [
       "True"
      ]
     },
     "execution_count": 112,
     "metadata": {},
     "output_type": "execute_result"
    }
   ],
   "source": [
    "s=\"Today is the last session\"\n",
    "s.endswith(\"on\")"
   ]
  },
  {
   "cell_type": "code",
   "execution_count": 116,
   "id": "9964343e",
   "metadata": {},
   "outputs": [
    {
     "data": {
      "text/plain": [
       "True"
      ]
     },
     "execution_count": 116,
     "metadata": {},
     "output_type": "execute_result"
    }
   ],
   "source": [
    "s=\"Today is the last session\"\n",
    "s.endswith(\"session\")"
   ]
  },
  {
   "cell_type": "markdown",
   "id": "1ec2fdea",
   "metadata": {},
   "source": [
    "### Data Structures\n",
    "- List\n",
    "    - List is one of the data structure in python.\n",
    "    - List is mutable\n",
    "    - Represented with [ ]\n",
    "    - Slicing,indexing are same as the string concepts.\n",
    "- Tuple\n",
    "- Dictionaries\n",
    "***DT are two types:***\n",
    "    - Mutable\n",
    "        - We can change at any time after its decleration\n",
    "        - Ex:List,Dictionaries    \n",
    "    - Immutable \n",
    "       - We can't change it once it declared.\n",
    "       - Ex: Sring,Tuple\n"
   ]
  },
  {
   "cell_type": "code",
   "execution_count": 122,
   "id": "f2192ead",
   "metadata": {},
   "outputs": [
    {
     "name": "stdout",
     "output_type": "stream",
     "text": [
      "The given list [1, 2, 3, 4, 5, 6]\n",
      "6\n",
      "Length of the list 6\n",
      "Max of the list 6\n",
      "Min of the list 1\n"
     ]
    }
   ],
   "source": [
    "i=[1,2,3,4,5,6]\n",
    "print(\"The given list\",i)\n",
    "print(len(i))\n",
    "print(\"Length of the list\",len(i))\n",
    "print(\"Max of the list\",max(i))\n",
    "print(\"Min of the list\",min(i))"
   ]
  },
  {
   "cell_type": "code",
   "execution_count": 124,
   "id": "d66f845b",
   "metadata": {},
   "outputs": [
    {
     "data": {
      "text/plain": [
       "[1, 3, 'mango', 5, 7, 'apple', 2, 4, 6, 8]"
      ]
     },
     "execution_count": 124,
     "metadata": {},
     "output_type": "execute_result"
    }
   ],
   "source": [
    "a=['apple',2,4,6,8]\n",
    "b=[1,3,'mango',5,7]\n",
    "a+b # concatination"
   ]
  },
  {
   "cell_type": "code",
   "execution_count": 125,
   "id": "43990f72",
   "metadata": {},
   "outputs": [
    {
     "data": {
      "text/plain": [
       "[1, 3, 'mango', 5, 7, 'apple', 2, 4, 6, 8]"
      ]
     },
     "execution_count": 125,
     "metadata": {},
     "output_type": "execute_result"
    }
   ],
   "source": [
    "a=['apple',2,4,6,8]\n",
    "b=[1,3,'mango',5,7]\n",
    "b+a"
   ]
  },
  {
   "cell_type": "code",
   "execution_count": 128,
   "id": "da9532ae",
   "metadata": {},
   "outputs": [
    {
     "data": {
      "text/plain": [
       "['apple', 2, 4, 6, 8, 'apple', 2, 4, 6, 8, 'apple', 2, 4, 6, 8]"
      ]
     },
     "execution_count": 128,
     "metadata": {},
     "output_type": "execute_result"
    }
   ],
   "source": [
    "a=['apple',2,4,6,8]\n",
    "a*3 # Repetetion"
   ]
  },
  {
   "cell_type": "code",
   "execution_count": 132,
   "id": "83357db8",
   "metadata": {},
   "outputs": [
    {
     "data": {
      "text/plain": [
       "['apple', 2, 8, 1, 'mango', 5, 7, 'apple', 2, 8, 1, 'mango', 5, 7]"
      ]
     },
     "execution_count": 132,
     "metadata": {},
     "output_type": "execute_result"
    }
   ],
   "source": [
    "a=['apple',2,8]\n",
    "b=[1,'mango',5,7]\n",
    "(a+b)*2"
   ]
  },
  {
   "cell_type": "code",
   "execution_count": 136,
   "id": "e1722926",
   "metadata": {},
   "outputs": [
    {
     "data": {
      "text/plain": [
       "[10, 10, 10]"
      ]
     },
     "execution_count": 136,
     "metadata": {},
     "output_type": "execute_result"
    }
   ],
   "source": [
    "s=[10]\n",
    "s*3"
   ]
  },
  {
   "cell_type": "code",
   "execution_count": 137,
   "id": "55919416",
   "metadata": {},
   "outputs": [
    {
     "data": {
      "text/plain": [
       "[10, 5, 10, 5, 10, 5]"
      ]
     },
     "execution_count": 137,
     "metadata": {},
     "output_type": "execute_result"
    }
   ],
   "source": [
    "s=[10]\n",
    "t=[5]\n",
    "(s+t)*3"
   ]
  },
  {
   "cell_type": "code",
   "execution_count": 145,
   "id": "95a195b8",
   "metadata": {},
   "outputs": [
    {
     "data": {
      "text/plain": [
       "True"
      ]
     },
     "execution_count": 145,
     "metadata": {},
     "output_type": "execute_result"
    }
   ],
   "source": [
    "a=['apple',2,4,6,8]\n",
    "b=[1,3,'mango',5,7]\n",
    "'apple' in a"
   ]
  },
  {
   "cell_type": "code",
   "execution_count": 147,
   "id": "5ac36ce9",
   "metadata": {},
   "outputs": [
    {
     "data": {
      "text/plain": [
       "False"
      ]
     },
     "execution_count": 147,
     "metadata": {},
     "output_type": "execute_result"
    }
   ],
   "source": [
    "'mango' in a"
   ]
  },
  {
   "cell_type": "code",
   "execution_count": 155,
   "id": "45a4847e",
   "metadata": {},
   "outputs": [
    {
     "name": "stdout",
     "output_type": "stream",
     "text": [
      "sai\n",
      "prabhu\n",
      "venky\n"
     ]
    }
   ],
   "source": [
    "names=['sai','vinay','prabhu','giri','venky','teja','arun']\n",
    "print(names[0])\n",
    "print(names[2])\n",
    "print(names[4])"
   ]
  },
  {
   "cell_type": "code",
   "execution_count": 156,
   "id": "4e9aeefb",
   "metadata": {},
   "outputs": [
    {
     "data": {
      "text/plain": [
       "['sai', 'vinay', 'prabhu']"
      ]
     },
     "execution_count": 156,
     "metadata": {},
     "output_type": "execute_result"
    }
   ],
   "source": [
    "names[:3]"
   ]
  },
  {
   "cell_type": "code",
   "execution_count": 168,
   "id": "8cbdc1c2",
   "metadata": {},
   "outputs": [
    {
     "name": "stdout",
     "output_type": "stream",
     "text": [
      "T\n",
      "Ta\n",
      "Tav\n",
      "Tavi\n",
      "Tavis\n",
      "Tavish\n",
      "av\n"
     ]
    }
   ],
   "source": [
    "s='Tavish'\n",
    "print(s[0])\n",
    "print(s[:2])\n",
    "print(s[0:3])\n",
    "print(s[0:4])\n",
    "print(s[0:5])\n",
    "print(s[0:6])\n",
    "print(s[1:3])"
   ]
  },
  {
   "cell_type": "code",
   "execution_count": null,
   "id": "81fa94ca",
   "metadata": {},
   "outputs": [],
   "source": []
  }
 ],
 "metadata": {
  "kernelspec": {
   "display_name": "Python 3 (ipykernel)",
   "language": "python",
   "name": "python3"
  },
  "language_info": {
   "codemirror_mode": {
    "name": "ipython",
    "version": 3
   },
   "file_extension": ".py",
   "mimetype": "text/x-python",
   "name": "python",
   "nbconvert_exporter": "python",
   "pygments_lexer": "ipython3",
   "version": "3.9.7"
  }
 },
 "nbformat": 4,
 "nbformat_minor": 5
}
