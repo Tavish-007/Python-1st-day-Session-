{
 "cells": [
  {
   "cell_type": "markdown",
   "id": "8961ac54",
   "metadata": {},
   "source": [
    "## Day-3 Session\n",
    "### 03-02-2022"
   ]
  },
  {
   "cell_type": "markdown",
   "id": "0b376228",
   "metadata": {},
   "source": [
    "### While \n",
    "- It executes block or set of instructions until the condition is false.\n",
    "- While we don't know the range\n",
    "- Excecute faster than the loop.\n",
    "- User incrementation."
   ]
  },
  {
   "cell_type": "code",
   "execution_count": 67,
   "id": "8ccbf7b2",
   "metadata": {},
   "outputs": [
    {
     "ename": "NameError",
     "evalue": "name 'initilization' is not defined",
     "output_type": "error",
     "traceback": [
      "\u001b[1;31m---------------------------------------------------------------------------\u001b[0m",
      "\u001b[1;31mNameError\u001b[0m                                 Traceback (most recent call last)",
      "\u001b[1;32m~\\AppData\\Local\\Temp/ipykernel_1220/1182462571.py\u001b[0m in \u001b[0;36m<module>\u001b[1;34m\u001b[0m\n\u001b[0;32m      1\u001b[0m \u001b[1;31m# While Syntax\u001b[0m\u001b[1;33m\u001b[0m\u001b[1;33m\u001b[0m\u001b[0m\n\u001b[1;32m----> 2\u001b[1;33m \u001b[0minitilization\u001b[0m\u001b[1;33m\u001b[0m\u001b[1;33m\u001b[0m\u001b[0m\n\u001b[0m\u001b[0;32m      3\u001b[0m \u001b[1;32mwhile\u001b[0m \u001b[0mcondition\u001b[0m\u001b[1;33m:\u001b[0m\u001b[1;33m\u001b[0m\u001b[1;33m\u001b[0m\u001b[0m\n\u001b[0;32m      4\u001b[0m     \u001b[0mstatements\u001b[0m\u001b[1;33m\u001b[0m\u001b[1;33m\u001b[0m\u001b[0m\n\u001b[0;32m      5\u001b[0m     \u001b[0mincr\u001b[0m\u001b[1;33m/\u001b[0m\u001b[0mdecrement\u001b[0m\u001b[1;33m\u001b[0m\u001b[1;33m\u001b[0m\u001b[0m\n",
      "\u001b[1;31mNameError\u001b[0m: name 'initilization' is not defined"
     ]
    }
   ],
   "source": [
    "# While Syntax\n",
    "initilization\n",
    "while condition:\n",
    "    statements\n",
    "    incr/decrement"
   ]
  },
  {
   "cell_type": "code",
   "execution_count": null,
   "id": "d939c710",
   "metadata": {},
   "outputs": [],
   "source": [
    "n=1\n",
    "while n<=5:\n",
    "    print(\"\\nWelcome to Everyone\")\n",
    "    n=n+1"
   ]
  },
  {
   "cell_type": "code",
   "execution_count": null,
   "id": "2623f368",
   "metadata": {},
   "outputs": [],
   "source": [
    "n=10\n",
    "while (n>=1):\n",
    "    print(n,end=\" \")\n",
    "    n=n-1"
   ]
  },
  {
   "cell_type": "code",
   "execution_count": null,
   "id": "043e6833",
   "metadata": {},
   "outputs": [],
   "source": [
    "# i/p 1234\n",
    "# o/p digit count:4\n",
    "s=int(input())\n",
    "c=0\n",
    "while(s!=0): #1234!=0 123!=0 12!=0 1!=0\n",
    "    c=c+1\n",
    "    s=s//10\n",
    "print(\"\\nDigit count:\",c)"
   ]
  },
  {
   "cell_type": "code",
   "execution_count": null,
   "id": "58ac6fc7",
   "metadata": {},
   "outputs": [],
   "source": [
    "# Check the given is palindrome\n",
    "# 121--121\n",
    "# mom--mom\n",
    "n=int(input())\n",
    "temp=n\n",
    "rev=0\n",
    "while(n!=0):\n",
    "    rem=n%10\n",
    "    rev=rev*10+rem\n",
    "    n=n//10\n",
    "if(temp==rev):\n",
    "    print(\"palindrome\")\n",
    "else:\n",
    "    print(\"Not a palindrome\")"
   ]
  },
  {
   "cell_type": "code",
   "execution_count": 68,
   "id": "884cfdae",
   "metadata": {},
   "outputs": [
    {
     "ename": "SyntaxError",
     "evalue": "invalid syntax (Temp/ipykernel_1220/2863059285.py, line 6)",
     "output_type": "error",
     "traceback": [
      "\u001b[1;36m  File \u001b[1;32m\"C:\\Users\\Lab\\AppData\\Local\\Temp/ipykernel_1220/2863059285.py\"\u001b[1;36m, line \u001b[1;32m6\u001b[0m\n\u001b[1;33m    ----------\u001b[0m\n\u001b[1;37m              ^\u001b[0m\n\u001b[1;31mSyntaxError\u001b[0m\u001b[1;31m:\u001b[0m invalid syntax\n"
     ]
    }
   ],
   "source": [
    "# Syntax::Nested for loop\n",
    "for iter in range(start,end,step):\n",
    "    for iter in range(start,end,step):\n",
    "        statement1\n",
    "        statement2\n",
    "        ----------\n",
    "        statementn"
   ]
  },
  {
   "cell_type": "markdown",
   "id": "5baadea8",
   "metadata": {},
   "source": [
    "### Matrix format\n",
    "- Rows,columns\n",
    "- 2dimensional  \n",
    "    1 2 3  \n",
    "    1 2 3  \n",
    "    "
   ]
  },
  {
   "cell_type": "code",
   "execution_count": null,
   "id": "5e0d722b",
   "metadata": {},
   "outputs": [],
   "source": [
    "for row in range(1,5):\n",
    "    for column in range(1,5):\n",
    "        print(row,end=\" \")\n",
    "    print()#New line"
   ]
  },
  {
   "cell_type": "code",
   "execution_count": null,
   "id": "af3cb03f",
   "metadata": {},
   "outputs": [],
   "source": [
    "for row in range(1,6):\n",
    "    for column in range(1,9):\n",
    "        print(\"*\",end=\" \")\n",
    "    print()#New line"
   ]
  },
  {
   "cell_type": "code",
   "execution_count": null,
   "id": "b31b2a5d",
   "metadata": {},
   "outputs": [],
   "source": [
    "*\n",
    "* *\n",
    "* * * \n",
    "* * * *\n",
    "* * * * *"
   ]
  },
  {
   "cell_type": "code",
   "execution_count": null,
   "id": "70f99f4e",
   "metadata": {},
   "outputs": [],
   "source": [
    "for row in range(1,6):\n",
    "    for column in range(1,row+1):\n",
    "        print(\"*\",end=\" \")\n",
    "    print(\"\")#New line"
   ]
  },
  {
   "cell_type": "code",
   "execution_count": null,
   "id": "571ed83b",
   "metadata": {},
   "outputs": [],
   "source": [
    "for row in range(5,0,-1):\n",
    "    for column in range(1,row+1):\n",
    "        print(\"*\",end=\" \")\n",
    "    print(\"\")#New line"
   ]
  },
  {
   "cell_type": "code",
   "execution_count": null,
   "id": "dc5a2b73",
   "metadata": {},
   "outputs": [],
   "source": [
    "for row in range(1,6):\n",
    "    for column in range(1,row+1):\n",
    "        print(\"*\",end=\" \")\n",
    "    print(\"\")#New line\n",
    "print(\"\\n\")\n",
    "for row in range(5,0,-1):\n",
    "    for column in range(1,row+1):\n",
    "        print(\"*\",end=\" \")\n",
    "    print(\"\")#New line"
   ]
  },
  {
   "cell_type": "code",
   "execution_count": null,
   "id": "b9717138",
   "metadata": {},
   "outputs": [],
   "source": [
    "# 1-10 \n",
    "# prime numbers 2,3,5,7\n",
    "f=int(input())\n",
    "e=int(input())\n",
    "for num in range(f,e+1): #num=1 num=2 num=3 num=4\n",
    "    c=0\n",
    "    for var in range(1,1+num): #(1,1) (1,2) (1,2) (1,4)\n",
    "        if(num%var==0):\n",
    "            c+=1\n",
    "    if(c==2):\n",
    "        print(num,end=\" \")"
   ]
  },
  {
   "cell_type": "code",
   "execution_count": null,
   "id": "dadea1f2",
   "metadata": {},
   "outputs": [],
   "source": [
    "for n in range(1,11):\n",
    "    for i in range(1,11):\n",
    "        print(n,\"*\",i,\"=\",n*i,end=\"\\n\")"
   ]
  },
  {
   "cell_type": "code",
   "execution_count": null,
   "id": "6489c1b2",
   "metadata": {},
   "outputs": [],
   "source": [
    "# Nested while+\n",
    "- loop inside another loop"
   ]
  },
  {
   "cell_type": "code",
   "execution_count": null,
   "id": "afb1c94b",
   "metadata": {},
   "outputs": [],
   "source": [
    "# syntax\n",
    "initilization\n",
    "while condition:\n",
    "    statements\n",
    "    increment/decrement\n",
    "    while condition:\n",
    "        statemenst\n",
    "        increment/decrement"
   ]
  },
  {
   "cell_type": "code",
   "execution_count": null,
   "id": "e8442ddf",
   "metadata": {},
   "outputs": [],
   "source": [
    "# 1 to 10 prime numbers\n",
    "i=1\n",
    "while i<=10:\n",
    "    j=1\n",
    "    while j<=10:\n",
    "        print(i,\"*\",j,\"=\",i*j)\n",
    "        j+=1\n",
    "    print()\n",
    "    i+=1"
   ]
  },
  {
   "cell_type": "markdown",
   "id": "b4ab0ba9",
   "metadata": {},
   "source": [
    "### Jump statements\n",
    "- We called as unconditional jumps\n",
    "    - Break\n",
    "    - Continue\n",
    "    - Pass"
   ]
  },
  {
   "cell_type": "markdown",
   "id": "2840c1be",
   "metadata": {},
   "source": [
    "### Break\n",
    "- Terminates the current loop statements\n",
    "- Break is a keyword"
   ]
  },
  {
   "cell_type": "code",
   "execution_count": null,
   "id": "bf4e3001",
   "metadata": {},
   "outputs": [],
   "source": [
    "for i in \"python\":\n",
    "    if i==\"h\":\n",
    "        break\n",
    "    print(i)"
   ]
  },
  {
   "cell_type": "code",
   "execution_count": null,
   "id": "51a3ac70",
   "metadata": {},
   "outputs": [],
   "source": [
    "i=int(input())\n",
    "while(i<=10):\n",
    "    i+=1\n",
    "    if i==6:\n",
    "        break\n",
    "    print(i)"
   ]
  },
  {
   "cell_type": "code",
   "execution_count": null,
   "id": "4ee32f07",
   "metadata": {},
   "outputs": [],
   "source": [
    "i=1\n",
    "while(i<=10):\n",
    "    i+=1\n",
    "    if i==6:\n",
    "        break\n",
    "    print(i)"
   ]
  },
  {
   "cell_type": "markdown",
   "id": "274c3dcb",
   "metadata": {},
   "source": [
    "### Continue\n",
    "- It skips only current iteration and continue the next iteration \n",
    "- Continue is also a keyword"
   ]
  },
  {
   "cell_type": "code",
   "execution_count": null,
   "id": "3150021e",
   "metadata": {},
   "outputs": [],
   "source": [
    "for i in range(10):\n",
    "    if i<6:\n",
    "        continue\n",
    "        print(\"Set to print\")\n",
    "    print(i)"
   ]
  },
  {
   "cell_type": "code",
   "execution_count": null,
   "id": "d87ec70c",
   "metadata": {},
   "outputs": [],
   "source": [
    "# print odd numbers using even numbers \n",
    "for i in range(1,10):\n",
    "    if i%2==0:\n",
    "        continue\n",
    "    print(i,end=\" \")"
   ]
  },
  {
   "cell_type": "markdown",
   "id": "01ec65bd",
   "metadata": {},
   "source": [
    "### Pass\n",
    "- It is a keyword\n",
    "- When we need condition scientifically correct need to change another operation.\n",
    "- It is a null operation.\n",
    "- Pass statement we use to create empty classes also"
   ]
  },
  {
   "cell_type": "code",
   "execution_count": null,
   "id": "5abc804c",
   "metadata": {},
   "outputs": [],
   "source": [
    "s=\"python\"\n",
    "for i in s:\n",
    "    if i==\"h\":\n",
    "        pass\n",
    "        print(\"\\nPass Executed\\n\")\n",
    "    print(i)"
   ]
  },
  {
   "cell_type": "markdown",
   "id": "5681fa5b",
   "metadata": {},
   "source": [
    "### String\n",
    "- String is a group of characters\n",
    "- String is a derived datatype and immutable\n",
    "- All strings return a new values."
   ]
  },
  {
   "cell_type": "code",
   "execution_count": null,
   "id": "77ac9c38",
   "metadata": {},
   "outputs": [],
   "source": [
    "a=\"Engineering\"\n",
    "print(type(a))"
   ]
  },
  {
   "cell_type": "code",
   "execution_count": null,
   "id": "830737ce",
   "metadata": {},
   "outputs": [],
   "source": [
    "print(len(a))"
   ]
  },
  {
   "cell_type": "code",
   "execution_count": null,
   "id": "1bb2e8de",
   "metadata": {},
   "outputs": [],
   "source": [
    "a=\"GoodMorning\"\n",
    "print(type(a))\n",
    "print(len(a))\n",
    "print(min(a))\n",
    "print(max(a))\n",
    "print(sorted(a))"
   ]
  },
  {
   "cell_type": "code",
   "execution_count": null,
   "id": "c3b42b19",
   "metadata": {},
   "outputs": [],
   "source": [
    "s=\"python\"\n",
    "s1=\"workshop\"\n",
    "print(s+s1)\n",
    "print(s,s1)\n",
    "print(s*s1)"
   ]
  },
  {
   "cell_type": "code",
   "execution_count": null,
   "id": "40ba89cc",
   "metadata": {},
   "outputs": [],
   "source": [
    "s=10\n",
    "s1=20\n",
    "print(s+s1)\n",
    "print(s,s1)\n",
    "print(s*s1)"
   ]
  },
  {
   "cell_type": "code",
   "execution_count": null,
   "id": "cb221ce3",
   "metadata": {},
   "outputs": [],
   "source": [
    "# slicing syntax(start:end:step)\n",
    "# positive indexing(Left to right)\n",
    "# negative indexing(right to left)\n",
    "s=\"Python Workshops\"\n",
    "print(len(s))\n",
    "print(s[0])\n",
    "print(s[14])\n",
    "print(s[5])\n",
    "print(s[-1])\n",
    "print(s[-11])\n",
    "print(s[9])\n",
    "print(s[::])\n",
    "print(s[::-1])\n",
    "print(s[0:4])\n",
    "print(s[3:11])\n",
    "print(s[-1::-13])"
   ]
  },
  {
   "cell_type": "code",
   "execution_count": null,
   "id": "aece8c65",
   "metadata": {},
   "outputs": [],
   "source": [
    "dir(str)"
   ]
  },
  {
   "cell_type": "code",
   "execution_count": null,
   "id": "daf5110c",
   "metadata": {},
   "outputs": [],
   "source": []
  }
 ],
 "metadata": {
  "kernelspec": {
   "display_name": "Python 3 (ipykernel)",
   "language": "python",
   "name": "python3"
  },
  "language_info": {
   "codemirror_mode": {
    "name": "ipython",
    "version": 3
   },
   "file_extension": ".py",
   "mimetype": "text/x-python",
   "name": "python",
   "nbconvert_exporter": "python",
   "pygments_lexer": "ipython3",
   "version": "3.9.7"
  }
 },
 "nbformat": 4,
 "nbformat_minor": 5
}
